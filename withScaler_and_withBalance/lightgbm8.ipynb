{
 "cells": [
  {
   "cell_type": "code",
   "execution_count": 1,
   "metadata": {},
   "outputs": [],
   "source": [
    "# pip install imbalanced-learn\n",
    "# pip install lightgbm\n",
    "\n",
    "import pandas as pd\n",
    "import os\n",
    "from sklearn.preprocessing import StandardScaler\n",
    "from tqdm import tqdm\n",
    "from lightgbm import LGBMClassifier\n",
    "from sklearn.metrics import accuracy_score, recall_score, precision_score, f1_score\n",
    "from imblearn.over_sampling import SMOTE"
   ]
  },
  {
   "cell_type": "code",
   "execution_count": 2,
   "metadata": {},
   "outputs": [],
   "source": [
    "DATASET_DIRECTORY = '../dataset/CICIoT2023/'"
   ]
  },
  {
   "cell_type": "code",
   "execution_count": 3,
   "metadata": {},
   "outputs": [],
   "source": [
    "# Defina suas colunas de entrada X e a coluna de saída y\n",
    "X_columns = [\n",
    "    'flow_duration', 'Header_Length', 'Protocol Type', 'Duration',\n",
    "    'Rate', 'Srate', 'Drate', 'fin_flag_number', 'syn_flag_number',\n",
    "    'rst_flag_number', 'psh_flag_number', 'ack_flag_number',\n",
    "    'ece_flag_number', 'cwr_flag_number', 'ack_count',\n",
    "    'syn_count', 'fin_count', 'urg_count', 'rst_count',\n",
    "    'HTTP', 'HTTPS', 'DNS', 'Telnet', 'SMTP', 'SSH', 'IRC', 'TCP',\n",
    "    'UDP', 'DHCP', 'ARP', 'ICMP', 'IPv', 'LLC', 'Tot sum', 'Min',\n",
    "    'Max', 'AVG', 'Std', 'Tot size', 'IAT', 'Number', 'Magnitue',\n",
    "    'Radius', 'Covariance', 'Variance', 'Weight',\n",
    "]\n",
    "y_column = 'label'"
   ]
  },
  {
   "cell_type": "code",
   "execution_count": 4,
   "metadata": {},
   "outputs": [],
   "source": [
    "# Obtém a lista de arquivos CSV no diretório\n",
    "df_sets = [k for k in os.listdir(DATASET_DIRECTORY) if k.endswith('.csv')]\n",
    "df_sets.sort()\n",
    "\n",
    "# Divide os conjuntos de treinamento e teste\n",
    "training_sets = df_sets[:int(len(df_sets) * 0.8)]\n",
    "test_sets = df_sets[int(len(df_sets) * 0.8):]"
   ]
  },
  {
   "cell_type": "code",
   "execution_count": 5,
   "metadata": {},
   "outputs": [],
   "source": [
    "# Inicializa o scaler fora do loop\n",
    "scaler = StandardScaler()"
   ]
  },
  {
   "cell_type": "code",
   "execution_count": 6,
   "metadata": {},
   "outputs": [],
   "source": [
    "# Inicializa um dicionário para mapear rótulos de classe\n",
    "dict_7classes = {}\n",
    "dict_7classes['DDoS-RSTFINFlood'] = 'DDoS'\n",
    "dict_7classes['DDoS-PSHACK_Flood'] = 'DDoS'\n",
    "dict_7classes['DDoS-SYN_Flood'] = 'DDoS'\n",
    "dict_7classes['DDoS-UDP_Flood'] = 'DDoS'\n",
    "dict_7classes['DDoS-TCP_Flood'] = 'DDoS'\n",
    "dict_7classes['DDoS-ICMP_Flood'] = 'DDoS'\n",
    "dict_7classes['DDoS-SynonymousIP_Flood'] = 'DDoS'\n",
    "dict_7classes['DDoS-ACK_Fragmentation'] = 'DDoS'\n",
    "dict_7classes['DDoS-UDP_Fragmentation'] = 'DDoS'\n",
    "dict_7classes['DDoS-ICMP_Fragmentation'] = 'DDoS'\n",
    "dict_7classes['DDoS-SlowLoris'] = 'DDoS'\n",
    "dict_7classes['DDoS-HTTP_Flood'] = 'DDoS'\n",
    "\n",
    "dict_7classes['DoS-UDP_Flood'] = 'DoS'\n",
    "dict_7classes['DoS-SYN_Flood'] = 'DoS'\n",
    "dict_7classes['DoS-TCP_Flood'] = 'DoS'\n",
    "dict_7classes['DoS-HTTP_Flood'] = 'DoS'\n",
    "\n",
    "\n",
    "dict_7classes['Mirai-greeth_flood'] = 'Mirai'\n",
    "dict_7classes['Mirai-greip_flood'] = 'Mirai'\n",
    "dict_7classes['Mirai-udpplain'] = 'Mirai'\n",
    "\n",
    "dict_7classes['Recon-PingSweep'] = 'Recon'\n",
    "dict_7classes['Recon-OSScan'] = 'Recon'\n",
    "dict_7classes['Recon-PortScan'] = 'Recon'\n",
    "dict_7classes['VulnerabilityScan'] = 'Recon'\n",
    "dict_7classes['Recon-HostDiscovery'] = 'Recon'\n",
    "\n",
    "dict_7classes['DNS_Spoofing'] = 'Spoofing'\n",
    "dict_7classes['MITM-ArpSpoofing'] = 'Spoofing'\n",
    "\n",
    "dict_7classes['BenignTraffic'] = 'Benign'\n",
    "\n",
    "dict_7classes['BrowserHijacking'] = 'Web'\n",
    "dict_7classes['Backdoor_Malware'] = 'Web'\n",
    "dict_7classes['XSS'] = 'Web'\n",
    "dict_7classes['Uploading_Attack'] = 'Web'\n",
    "dict_7classes['SqlInjection'] = 'Web'\n",
    "dict_7classes['CommandInjection'] = 'Web'\n",
    "\n",
    "\n",
    "dict_7classes['DictionaryBruteForce'] = 'BruteForce'"
   ]
  },
  {
   "cell_type": "code",
   "execution_count": 8,
   "metadata": {},
   "outputs": [
    {
     "name": "stderr",
     "output_type": "stream",
     "text": [
      "  0%|          | 0/135 [00:00<?, ?it/s]"
     ]
    },
    {
     "name": "stdout",
     "output_type": "stream",
     "text": [
      "[LightGBM] [Warning] Found whitespace in feature_names, replace with underlines\n",
      "[LightGBM] [Info] Auto-choosing row-wise multi-threading, the overhead of testing was 0.113704 seconds.\n",
      "You can set `force_row_wise=true` to remove the overhead.\n",
      "And if memory is not enough, you can set `force_col_wise=true`.\n",
      "[LightGBM] [Info] Total Bins 7965\n",
      "[LightGBM] [Info] Number of data points in the train set: 1390216, number of used features: 40\n",
      "[LightGBM] [Info] Start training from score -2.079442\n",
      "[LightGBM] [Info] Start training from score -2.079442\n",
      "[LightGBM] [Info] Start training from score -2.079442\n",
      "[LightGBM] [Info] Start training from score -2.079442\n",
      "[LightGBM] [Info] Start training from score -2.079442\n",
      "[LightGBM] [Info] Start training from score -2.079442\n",
      "[LightGBM] [Info] Start training from score -2.079442\n",
      "[LightGBM] [Info] Start training from score -2.079442\n"
     ]
    },
    {
     "name": "stderr",
     "output_type": "stream",
     "text": [
      "  1%|          | 1/135 [02:09<4:50:07, 129.91s/it]"
     ]
    },
    {
     "name": "stdout",
     "output_type": "stream",
     "text": [
      "[LightGBM] [Warning] Found whitespace in feature_names, replace with underlines\n",
      "[LightGBM] [Info] Auto-choosing row-wise multi-threading, the overhead of testing was 0.115912 seconds.\n",
      "You can set `force_row_wise=true` to remove the overhead.\n",
      "And if memory is not enough, you can set `force_col_wise=true`.\n",
      "[LightGBM] [Info] Total Bins 7859\n",
      "[LightGBM] [Info] Number of data points in the train set: 1275272, number of used features: 40\n",
      "[LightGBM] [Info] Start training from score -2.079442\n",
      "[LightGBM] [Info] Start training from score -2.079442\n",
      "[LightGBM] [Info] Start training from score -2.079442\n",
      "[LightGBM] [Info] Start training from score -2.079442\n",
      "[LightGBM] [Info] Start training from score -2.079442\n",
      "[LightGBM] [Info] Start training from score -2.079442\n",
      "[LightGBM] [Info] Start training from score -2.079442\n",
      "[LightGBM] [Info] Start training from score -2.079442\n"
     ]
    },
    {
     "name": "stderr",
     "output_type": "stream",
     "text": [
      "  1%|▏         | 2/135 [04:06<4:31:13, 122.35s/it]"
     ]
    },
    {
     "name": "stdout",
     "output_type": "stream",
     "text": [
      "[LightGBM] [Warning] Found whitespace in feature_names, replace with underlines\n",
      "[LightGBM] [Info] Auto-choosing row-wise multi-threading, the overhead of testing was 0.137266 seconds.\n",
      "You can set `force_row_wise=true` to remove the overhead.\n",
      "And if memory is not enough, you can set `force_col_wise=true`.\n",
      "[LightGBM] [Info] Total Bins 7831\n",
      "[LightGBM] [Info] Number of data points in the train set: 1601648, number of used features: 39\n",
      "[LightGBM] [Info] Start training from score -2.079442\n",
      "[LightGBM] [Info] Start training from score -2.079442\n",
      "[LightGBM] [Info] Start training from score -2.079442\n",
      "[LightGBM] [Info] Start training from score -2.079442\n",
      "[LightGBM] [Info] Start training from score -2.079442\n",
      "[LightGBM] [Info] Start training from score -2.079442\n",
      "[LightGBM] [Info] Start training from score -2.079442\n",
      "[LightGBM] [Info] Start training from score -2.079442\n"
     ]
    },
    {
     "name": "stderr",
     "output_type": "stream",
     "text": [
      "  2%|▏         | 3/135 [06:38<4:58:51, 135.85s/it]"
     ]
    },
    {
     "name": "stdout",
     "output_type": "stream",
     "text": [
      "[LightGBM] [Warning] Found whitespace in feature_names, replace with underlines\n",
      "[LightGBM] [Info] Auto-choosing row-wise multi-threading, the overhead of testing was 0.112633 seconds.\n",
      "You can set `force_row_wise=true` to remove the overhead.\n",
      "And if memory is not enough, you can set `force_col_wise=true`.\n",
      "[LightGBM] [Info] Total Bins 7784\n",
      "[LightGBM] [Info] Number of data points in the train set: 1348008, number of used features: 40\n",
      "[LightGBM] [Info] Start training from score -2.079442\n",
      "[LightGBM] [Info] Start training from score -2.079442\n",
      "[LightGBM] [Info] Start training from score -2.079442\n",
      "[LightGBM] [Info] Start training from score -2.079442\n",
      "[LightGBM] [Info] Start training from score -2.079442\n",
      "[LightGBM] [Info] Start training from score -2.079442\n",
      "[LightGBM] [Info] Start training from score -2.079442\n",
      "[LightGBM] [Info] Start training from score -2.079442\n"
     ]
    },
    {
     "name": "stderr",
     "output_type": "stream",
     "text": [
      "  3%|▎         | 4/135 [08:42<4:45:48, 130.91s/it]"
     ]
    },
    {
     "name": "stdout",
     "output_type": "stream",
     "text": [
      "[LightGBM] [Warning] Found whitespace in feature_names, replace with underlines\n",
      "[LightGBM] [Info] Auto-choosing row-wise multi-threading, the overhead of testing was 0.110706 seconds.\n",
      "You can set `force_row_wise=true` to remove the overhead.\n",
      "And if memory is not enough, you can set `force_col_wise=true`.\n",
      "[LightGBM] [Info] Total Bins 8086\n",
      "[LightGBM] [Info] Number of data points in the train set: 1322072, number of used features: 41\n",
      "[LightGBM] [Info] Start training from score -2.079442\n",
      "[LightGBM] [Info] Start training from score -2.079442\n",
      "[LightGBM] [Info] Start training from score -2.079442\n",
      "[LightGBM] [Info] Start training from score -2.079442\n",
      "[LightGBM] [Info] Start training from score -2.079442\n",
      "[LightGBM] [Info] Start training from score -2.079442\n",
      "[LightGBM] [Info] Start training from score -2.079442\n",
      "[LightGBM] [Info] Start training from score -2.079442\n"
     ]
    },
    {
     "name": "stderr",
     "output_type": "stream",
     "text": [
      "  4%|▎         | 5/135 [10:37<4:31:05, 125.12s/it]"
     ]
    },
    {
     "name": "stdout",
     "output_type": "stream",
     "text": [
      "[LightGBM] [Warning] Found whitespace in feature_names, replace with underlines\n",
      "[LightGBM] [Info] Auto-choosing row-wise multi-threading, the overhead of testing was 0.119192 seconds.\n",
      "You can set `force_row_wise=true` to remove the overhead.\n",
      "And if memory is not enough, you can set `force_col_wise=true`.\n",
      "[LightGBM] [Info] Total Bins 8071\n",
      "[LightGBM] [Info] Number of data points in the train set: 1398400, number of used features: 39\n",
      "[LightGBM] [Info] Start training from score -2.079442\n",
      "[LightGBM] [Info] Start training from score -2.079442\n",
      "[LightGBM] [Info] Start training from score -2.079442\n",
      "[LightGBM] [Info] Start training from score -2.079442\n",
      "[LightGBM] [Info] Start training from score -2.079442\n",
      "[LightGBM] [Info] Start training from score -2.079442\n",
      "[LightGBM] [Info] Start training from score -2.079442\n",
      "[LightGBM] [Info] Start training from score -2.079442\n"
     ]
    },
    {
     "name": "stderr",
     "output_type": "stream",
     "text": [
      "  4%|▍         | 6/135 [12:51<4:35:59, 128.37s/it]"
     ]
    },
    {
     "name": "stdout",
     "output_type": "stream",
     "text": [
      "[LightGBM] [Warning] Found whitespace in feature_names, replace with underlines\n",
      "[LightGBM] [Info] Auto-choosing row-wise multi-threading, the overhead of testing was 0.120531 seconds.\n",
      "You can set `force_row_wise=true` to remove the overhead.\n",
      "And if memory is not enough, you can set `force_col_wise=true`.\n",
      "[LightGBM] [Info] Total Bins 8169\n",
      "[LightGBM] [Info] Number of data points in the train set: 1364192, number of used features: 39\n",
      "[LightGBM] [Info] Start training from score -2.079442\n",
      "[LightGBM] [Info] Start training from score -2.079442\n",
      "[LightGBM] [Info] Start training from score -2.079442\n",
      "[LightGBM] [Info] Start training from score -2.079442\n",
      "[LightGBM] [Info] Start training from score -2.079442\n",
      "[LightGBM] [Info] Start training from score -2.079442\n",
      "[LightGBM] [Info] Start training from score -2.079442\n",
      "[LightGBM] [Info] Start training from score -2.079442\n"
     ]
    },
    {
     "name": "stderr",
     "output_type": "stream",
     "text": [
      "  5%|▌         | 7/135 [14:59<4:33:10, 128.05s/it]"
     ]
    },
    {
     "name": "stdout",
     "output_type": "stream",
     "text": [
      "[LightGBM] [Warning] Found whitespace in feature_names, replace with underlines\n",
      "[LightGBM] [Info] Auto-choosing row-wise multi-threading, the overhead of testing was 0.115682 seconds.\n",
      "You can set `force_row_wise=true` to remove the overhead.\n",
      "And if memory is not enough, you can set `force_col_wise=true`.\n",
      "[LightGBM] [Info] Total Bins 8023\n",
      "[LightGBM] [Info] Number of data points in the train set: 1326824, number of used features: 40\n",
      "[LightGBM] [Info] Start training from score -2.079442\n",
      "[LightGBM] [Info] Start training from score -2.079442\n",
      "[LightGBM] [Info] Start training from score -2.079442\n",
      "[LightGBM] [Info] Start training from score -2.079442\n",
      "[LightGBM] [Info] Start training from score -2.079442\n",
      "[LightGBM] [Info] Start training from score -2.079442\n",
      "[LightGBM] [Info] Start training from score -2.079442\n",
      "[LightGBM] [Info] Start training from score -2.079442\n"
     ]
    },
    {
     "name": "stderr",
     "output_type": "stream",
     "text": [
      "  6%|▌         | 8/135 [16:57<4:24:29, 124.96s/it]"
     ]
    },
    {
     "name": "stdout",
     "output_type": "stream",
     "text": [
      "[LightGBM] [Warning] Found whitespace in feature_names, replace with underlines\n",
      "[LightGBM] [Info] Auto-choosing row-wise multi-threading, the overhead of testing was 0.124034 seconds.\n",
      "You can set `force_row_wise=true` to remove the overhead.\n",
      "And if memory is not enough, you can set `force_col_wise=true`.\n",
      "[LightGBM] [Info] Total Bins 7757\n",
      "[LightGBM] [Info] Number of data points in the train set: 1436792, number of used features: 41\n",
      "[LightGBM] [Info] Start training from score -2.079442\n",
      "[LightGBM] [Info] Start training from score -2.079442\n",
      "[LightGBM] [Info] Start training from score -2.079442\n",
      "[LightGBM] [Info] Start training from score -2.079442\n",
      "[LightGBM] [Info] Start training from score -2.079442\n",
      "[LightGBM] [Info] Start training from score -2.079442\n",
      "[LightGBM] [Info] Start training from score -2.079442\n",
      "[LightGBM] [Info] Start training from score -2.079442\n"
     ]
    },
    {
     "name": "stderr",
     "output_type": "stream",
     "text": [
      "  7%|▋         | 9/135 [19:03<4:23:14, 125.35s/it]"
     ]
    },
    {
     "name": "stdout",
     "output_type": "stream",
     "text": [
      "[LightGBM] [Warning] Found whitespace in feature_names, replace with underlines\n",
      "[LightGBM] [Info] Auto-choosing row-wise multi-threading, the overhead of testing was 0.111565 seconds.\n",
      "You can set `force_row_wise=true` to remove the overhead.\n",
      "And if memory is not enough, you can set `force_col_wise=true`.\n",
      "[LightGBM] [Info] Total Bins 8239\n",
      "[LightGBM] [Info] Number of data points in the train set: 1325432, number of used features: 41\n",
      "[LightGBM] [Info] Start training from score -2.079442\n",
      "[LightGBM] [Info] Start training from score -2.079442\n",
      "[LightGBM] [Info] Start training from score -2.079442\n",
      "[LightGBM] [Info] Start training from score -2.079442\n",
      "[LightGBM] [Info] Start training from score -2.079442\n",
      "[LightGBM] [Info] Start training from score -2.079442\n",
      "[LightGBM] [Info] Start training from score -2.079442\n",
      "[LightGBM] [Info] Start training from score -2.079442\n"
     ]
    },
    {
     "name": "stderr",
     "output_type": "stream",
     "text": [
      "  7%|▋         | 10/135 [21:03<4:17:34, 123.63s/it]"
     ]
    },
    {
     "name": "stdout",
     "output_type": "stream",
     "text": [
      "[LightGBM] [Warning] Found whitespace in feature_names, replace with underlines\n",
      "[LightGBM] [Info] Auto-choosing row-wise multi-threading, the overhead of testing was 0.125199 seconds.\n",
      "You can set `force_row_wise=true` to remove the overhead.\n",
      "And if memory is not enough, you can set `force_col_wise=true`.\n",
      "[LightGBM] [Info] Total Bins 8228\n",
      "[LightGBM] [Info] Number of data points in the train set: 1464184, number of used features: 41\n",
      "[LightGBM] [Info] Start training from score -2.079442\n",
      "[LightGBM] [Info] Start training from score -2.079442\n",
      "[LightGBM] [Info] Start training from score -2.079442\n",
      "[LightGBM] [Info] Start training from score -2.079442\n",
      "[LightGBM] [Info] Start training from score -2.079442\n",
      "[LightGBM] [Info] Start training from score -2.079442\n",
      "[LightGBM] [Info] Start training from score -2.079442\n",
      "[LightGBM] [Info] Start training from score -2.079442\n"
     ]
    },
    {
     "name": "stderr",
     "output_type": "stream",
     "text": [
      "  8%|▊         | 11/135 [23:16<4:21:31, 126.54s/it]"
     ]
    },
    {
     "name": "stdout",
     "output_type": "stream",
     "text": [
      "[LightGBM] [Warning] Found whitespace in feature_names, replace with underlines\n",
      "[LightGBM] [Info] Auto-choosing row-wise multi-threading, the overhead of testing was 0.114748 seconds.\n",
      "You can set `force_row_wise=true` to remove the overhead.\n",
      "And if memory is not enough, you can set `force_col_wise=true`.\n",
      "[LightGBM] [Info] Total Bins 7868\n",
      "[LightGBM] [Info] Number of data points in the train set: 1294272, number of used features: 42\n",
      "[LightGBM] [Info] Start training from score -2.079442\n",
      "[LightGBM] [Info] Start training from score -2.079442\n",
      "[LightGBM] [Info] Start training from score -2.079442\n",
      "[LightGBM] [Info] Start training from score -2.079442\n",
      "[LightGBM] [Info] Start training from score -2.079442\n",
      "[LightGBM] [Info] Start training from score -2.079442\n",
      "[LightGBM] [Info] Start training from score -2.079442\n",
      "[LightGBM] [Info] Start training from score -2.079442\n"
     ]
    },
    {
     "name": "stderr",
     "output_type": "stream",
     "text": [
      "  9%|▉         | 12/135 [24:59<4:04:56, 119.48s/it]"
     ]
    },
    {
     "name": "stdout",
     "output_type": "stream",
     "text": [
      "[LightGBM] [Warning] Found whitespace in feature_names, replace with underlines\n",
      "[LightGBM] [Info] Auto-choosing row-wise multi-threading, the overhead of testing was 0.115617 seconds.\n",
      "You can set `force_row_wise=true` to remove the overhead.\n",
      "And if memory is not enough, you can set `force_col_wise=true`.\n",
      "[LightGBM] [Info] Total Bins 7756\n",
      "[LightGBM] [Info] Number of data points in the train set: 1388696, number of used features: 40\n",
      "[LightGBM] [Info] Start training from score -2.079442\n",
      "[LightGBM] [Info] Start training from score -2.079442\n",
      "[LightGBM] [Info] Start training from score -2.079442\n",
      "[LightGBM] [Info] Start training from score -2.079442\n",
      "[LightGBM] [Info] Start training from score -2.079442\n",
      "[LightGBM] [Info] Start training from score -2.079442\n",
      "[LightGBM] [Info] Start training from score -2.079442\n",
      "[LightGBM] [Info] Start training from score -2.079442\n"
     ]
    },
    {
     "name": "stderr",
     "output_type": "stream",
     "text": [
      " 10%|▉         | 13/135 [26:56<4:01:13, 118.64s/it]"
     ]
    },
    {
     "name": "stdout",
     "output_type": "stream",
     "text": [
      "[LightGBM] [Warning] Found whitespace in feature_names, replace with underlines\n",
      "[LightGBM] [Info] Auto-choosing row-wise multi-threading, the overhead of testing was 0.118298 seconds.\n",
      "You can set `force_row_wise=true` to remove the overhead.\n",
      "And if memory is not enough, you can set `force_col_wise=true`.\n",
      "[LightGBM] [Info] Total Bins 7903\n",
      "[LightGBM] [Info] Number of data points in the train set: 1386912, number of used features: 41\n",
      "[LightGBM] [Info] Start training from score -2.079442\n",
      "[LightGBM] [Info] Start training from score -2.079442\n",
      "[LightGBM] [Info] Start training from score -2.079442\n",
      "[LightGBM] [Info] Start training from score -2.079442\n",
      "[LightGBM] [Info] Start training from score -2.079442\n",
      "[LightGBM] [Info] Start training from score -2.079442\n",
      "[LightGBM] [Info] Start training from score -2.079442\n",
      "[LightGBM] [Info] Start training from score -2.079442\n"
     ]
    },
    {
     "name": "stderr",
     "output_type": "stream",
     "text": [
      " 10%|█         | 14/135 [28:45<3:53:34, 115.82s/it]"
     ]
    },
    {
     "name": "stdout",
     "output_type": "stream",
     "text": [
      "[LightGBM] [Warning] Found whitespace in feature_names, replace with underlines\n",
      "[LightGBM] [Info] Auto-choosing row-wise multi-threading, the overhead of testing was 0.088900 seconds.\n",
      "You can set `force_row_wise=true` to remove the overhead.\n",
      "And if memory is not enough, you can set `force_col_wise=true`.\n",
      "[LightGBM] [Info] Total Bins 7983\n",
      "[LightGBM] [Info] Number of data points in the train set: 1258520, number of used features: 40\n",
      "[LightGBM] [Info] Start training from score -2.079442\n",
      "[LightGBM] [Info] Start training from score -2.079442\n",
      "[LightGBM] [Info] Start training from score -2.079442\n",
      "[LightGBM] [Info] Start training from score -2.079442\n",
      "[LightGBM] [Info] Start training from score -2.079442\n",
      "[LightGBM] [Info] Start training from score -2.079442\n",
      "[LightGBM] [Info] Start training from score -2.079442\n",
      "[LightGBM] [Info] Start training from score -2.079442\n"
     ]
    },
    {
     "name": "stderr",
     "output_type": "stream",
     "text": [
      " 11%|█         | 15/135 [30:25<3:41:32, 110.77s/it]"
     ]
    },
    {
     "name": "stdout",
     "output_type": "stream",
     "text": [
      "[LightGBM] [Warning] Found whitespace in feature_names, replace with underlines\n",
      "[LightGBM] [Info] Auto-choosing row-wise multi-threading, the overhead of testing was 0.154128 seconds.\n",
      "You can set `force_row_wise=true` to remove the overhead.\n",
      "And if memory is not enough, you can set `force_col_wise=true`.\n",
      "[LightGBM] [Info] Total Bins 8193\n",
      "[LightGBM] [Info] Number of data points in the train set: 1565440, number of used features: 41\n",
      "[LightGBM] [Info] Start training from score -2.079442\n",
      "[LightGBM] [Info] Start training from score -2.079442\n",
      "[LightGBM] [Info] Start training from score -2.079442\n",
      "[LightGBM] [Info] Start training from score -2.079442\n",
      "[LightGBM] [Info] Start training from score -2.079442\n",
      "[LightGBM] [Info] Start training from score -2.079442\n",
      "[LightGBM] [Info] Start training from score -2.079442\n",
      "[LightGBM] [Info] Start training from score -2.079442\n"
     ]
    },
    {
     "name": "stderr",
     "output_type": "stream",
     "text": [
      " 12%|█▏        | 16/135 [32:37<3:52:33, 117.25s/it]"
     ]
    },
    {
     "name": "stdout",
     "output_type": "stream",
     "text": [
      "[LightGBM] [Warning] Found whitespace in feature_names, replace with underlines\n",
      "[LightGBM] [Info] Auto-choosing row-wise multi-threading, the overhead of testing was 0.111758 seconds.\n",
      "You can set `force_row_wise=true` to remove the overhead.\n",
      "And if memory is not enough, you can set `force_col_wise=true`.\n",
      "[LightGBM] [Info] Total Bins 8033\n",
      "[LightGBM] [Info] Number of data points in the train set: 1354208, number of used features: 39\n",
      "[LightGBM] [Info] Start training from score -2.079442\n",
      "[LightGBM] [Info] Start training from score -2.079442\n",
      "[LightGBM] [Info] Start training from score -2.079442\n",
      "[LightGBM] [Info] Start training from score -2.079442\n",
      "[LightGBM] [Info] Start training from score -2.079442\n",
      "[LightGBM] [Info] Start training from score -2.079442\n",
      "[LightGBM] [Info] Start training from score -2.079442\n",
      "[LightGBM] [Info] Start training from score -2.079442\n"
     ]
    },
    {
     "name": "stderr",
     "output_type": "stream",
     "text": [
      " 13%|█▎        | 17/135 [34:22<3:43:09, 113.47s/it]"
     ]
    },
    {
     "name": "stdout",
     "output_type": "stream",
     "text": [
      "[LightGBM] [Warning] Found whitespace in feature_names, replace with underlines\n",
      "[LightGBM] [Info] Auto-choosing row-wise multi-threading, the overhead of testing was 0.097466 seconds.\n",
      "You can set `force_row_wise=true` to remove the overhead.\n",
      "And if memory is not enough, you can set `force_col_wise=true`.\n",
      "[LightGBM] [Info] Total Bins 7774\n",
      "[LightGBM] [Info] Number of data points in the train set: 1303304, number of used features: 40\n",
      "[LightGBM] [Info] Start training from score -2.079442\n",
      "[LightGBM] [Info] Start training from score -2.079442\n",
      "[LightGBM] [Info] Start training from score -2.079442\n",
      "[LightGBM] [Info] Start training from score -2.079442\n",
      "[LightGBM] [Info] Start training from score -2.079442\n",
      "[LightGBM] [Info] Start training from score -2.079442\n",
      "[LightGBM] [Info] Start training from score -2.079442\n",
      "[LightGBM] [Info] Start training from score -2.079442\n"
     ]
    },
    {
     "name": "stderr",
     "output_type": "stream",
     "text": [
      " 13%|█▎        | 18/135 [35:57<3:30:56, 108.18s/it]"
     ]
    },
    {
     "name": "stdout",
     "output_type": "stream",
     "text": [
      "[LightGBM] [Warning] Found whitespace in feature_names, replace with underlines\n",
      "[LightGBM] [Info] Auto-choosing row-wise multi-threading, the overhead of testing was 0.113123 seconds.\n",
      "You can set `force_row_wise=true` to remove the overhead.\n",
      "And if memory is not enough, you can set `force_col_wise=true`.\n",
      "[LightGBM] [Info] Total Bins 8180\n",
      "[LightGBM] [Info] Number of data points in the train set: 1368048, number of used features: 40\n",
      "[LightGBM] [Info] Start training from score -2.079442\n",
      "[LightGBM] [Info] Start training from score -2.079442\n",
      "[LightGBM] [Info] Start training from score -2.079442\n",
      "[LightGBM] [Info] Start training from score -2.079442\n",
      "[LightGBM] [Info] Start training from score -2.079442\n",
      "[LightGBM] [Info] Start training from score -2.079442\n",
      "[LightGBM] [Info] Start training from score -2.079442\n",
      "[LightGBM] [Info] Start training from score -2.079442\n"
     ]
    },
    {
     "name": "stderr",
     "output_type": "stream",
     "text": [
      " 14%|█▍        | 19/135 [37:44<3:28:16, 107.73s/it]"
     ]
    },
    {
     "name": "stdout",
     "output_type": "stream",
     "text": [
      "[LightGBM] [Warning] Found whitespace in feature_names, replace with underlines\n",
      "[LightGBM] [Info] Auto-choosing row-wise multi-threading, the overhead of testing was 0.109194 seconds.\n",
      "You can set `force_row_wise=true` to remove the overhead.\n",
      "And if memory is not enough, you can set `force_col_wise=true`.\n",
      "[LightGBM] [Info] Total Bins 7786\n",
      "[LightGBM] [Info] Number of data points in the train set: 1345040, number of used features: 41\n",
      "[LightGBM] [Info] Start training from score -2.079442\n",
      "[LightGBM] [Info] Start training from score -2.079442\n",
      "[LightGBM] [Info] Start training from score -2.079442\n",
      "[LightGBM] [Info] Start training from score -2.079442\n",
      "[LightGBM] [Info] Start training from score -2.079442\n",
      "[LightGBM] [Info] Start training from score -2.079442\n",
      "[LightGBM] [Info] Start training from score -2.079442\n",
      "[LightGBM] [Info] Start training from score -2.079442\n"
     ]
    },
    {
     "name": "stderr",
     "output_type": "stream",
     "text": [
      " 15%|█▍        | 20/135 [39:28<3:24:17, 106.59s/it]"
     ]
    },
    {
     "name": "stdout",
     "output_type": "stream",
     "text": [
      "[LightGBM] [Warning] Found whitespace in feature_names, replace with underlines\n",
      "[LightGBM] [Info] Auto-choosing row-wise multi-threading, the overhead of testing was 0.115139 seconds.\n",
      "You can set `force_row_wise=true` to remove the overhead.\n",
      "And if memory is not enough, you can set `force_col_wise=true`.\n",
      "[LightGBM] [Info] Total Bins 7838\n",
      "[LightGBM] [Info] Number of data points in the train set: 1384520, number of used features: 39\n",
      "[LightGBM] [Info] Start training from score -2.079442\n",
      "[LightGBM] [Info] Start training from score -2.079442\n",
      "[LightGBM] [Info] Start training from score -2.079442\n",
      "[LightGBM] [Info] Start training from score -2.079442\n",
      "[LightGBM] [Info] Start training from score -2.079442\n",
      "[LightGBM] [Info] Start training from score -2.079442\n",
      "[LightGBM] [Info] Start training from score -2.079442\n",
      "[LightGBM] [Info] Start training from score -2.079442\n"
     ]
    },
    {
     "name": "stderr",
     "output_type": "stream",
     "text": [
      " 16%|█▌        | 21/135 [41:16<3:23:09, 106.93s/it]"
     ]
    },
    {
     "name": "stdout",
     "output_type": "stream",
     "text": [
      "[LightGBM] [Warning] Found whitespace in feature_names, replace with underlines\n",
      "[LightGBM] [Info] Auto-choosing row-wise multi-threading, the overhead of testing was 0.108570 seconds.\n",
      "You can set `force_row_wise=true` to remove the overhead.\n",
      "And if memory is not enough, you can set `force_col_wise=true`.\n",
      "[LightGBM] [Info] Total Bins 7999\n",
      "[LightGBM] [Info] Number of data points in the train set: 1300144, number of used features: 39\n",
      "[LightGBM] [Info] Start training from score -2.079442\n",
      "[LightGBM] [Info] Start training from score -2.079442\n",
      "[LightGBM] [Info] Start training from score -2.079442\n",
      "[LightGBM] [Info] Start training from score -2.079442\n",
      "[LightGBM] [Info] Start training from score -2.079442\n",
      "[LightGBM] [Info] Start training from score -2.079442\n",
      "[LightGBM] [Info] Start training from score -2.079442\n",
      "[LightGBM] [Info] Start training from score -2.079442\n"
     ]
    },
    {
     "name": "stderr",
     "output_type": "stream",
     "text": [
      " 16%|█▋        | 22/135 [43:00<3:19:46, 106.07s/it]"
     ]
    },
    {
     "name": "stdout",
     "output_type": "stream",
     "text": [
      "[LightGBM] [Warning] Found whitespace in feature_names, replace with underlines\n",
      "[LightGBM] [Info] Auto-choosing row-wise multi-threading, the overhead of testing was 0.114630 seconds.\n",
      "You can set `force_row_wise=true` to remove the overhead.\n",
      "And if memory is not enough, you can set `force_col_wise=true`.\n",
      "[LightGBM] [Info] Total Bins 7754\n",
      "[LightGBM] [Info] Number of data points in the train set: 1465768, number of used features: 39\n",
      "[LightGBM] [Info] Start training from score -2.079442\n",
      "[LightGBM] [Info] Start training from score -2.079442\n",
      "[LightGBM] [Info] Start training from score -2.079442\n",
      "[LightGBM] [Info] Start training from score -2.079442\n",
      "[LightGBM] [Info] Start training from score -2.079442\n",
      "[LightGBM] [Info] Start training from score -2.079442\n",
      "[LightGBM] [Info] Start training from score -2.079442\n",
      "[LightGBM] [Info] Start training from score -2.079442\n"
     ]
    },
    {
     "name": "stderr",
     "output_type": "stream",
     "text": [
      " 17%|█▋        | 23/135 [45:07<3:29:52, 112.44s/it]"
     ]
    },
    {
     "name": "stdout",
     "output_type": "stream",
     "text": [
      "[LightGBM] [Warning] Found whitespace in feature_names, replace with underlines\n",
      "[LightGBM] [Info] Auto-choosing row-wise multi-threading, the overhead of testing was 0.097249 seconds.\n",
      "You can set `force_row_wise=true` to remove the overhead.\n",
      "And if memory is not enough, you can set `force_col_wise=true`.\n",
      "[LightGBM] [Info] Total Bins 7774\n",
      "[LightGBM] [Info] Number of data points in the train set: 1527080, number of used features: 40\n",
      "[LightGBM] [Info] Start training from score -2.079442\n",
      "[LightGBM] [Info] Start training from score -2.079442\n",
      "[LightGBM] [Info] Start training from score -2.079442\n",
      "[LightGBM] [Info] Start training from score -2.079442\n",
      "[LightGBM] [Info] Start training from score -2.079442\n",
      "[LightGBM] [Info] Start training from score -2.079442\n",
      "[LightGBM] [Info] Start training from score -2.079442\n",
      "[LightGBM] [Info] Start training from score -2.079442\n"
     ]
    },
    {
     "name": "stderr",
     "output_type": "stream",
     "text": [
      " 18%|█▊        | 24/135 [47:05<3:30:55, 114.01s/it]"
     ]
    },
    {
     "name": "stdout",
     "output_type": "stream",
     "text": [
      "[LightGBM] [Warning] Found whitespace in feature_names, replace with underlines\n",
      "[LightGBM] [Info] Auto-choosing row-wise multi-threading, the overhead of testing was 0.079881 seconds.\n",
      "You can set `force_row_wise=true` to remove the overhead.\n",
      "And if memory is not enough, you can set `force_col_wise=true`.\n",
      "[LightGBM] [Info] Total Bins 7842\n",
      "[LightGBM] [Info] Number of data points in the train set: 1314640, number of used features: 39\n",
      "[LightGBM] [Info] Start training from score -2.079442\n",
      "[LightGBM] [Info] Start training from score -2.079442\n",
      "[LightGBM] [Info] Start training from score -2.079442\n",
      "[LightGBM] [Info] Start training from score -2.079442\n",
      "[LightGBM] [Info] Start training from score -2.079442\n",
      "[LightGBM] [Info] Start training from score -2.079442\n",
      "[LightGBM] [Info] Start training from score -2.079442\n",
      "[LightGBM] [Info] Start training from score -2.079442\n"
     ]
    },
    {
     "name": "stderr",
     "output_type": "stream",
     "text": [
      " 19%|█▊        | 25/135 [48:26<3:10:44, 104.04s/it]"
     ]
    },
    {
     "name": "stdout",
     "output_type": "stream",
     "text": [
      "[LightGBM] [Warning] Found whitespace in feature_names, replace with underlines\n",
      "[LightGBM] [Info] Auto-choosing row-wise multi-threading, the overhead of testing was 0.161300 seconds.\n",
      "You can set `force_row_wise=true` to remove the overhead.\n",
      "And if memory is not enough, you can set `force_col_wise=true`.\n",
      "[LightGBM] [Info] Total Bins 7808\n",
      "[LightGBM] [Info] Number of data points in the train set: 2607568, number of used features: 41\n",
      "[LightGBM] [Info] Start training from score -2.079442\n",
      "[LightGBM] [Info] Start training from score -2.079442\n",
      "[LightGBM] [Info] Start training from score -2.079442\n",
      "[LightGBM] [Info] Start training from score -2.079442\n",
      "[LightGBM] [Info] Start training from score -2.079442\n",
      "[LightGBM] [Info] Start training from score -2.079442\n",
      "[LightGBM] [Info] Start training from score -2.079442\n",
      "[LightGBM] [Info] Start training from score -2.079442\n"
     ]
    },
    {
     "name": "stderr",
     "output_type": "stream",
     "text": [
      " 19%|█▉        | 26/135 [51:57<4:07:42, 136.36s/it]"
     ]
    },
    {
     "name": "stdout",
     "output_type": "stream",
     "text": [
      "[LightGBM] [Warning] Found whitespace in feature_names, replace with underlines\n",
      "[LightGBM] [Info] Auto-choosing row-wise multi-threading, the overhead of testing was 0.091418 seconds.\n",
      "You can set `force_row_wise=true` to remove the overhead.\n",
      "And if memory is not enough, you can set `force_col_wise=true`.\n",
      "[LightGBM] [Info] Total Bins 8008\n",
      "[LightGBM] [Info] Number of data points in the train set: 1375336, number of used features: 39\n",
      "[LightGBM] [Info] Start training from score -2.079442\n",
      "[LightGBM] [Info] Start training from score -2.079442\n",
      "[LightGBM] [Info] Start training from score -2.079442\n",
      "[LightGBM] [Info] Start training from score -2.079442\n",
      "[LightGBM] [Info] Start training from score -2.079442\n",
      "[LightGBM] [Info] Start training from score -2.079442\n",
      "[LightGBM] [Info] Start training from score -2.079442\n",
      "[LightGBM] [Info] Start training from score -2.079442\n"
     ]
    },
    {
     "name": "stderr",
     "output_type": "stream",
     "text": [
      " 20%|██        | 27/135 [53:21<3:36:53, 120.50s/it]"
     ]
    },
    {
     "name": "stdout",
     "output_type": "stream",
     "text": [
      "[LightGBM] [Warning] Found whitespace in feature_names, replace with underlines\n",
      "[LightGBM] [Info] Auto-choosing row-wise multi-threading, the overhead of testing was 0.082397 seconds.\n",
      "You can set `force_row_wise=true` to remove the overhead.\n",
      "And if memory is not enough, you can set `force_col_wise=true`.\n",
      "[LightGBM] [Info] Total Bins 7975\n",
      "[LightGBM] [Info] Number of data points in the train set: 1283800, number of used features: 40\n",
      "[LightGBM] [Info] Start training from score -2.079442\n",
      "[LightGBM] [Info] Start training from score -2.079442\n",
      "[LightGBM] [Info] Start training from score -2.079442\n",
      "[LightGBM] [Info] Start training from score -2.079442\n",
      "[LightGBM] [Info] Start training from score -2.079442\n",
      "[LightGBM] [Info] Start training from score -2.079442\n",
      "[LightGBM] [Info] Start training from score -2.079442\n",
      "[LightGBM] [Info] Start training from score -2.079442\n"
     ]
    },
    {
     "name": "stderr",
     "output_type": "stream",
     "text": [
      " 21%|██        | 28/135 [54:39<3:12:02, 107.69s/it]"
     ]
    },
    {
     "name": "stdout",
     "output_type": "stream",
     "text": [
      "[LightGBM] [Warning] Found whitespace in feature_names, replace with underlines\n",
      "[LightGBM] [Info] Auto-choosing row-wise multi-threading, the overhead of testing was 0.097382 seconds.\n",
      "You can set `force_row_wise=true` to remove the overhead.\n",
      "And if memory is not enough, you can set `force_col_wise=true`.\n",
      "[LightGBM] [Info] Total Bins 7769\n",
      "[LightGBM] [Info] Number of data points in the train set: 1464560, number of used features: 40\n",
      "[LightGBM] [Info] Start training from score -2.079442\n",
      "[LightGBM] [Info] Start training from score -2.079442\n",
      "[LightGBM] [Info] Start training from score -2.079442\n",
      "[LightGBM] [Info] Start training from score -2.079442\n",
      "[LightGBM] [Info] Start training from score -2.079442\n",
      "[LightGBM] [Info] Start training from score -2.079442\n",
      "[LightGBM] [Info] Start training from score -2.079442\n",
      "[LightGBM] [Info] Start training from score -2.079442\n"
     ]
    },
    {
     "name": "stderr",
     "output_type": "stream",
     "text": [
      " 21%|██▏       | 29/135 [56:09<3:01:21, 102.65s/it]"
     ]
    },
    {
     "name": "stdout",
     "output_type": "stream",
     "text": [
      "[LightGBM] [Warning] Found whitespace in feature_names, replace with underlines\n",
      "[LightGBM] [Info] Auto-choosing row-wise multi-threading, the overhead of testing was 0.091160 seconds.\n",
      "You can set `force_row_wise=true` to remove the overhead.\n",
      "And if memory is not enough, you can set `force_col_wise=true`.\n",
      "[LightGBM] [Info] Total Bins 8065\n",
      "[LightGBM] [Info] Number of data points in the train set: 1465048, number of used features: 39\n",
      "[LightGBM] [Info] Start training from score -2.079442\n",
      "[LightGBM] [Info] Start training from score -2.079442\n",
      "[LightGBM] [Info] Start training from score -2.079442\n",
      "[LightGBM] [Info] Start training from score -2.079442\n",
      "[LightGBM] [Info] Start training from score -2.079442\n",
      "[LightGBM] [Info] Start training from score -2.079442\n",
      "[LightGBM] [Info] Start training from score -2.079442\n",
      "[LightGBM] [Info] Start training from score -2.079442\n"
     ]
    },
    {
     "name": "stderr",
     "output_type": "stream",
     "text": [
      " 22%|██▏       | 30/135 [57:38<2:52:00, 98.29s/it] "
     ]
    },
    {
     "name": "stdout",
     "output_type": "stream",
     "text": [
      "[LightGBM] [Warning] Found whitespace in feature_names, replace with underlines\n",
      "[LightGBM] [Info] Auto-choosing row-wise multi-threading, the overhead of testing was 0.087662 seconds.\n",
      "You can set `force_row_wise=true` to remove the overhead.\n",
      "And if memory is not enough, you can set `force_col_wise=true`.\n",
      "[LightGBM] [Info] Total Bins 7844\n",
      "[LightGBM] [Info] Number of data points in the train set: 1388440, number of used features: 41\n",
      "[LightGBM] [Info] Start training from score -2.079442\n",
      "[LightGBM] [Info] Start training from score -2.079442\n",
      "[LightGBM] [Info] Start training from score -2.079442\n",
      "[LightGBM] [Info] Start training from score -2.079442\n",
      "[LightGBM] [Info] Start training from score -2.079442\n",
      "[LightGBM] [Info] Start training from score -2.079442\n",
      "[LightGBM] [Info] Start training from score -2.079442\n",
      "[LightGBM] [Info] Start training from score -2.079442\n"
     ]
    },
    {
     "name": "stderr",
     "output_type": "stream",
     "text": [
      " 23%|██▎       | 31/135 [58:59<2:41:23, 93.11s/it]"
     ]
    },
    {
     "name": "stdout",
     "output_type": "stream",
     "text": [
      "[LightGBM] [Warning] Found whitespace in feature_names, replace with underlines\n",
      "[LightGBM] [Info] Auto-choosing row-wise multi-threading, the overhead of testing was 0.085270 seconds.\n",
      "You can set `force_row_wise=true` to remove the overhead.\n",
      "And if memory is not enough, you can set `force_col_wise=true`.\n",
      "[LightGBM] [Info] Total Bins 7526\n",
      "[LightGBM] [Info] Number of data points in the train set: 1330152, number of used features: 40\n",
      "[LightGBM] [Info] Start training from score -2.079442\n",
      "[LightGBM] [Info] Start training from score -2.079442\n",
      "[LightGBM] [Info] Start training from score -2.079442\n",
      "[LightGBM] [Info] Start training from score -2.079442\n",
      "[LightGBM] [Info] Start training from score -2.079442\n",
      "[LightGBM] [Info] Start training from score -2.079442\n",
      "[LightGBM] [Info] Start training from score -2.079442\n",
      "[LightGBM] [Info] Start training from score -2.079442\n"
     ]
    },
    {
     "name": "stderr",
     "output_type": "stream",
     "text": [
      " 24%|██▎       | 32/135 [1:00:16<2:31:48, 88.44s/it]"
     ]
    },
    {
     "name": "stdout",
     "output_type": "stream",
     "text": [
      "[LightGBM] [Warning] Found whitespace in feature_names, replace with underlines\n",
      "[LightGBM] [Info] Auto-choosing row-wise multi-threading, the overhead of testing was 0.110517 seconds.\n",
      "You can set `force_row_wise=true` to remove the overhead.\n",
      "And if memory is not enough, you can set `force_col_wise=true`.\n",
      "[LightGBM] [Info] Total Bins 8217\n",
      "[LightGBM] [Info] Number of data points in the train set: 1323696, number of used features: 39\n",
      "[LightGBM] [Info] Start training from score -2.079442\n",
      "[LightGBM] [Info] Start training from score -2.079442\n",
      "[LightGBM] [Info] Start training from score -2.079442\n",
      "[LightGBM] [Info] Start training from score -2.079442\n",
      "[LightGBM] [Info] Start training from score -2.079442\n",
      "[LightGBM] [Info] Start training from score -2.079442\n",
      "[LightGBM] [Info] Start training from score -2.079442\n",
      "[LightGBM] [Info] Start training from score -2.079442\n"
     ]
    },
    {
     "name": "stderr",
     "output_type": "stream",
     "text": [
      " 24%|██▍       | 33/135 [1:01:49<2:32:37, 89.78s/it]"
     ]
    },
    {
     "name": "stdout",
     "output_type": "stream",
     "text": [
      "[LightGBM] [Warning] Found whitespace in feature_names, replace with underlines\n",
      "[LightGBM] [Info] Auto-choosing row-wise multi-threading, the overhead of testing was 0.134055 seconds.\n",
      "You can set `force_row_wise=true` to remove the overhead.\n",
      "And if memory is not enough, you can set `force_col_wise=true`.\n",
      "[LightGBM] [Info] Total Bins 8018\n",
      "[LightGBM] [Info] Number of data points in the train set: 2609704, number of used features: 42\n",
      "[LightGBM] [Info] Start training from score -2.079442\n",
      "[LightGBM] [Info] Start training from score -2.079442\n",
      "[LightGBM] [Info] Start training from score -2.079442\n",
      "[LightGBM] [Info] Start training from score -2.079442\n",
      "[LightGBM] [Info] Start training from score -2.079442\n",
      "[LightGBM] [Info] Start training from score -2.079442\n",
      "[LightGBM] [Info] Start training from score -2.079442\n",
      "[LightGBM] [Info] Start training from score -2.079442\n"
     ]
    },
    {
     "name": "stderr",
     "output_type": "stream",
     "text": [
      " 25%|██▌       | 34/135 [1:05:08<3:26:20, 122.58s/it]"
     ]
    },
    {
     "name": "stdout",
     "output_type": "stream",
     "text": [
      "[LightGBM] [Warning] Found whitespace in feature_names, replace with underlines\n",
      "[LightGBM] [Info] Auto-choosing row-wise multi-threading, the overhead of testing was 0.089045 seconds.\n",
      "You can set `force_row_wise=true` to remove the overhead.\n",
      "And if memory is not enough, you can set `force_col_wise=true`.\n",
      "[LightGBM] [Info] Total Bins 7992\n",
      "[LightGBM] [Info] Number of data points in the train set: 1352600, number of used features: 42\n",
      "[LightGBM] [Info] Start training from score -2.079442\n",
      "[LightGBM] [Info] Start training from score -2.079442\n",
      "[LightGBM] [Info] Start training from score -2.079442\n",
      "[LightGBM] [Info] Start training from score -2.079442\n",
      "[LightGBM] [Info] Start training from score -2.079442\n",
      "[LightGBM] [Info] Start training from score -2.079442\n",
      "[LightGBM] [Info] Start training from score -2.079442\n",
      "[LightGBM] [Info] Start training from score -2.079442\n"
     ]
    },
    {
     "name": "stderr",
     "output_type": "stream",
     "text": [
      " 26%|██▌       | 35/135 [1:06:28<3:02:53, 109.73s/it]"
     ]
    },
    {
     "name": "stdout",
     "output_type": "stream",
     "text": [
      "[LightGBM] [Warning] Found whitespace in feature_names, replace with underlines\n",
      "[LightGBM] [Info] Auto-choosing row-wise multi-threading, the overhead of testing was 0.091519 seconds.\n",
      "You can set `force_row_wise=true` to remove the overhead.\n",
      "And if memory is not enough, you can set `force_col_wise=true`.\n",
      "[LightGBM] [Info] Total Bins 7740\n",
      "[LightGBM] [Info] Number of data points in the train set: 1469544, number of used features: 39\n",
      "[LightGBM] [Info] Start training from score -2.079442\n",
      "[LightGBM] [Info] Start training from score -2.079442\n",
      "[LightGBM] [Info] Start training from score -2.079442\n",
      "[LightGBM] [Info] Start training from score -2.079442\n",
      "[LightGBM] [Info] Start training from score -2.079442\n",
      "[LightGBM] [Info] Start training from score -2.079442\n",
      "[LightGBM] [Info] Start training from score -2.079442\n",
      "[LightGBM] [Info] Start training from score -2.079442\n"
     ]
    },
    {
     "name": "stderr",
     "output_type": "stream",
     "text": [
      " 27%|██▋       | 36/135 [1:07:56<2:50:11, 103.15s/it]"
     ]
    },
    {
     "name": "stdout",
     "output_type": "stream",
     "text": [
      "[LightGBM] [Warning] Found whitespace in feature_names, replace with underlines\n",
      "[LightGBM] [Info] Auto-choosing row-wise multi-threading, the overhead of testing was 0.165542 seconds.\n",
      "You can set `force_row_wise=true` to remove the overhead.\n",
      "And if memory is not enough, you can set `force_col_wise=true`.\n",
      "[LightGBM] [Info] Total Bins 8082\n",
      "[LightGBM] [Info] Number of data points in the train set: 2555944, number of used features: 41\n",
      "[LightGBM] [Info] Start training from score -2.079442\n",
      "[LightGBM] [Info] Start training from score -2.079442\n",
      "[LightGBM] [Info] Start training from score -2.079442\n",
      "[LightGBM] [Info] Start training from score -2.079442\n",
      "[LightGBM] [Info] Start training from score -2.079442\n",
      "[LightGBM] [Info] Start training from score -2.079442\n",
      "[LightGBM] [Info] Start training from score -2.079442\n",
      "[LightGBM] [Info] Start training from score -2.079442\n"
     ]
    },
    {
     "name": "stderr",
     "output_type": "stream",
     "text": [
      " 27%|██▋       | 37/135 [1:11:20<3:37:55, 133.42s/it]"
     ]
    },
    {
     "name": "stdout",
     "output_type": "stream",
     "text": [
      "[LightGBM] [Warning] Found whitespace in feature_names, replace with underlines\n",
      "[LightGBM] [Info] Auto-choosing row-wise multi-threading, the overhead of testing was 0.076907 seconds.\n",
      "You can set `force_row_wise=true` to remove the overhead.\n",
      "And if memory is not enough, you can set `force_col_wise=true`.\n",
      "[LightGBM] [Info] Total Bins 7769\n",
      "[LightGBM] [Info] Number of data points in the train set: 1250768, number of used features: 39\n",
      "[LightGBM] [Info] Start training from score -2.079442\n",
      "[LightGBM] [Info] Start training from score -2.079442\n",
      "[LightGBM] [Info] Start training from score -2.079442\n",
      "[LightGBM] [Info] Start training from score -2.079442\n",
      "[LightGBM] [Info] Start training from score -2.079442\n",
      "[LightGBM] [Info] Start training from score -2.079442\n",
      "[LightGBM] [Info] Start training from score -2.079442\n",
      "[LightGBM] [Info] Start training from score -2.079442\n"
     ]
    },
    {
     "name": "stderr",
     "output_type": "stream",
     "text": [
      " 28%|██▊       | 38/135 [1:12:36<3:07:54, 116.23s/it]"
     ]
    },
    {
     "name": "stdout",
     "output_type": "stream",
     "text": [
      "[LightGBM] [Warning] Found whitespace in feature_names, replace with underlines\n",
      "[LightGBM] [Info] Auto-choosing row-wise multi-threading, the overhead of testing was 0.081148 seconds.\n",
      "You can set `force_row_wise=true` to remove the overhead.\n",
      "And if memory is not enough, you can set `force_col_wise=true`.\n",
      "[LightGBM] [Info] Total Bins 8193\n",
      "[LightGBM] [Info] Number of data points in the train set: 1377688, number of used features: 40\n",
      "[LightGBM] [Info] Start training from score -2.079442\n",
      "[LightGBM] [Info] Start training from score -2.079442\n",
      "[LightGBM] [Info] Start training from score -2.079442\n",
      "[LightGBM] [Info] Start training from score -2.079442\n",
      "[LightGBM] [Info] Start training from score -2.079442\n",
      "[LightGBM] [Info] Start training from score -2.079442\n",
      "[LightGBM] [Info] Start training from score -2.079442\n",
      "[LightGBM] [Info] Start training from score -2.079442\n"
     ]
    },
    {
     "name": "stderr",
     "output_type": "stream",
     "text": [
      " 29%|██▉       | 39/135 [1:13:58<2:49:41, 106.06s/it]"
     ]
    },
    {
     "name": "stdout",
     "output_type": "stream",
     "text": [
      "[LightGBM] [Warning] Found whitespace in feature_names, replace with underlines\n",
      "[LightGBM] [Info] Auto-choosing row-wise multi-threading, the overhead of testing was 0.157654 seconds.\n",
      "You can set `force_row_wise=true` to remove the overhead.\n",
      "And if memory is not enough, you can set `force_col_wise=true`.\n",
      "[LightGBM] [Info] Total Bins 7943\n",
      "[LightGBM] [Info] Number of data points in the train set: 2543584, number of used features: 41\n",
      "[LightGBM] [Info] Start training from score -2.079442\n",
      "[LightGBM] [Info] Start training from score -2.079442\n",
      "[LightGBM] [Info] Start training from score -2.079442\n",
      "[LightGBM] [Info] Start training from score -2.079442\n",
      "[LightGBM] [Info] Start training from score -2.079442\n",
      "[LightGBM] [Info] Start training from score -2.079442\n",
      "[LightGBM] [Info] Start training from score -2.079442\n",
      "[LightGBM] [Info] Start training from score -2.079442\n"
     ]
    },
    {
     "name": "stderr",
     "output_type": "stream",
     "text": [
      " 30%|██▉       | 40/135 [1:17:13<3:30:00, 132.64s/it]"
     ]
    },
    {
     "name": "stdout",
     "output_type": "stream",
     "text": [
      "[LightGBM] [Warning] Found whitespace in feature_names, replace with underlines\n",
      "[LightGBM] [Info] Auto-choosing row-wise multi-threading, the overhead of testing was 0.113428 seconds.\n",
      "You can set `force_row_wise=true` to remove the overhead.\n",
      "And if memory is not enough, you can set `force_col_wise=true`.\n",
      "[LightGBM] [Info] Total Bins 8014\n",
      "[LightGBM] [Info] Number of data points in the train set: 1344240, number of used features: 41\n",
      "[LightGBM] [Info] Start training from score -2.079442\n",
      "[LightGBM] [Info] Start training from score -2.079442\n",
      "[LightGBM] [Info] Start training from score -2.079442\n",
      "[LightGBM] [Info] Start training from score -2.079442\n",
      "[LightGBM] [Info] Start training from score -2.079442\n",
      "[LightGBM] [Info] Start training from score -2.079442\n",
      "[LightGBM] [Info] Start training from score -2.079442\n",
      "[LightGBM] [Info] Start training from score -2.079442\n"
     ]
    },
    {
     "name": "stderr",
     "output_type": "stream",
     "text": [
      " 30%|███       | 41/135 [1:18:36<3:04:19, 117.65s/it]"
     ]
    },
    {
     "name": "stdout",
     "output_type": "stream",
     "text": [
      "[LightGBM] [Warning] Found whitespace in feature_names, replace with underlines\n",
      "[LightGBM] [Info] Auto-choosing row-wise multi-threading, the overhead of testing was 0.147406 seconds.\n",
      "You can set `force_row_wise=true` to remove the overhead.\n",
      "And if memory is not enough, you can set `force_col_wise=true`.\n",
      "[LightGBM] [Info] Total Bins 8013\n",
      "[LightGBM] [Info] Number of data points in the train set: 2598016, number of used features: 41\n",
      "[LightGBM] [Info] Start training from score -2.079442\n",
      "[LightGBM] [Info] Start training from score -2.079442\n",
      "[LightGBM] [Info] Start training from score -2.079442\n",
      "[LightGBM] [Info] Start training from score -2.079442\n",
      "[LightGBM] [Info] Start training from score -2.079442\n",
      "[LightGBM] [Info] Start training from score -2.079442\n",
      "[LightGBM] [Info] Start training from score -2.079442\n",
      "[LightGBM] [Info] Start training from score -2.079442\n"
     ]
    },
    {
     "name": "stderr",
     "output_type": "stream",
     "text": [
      " 31%|███       | 42/135 [1:22:24<3:53:51, 150.87s/it]"
     ]
    },
    {
     "name": "stdout",
     "output_type": "stream",
     "text": [
      "[LightGBM] [Warning] Found whitespace in feature_names, replace with underlines\n",
      "[LightGBM] [Info] Auto-choosing row-wise multi-threading, the overhead of testing was 0.102847 seconds.\n",
      "You can set `force_row_wise=true` to remove the overhead.\n",
      "And if memory is not enough, you can set `force_col_wise=true`.\n",
      "[LightGBM] [Info] Total Bins 8043\n",
      "[LightGBM] [Info] Number of data points in the train set: 1294584, number of used features: 39\n",
      "[LightGBM] [Info] Start training from score -2.079442\n",
      "[LightGBM] [Info] Start training from score -2.079442\n",
      "[LightGBM] [Info] Start training from score -2.079442\n",
      "[LightGBM] [Info] Start training from score -2.079442\n",
      "[LightGBM] [Info] Start training from score -2.079442\n",
      "[LightGBM] [Info] Start training from score -2.079442\n",
      "[LightGBM] [Info] Start training from score -2.079442\n",
      "[LightGBM] [Info] Start training from score -2.079442\n"
     ]
    },
    {
     "name": "stderr",
     "output_type": "stream",
     "text": [
      " 32%|███▏      | 43/135 [1:24:16<3:33:27, 139.21s/it]"
     ]
    },
    {
     "name": "stdout",
     "output_type": "stream",
     "text": [
      "[LightGBM] [Warning] Found whitespace in feature_names, replace with underlines\n",
      "[LightGBM] [Info] Auto-choosing row-wise multi-threading, the overhead of testing was 0.118139 seconds.\n",
      "You can set `force_row_wise=true` to remove the overhead.\n",
      "And if memory is not enough, you can set `force_col_wise=true`.\n",
      "[LightGBM] [Info] Total Bins 7828\n",
      "[LightGBM] [Info] Number of data points in the train set: 1461400, number of used features: 40\n",
      "[LightGBM] [Info] Start training from score -2.079442\n",
      "[LightGBM] [Info] Start training from score -2.079442\n",
      "[LightGBM] [Info] Start training from score -2.079442\n",
      "[LightGBM] [Info] Start training from score -2.079442\n",
      "[LightGBM] [Info] Start training from score -2.079442\n",
      "[LightGBM] [Info] Start training from score -2.079442\n",
      "[LightGBM] [Info] Start training from score -2.079442\n",
      "[LightGBM] [Info] Start training from score -2.079442\n"
     ]
    },
    {
     "name": "stderr",
     "output_type": "stream",
     "text": [
      " 33%|███▎      | 44/135 [1:26:24<3:26:15, 135.99s/it]"
     ]
    },
    {
     "name": "stdout",
     "output_type": "stream",
     "text": [
      "[LightGBM] [Warning] Found whitespace in feature_names, replace with underlines\n",
      "[LightGBM] [Info] Auto-choosing row-wise multi-threading, the overhead of testing was 0.104496 seconds.\n",
      "You can set `force_row_wise=true` to remove the overhead.\n",
      "And if memory is not enough, you can set `force_col_wise=true`.\n",
      "[LightGBM] [Info] Total Bins 8013\n",
      "[LightGBM] [Info] Number of data points in the train set: 1350160, number of used features: 40\n",
      "[LightGBM] [Info] Start training from score -2.079442\n",
      "[LightGBM] [Info] Start training from score -2.079442\n",
      "[LightGBM] [Info] Start training from score -2.079442\n",
      "[LightGBM] [Info] Start training from score -2.079442\n",
      "[LightGBM] [Info] Start training from score -2.079442\n",
      "[LightGBM] [Info] Start training from score -2.079442\n",
      "[LightGBM] [Info] Start training from score -2.079442\n",
      "[LightGBM] [Info] Start training from score -2.079442\n"
     ]
    },
    {
     "name": "stderr",
     "output_type": "stream",
     "text": [
      " 33%|███▎      | 45/135 [1:28:12<3:11:03, 127.37s/it]"
     ]
    },
    {
     "name": "stdout",
     "output_type": "stream",
     "text": [
      "[LightGBM] [Warning] Found whitespace in feature_names, replace with underlines\n",
      "[LightGBM] [Info] Auto-choosing row-wise multi-threading, the overhead of testing was 0.113273 seconds.\n",
      "You can set `force_row_wise=true` to remove the overhead.\n",
      "And if memory is not enough, you can set `force_col_wise=true`.\n",
      "[LightGBM] [Info] Total Bins 7812\n",
      "[LightGBM] [Info] Number of data points in the train set: 1440392, number of used features: 40\n",
      "[LightGBM] [Info] Start training from score -2.079442\n",
      "[LightGBM] [Info] Start training from score -2.079442\n",
      "[LightGBM] [Info] Start training from score -2.079442\n",
      "[LightGBM] [Info] Start training from score -2.079442\n",
      "[LightGBM] [Info] Start training from score -2.079442\n",
      "[LightGBM] [Info] Start training from score -2.079442\n",
      "[LightGBM] [Info] Start training from score -2.079442\n",
      "[LightGBM] [Info] Start training from score -2.079442\n"
     ]
    },
    {
     "name": "stderr",
     "output_type": "stream",
     "text": [
      " 34%|███▍      | 46/135 [1:30:14<3:06:37, 125.81s/it]"
     ]
    },
    {
     "name": "stdout",
     "output_type": "stream",
     "text": [
      "[LightGBM] [Warning] Found whitespace in feature_names, replace with underlines\n",
      "[LightGBM] [Info] Auto-choosing row-wise multi-threading, the overhead of testing was 0.104500 seconds.\n",
      "You can set `force_row_wise=true` to remove the overhead.\n",
      "And if memory is not enough, you can set `force_col_wise=true`.\n",
      "[LightGBM] [Info] Total Bins 7754\n",
      "[LightGBM] [Info] Number of data points in the train set: 1371200, number of used features: 40\n",
      "[LightGBM] [Info] Start training from score -2.079442\n",
      "[LightGBM] [Info] Start training from score -2.079442\n",
      "[LightGBM] [Info] Start training from score -2.079442\n",
      "[LightGBM] [Info] Start training from score -2.079442\n",
      "[LightGBM] [Info] Start training from score -2.079442\n",
      "[LightGBM] [Info] Start training from score -2.079442\n",
      "[LightGBM] [Info] Start training from score -2.079442\n",
      "[LightGBM] [Info] Start training from score -2.079442\n"
     ]
    },
    {
     "name": "stderr",
     "output_type": "stream",
     "text": [
      " 35%|███▍      | 47/135 [1:32:01<2:56:21, 120.25s/it]"
     ]
    },
    {
     "name": "stdout",
     "output_type": "stream",
     "text": [
      "[LightGBM] [Warning] Found whitespace in feature_names, replace with underlines\n",
      "[LightGBM] [Info] Auto-choosing row-wise multi-threading, the overhead of testing was 0.119394 seconds.\n",
      "You can set `force_row_wise=true` to remove the overhead.\n",
      "And if memory is not enough, you can set `force_col_wise=true`.\n",
      "[LightGBM] [Info] Total Bins 8090\n",
      "[LightGBM] [Info] Number of data points in the train set: 1394576, number of used features: 42\n",
      "[LightGBM] [Info] Start training from score -2.079442\n",
      "[LightGBM] [Info] Start training from score -2.079442\n",
      "[LightGBM] [Info] Start training from score -2.079442\n",
      "[LightGBM] [Info] Start training from score -2.079442\n",
      "[LightGBM] [Info] Start training from score -2.079442\n",
      "[LightGBM] [Info] Start training from score -2.079442\n",
      "[LightGBM] [Info] Start training from score -2.079442\n",
      "[LightGBM] [Info] Start training from score -2.079442\n"
     ]
    },
    {
     "name": "stderr",
     "output_type": "stream",
     "text": [
      " 36%|███▌      | 48/135 [1:33:50<2:49:23, 116.82s/it]"
     ]
    },
    {
     "name": "stdout",
     "output_type": "stream",
     "text": [
      "[LightGBM] [Warning] Found whitespace in feature_names, replace with underlines\n",
      "[LightGBM] [Info] Auto-choosing row-wise multi-threading, the overhead of testing was 0.097596 seconds.\n",
      "You can set `force_row_wise=true` to remove the overhead.\n",
      "And if memory is not enough, you can set `force_col_wise=true`.\n",
      "[LightGBM] [Info] Total Bins 7836\n",
      "[LightGBM] [Info] Number of data points in the train set: 1278064, number of used features: 39\n",
      "[LightGBM] [Info] Start training from score -2.079442\n",
      "[LightGBM] [Info] Start training from score -2.079442\n",
      "[LightGBM] [Info] Start training from score -2.079442\n",
      "[LightGBM] [Info] Start training from score -2.079442\n",
      "[LightGBM] [Info] Start training from score -2.079442\n",
      "[LightGBM] [Info] Start training from score -2.079442\n",
      "[LightGBM] [Info] Start training from score -2.079442\n",
      "[LightGBM] [Info] Start training from score -2.079442\n"
     ]
    },
    {
     "name": "stderr",
     "output_type": "stream",
     "text": [
      " 36%|███▋      | 49/135 [1:35:26<2:38:40, 110.71s/it]"
     ]
    },
    {
     "name": "stdout",
     "output_type": "stream",
     "text": [
      "[LightGBM] [Warning] Found whitespace in feature_names, replace with underlines\n",
      "[LightGBM] [Info] Auto-choosing row-wise multi-threading, the overhead of testing was 0.127486 seconds.\n",
      "You can set `force_row_wise=true` to remove the overhead.\n",
      "And if memory is not enough, you can set `force_col_wise=true`.\n",
      "[LightGBM] [Info] Total Bins 7857\n",
      "[LightGBM] [Info] Number of data points in the train set: 1451080, number of used features: 40\n",
      "[LightGBM] [Info] Start training from score -2.079442\n",
      "[LightGBM] [Info] Start training from score -2.079442\n",
      "[LightGBM] [Info] Start training from score -2.079442\n",
      "[LightGBM] [Info] Start training from score -2.079442\n",
      "[LightGBM] [Info] Start training from score -2.079442\n",
      "[LightGBM] [Info] Start training from score -2.079442\n",
      "[LightGBM] [Info] Start training from score -2.079442\n",
      "[LightGBM] [Info] Start training from score -2.079442\n"
     ]
    },
    {
     "name": "stderr",
     "output_type": "stream",
     "text": [
      " 37%|███▋      | 50/135 [1:37:21<2:38:37, 111.97s/it]"
     ]
    },
    {
     "name": "stdout",
     "output_type": "stream",
     "text": [
      "[LightGBM] [Warning] Found whitespace in feature_names, replace with underlines\n",
      "[LightGBM] [Info] Auto-choosing row-wise multi-threading, the overhead of testing was 0.120169 seconds.\n",
      "You can set `force_row_wise=true` to remove the overhead.\n",
      "And if memory is not enough, you can set `force_col_wise=true`.\n",
      "[LightGBM] [Info] Total Bins 7798\n",
      "[LightGBM] [Info] Number of data points in the train set: 1360472, number of used features: 40\n",
      "[LightGBM] [Info] Start training from score -2.079442\n",
      "[LightGBM] [Info] Start training from score -2.079442\n",
      "[LightGBM] [Info] Start training from score -2.079442\n",
      "[LightGBM] [Info] Start training from score -2.079442\n",
      "[LightGBM] [Info] Start training from score -2.079442\n",
      "[LightGBM] [Info] Start training from score -2.079442\n",
      "[LightGBM] [Info] Start training from score -2.079442\n",
      "[LightGBM] [Info] Start training from score -2.079442\n"
     ]
    },
    {
     "name": "stderr",
     "output_type": "stream",
     "text": [
      " 38%|███▊      | 51/135 [1:39:05<2:33:06, 109.36s/it]"
     ]
    },
    {
     "name": "stdout",
     "output_type": "stream",
     "text": [
      "[LightGBM] [Warning] Found whitespace in feature_names, replace with underlines\n",
      "[LightGBM] [Info] Auto-choosing row-wise multi-threading, the overhead of testing was 0.155345 seconds.\n",
      "You can set `force_row_wise=true` to remove the overhead.\n",
      "And if memory is not enough, you can set `force_col_wise=true`.\n",
      "[LightGBM] [Info] Total Bins 7956\n",
      "[LightGBM] [Info] Number of data points in the train set: 1462016, number of used features: 40\n",
      "[LightGBM] [Info] Start training from score -2.079442\n",
      "[LightGBM] [Info] Start training from score -2.079442\n",
      "[LightGBM] [Info] Start training from score -2.079442\n",
      "[LightGBM] [Info] Start training from score -2.079442\n",
      "[LightGBM] [Info] Start training from score -2.079442\n",
      "[LightGBM] [Info] Start training from score -2.079442\n",
      "[LightGBM] [Info] Start training from score -2.079442\n",
      "[LightGBM] [Info] Start training from score -2.079442\n"
     ]
    },
    {
     "name": "stderr",
     "output_type": "stream",
     "text": [
      " 39%|███▊      | 52/135 [1:41:02<2:34:44, 111.87s/it]"
     ]
    },
    {
     "name": "stdout",
     "output_type": "stream",
     "text": [
      "[LightGBM] [Warning] Found whitespace in feature_names, replace with underlines\n",
      "[LightGBM] [Info] Auto-choosing row-wise multi-threading, the overhead of testing was 0.220066 seconds.\n",
      "You can set `force_row_wise=true` to remove the overhead.\n",
      "And if memory is not enough, you can set `force_col_wise=true`.\n",
      "[LightGBM] [Info] Total Bins 7782\n",
      "[LightGBM] [Info] Number of data points in the train set: 2591920, number of used features: 41\n",
      "[LightGBM] [Info] Start training from score -2.079442\n",
      "[LightGBM] [Info] Start training from score -2.079442\n",
      "[LightGBM] [Info] Start training from score -2.079442\n",
      "[LightGBM] [Info] Start training from score -2.079442\n",
      "[LightGBM] [Info] Start training from score -2.079442\n",
      "[LightGBM] [Info] Start training from score -2.079442\n",
      "[LightGBM] [Info] Start training from score -2.079442\n",
      "[LightGBM] [Info] Start training from score -2.079442\n"
     ]
    },
    {
     "name": "stderr",
     "output_type": "stream",
     "text": [
      " 39%|███▉      | 53/135 [1:45:29<3:36:32, 158.44s/it]"
     ]
    },
    {
     "name": "stdout",
     "output_type": "stream",
     "text": [
      "[LightGBM] [Warning] Found whitespace in feature_names, replace with underlines\n",
      "[LightGBM] [Info] Auto-choosing row-wise multi-threading, the overhead of testing was 0.119001 seconds.\n",
      "You can set `force_row_wise=true` to remove the overhead.\n",
      "And if memory is not enough, you can set `force_col_wise=true`.\n",
      "[LightGBM] [Info] Total Bins 7647\n",
      "[LightGBM] [Info] Number of data points in the train set: 1417344, number of used features: 41\n",
      "[LightGBM] [Info] Start training from score -2.079442\n",
      "[LightGBM] [Info] Start training from score -2.079442\n",
      "[LightGBM] [Info] Start training from score -2.079442\n",
      "[LightGBM] [Info] Start training from score -2.079442\n",
      "[LightGBM] [Info] Start training from score -2.079442\n",
      "[LightGBM] [Info] Start training from score -2.079442\n",
      "[LightGBM] [Info] Start training from score -2.079442\n",
      "[LightGBM] [Info] Start training from score -2.079442\n"
     ]
    },
    {
     "name": "stderr",
     "output_type": "stream",
     "text": [
      " 40%|████      | 54/135 [1:47:20<3:14:22, 143.98s/it]"
     ]
    },
    {
     "name": "stdout",
     "output_type": "stream",
     "text": [
      "[LightGBM] [Warning] Found whitespace in feature_names, replace with underlines\n",
      "[LightGBM] [Info] Auto-choosing row-wise multi-threading, the overhead of testing was 0.109179 seconds.\n",
      "You can set `force_row_wise=true` to remove the overhead.\n",
      "And if memory is not enough, you can set `force_col_wise=true`.\n",
      "[LightGBM] [Info] Total Bins 7774\n",
      "[LightGBM] [Info] Number of data points in the train set: 1373416, number of used features: 40\n",
      "[LightGBM] [Info] Start training from score -2.079442\n",
      "[LightGBM] [Info] Start training from score -2.079442\n",
      "[LightGBM] [Info] Start training from score -2.079442\n",
      "[LightGBM] [Info] Start training from score -2.079442\n",
      "[LightGBM] [Info] Start training from score -2.079442\n",
      "[LightGBM] [Info] Start training from score -2.079442\n",
      "[LightGBM] [Info] Start training from score -2.079442\n",
      "[LightGBM] [Info] Start training from score -2.079442\n"
     ]
    },
    {
     "name": "stderr",
     "output_type": "stream",
     "text": [
      " 41%|████      | 55/135 [1:49:07<2:57:13, 132.92s/it]"
     ]
    },
    {
     "name": "stdout",
     "output_type": "stream",
     "text": [
      "[LightGBM] [Warning] Found whitespace in feature_names, replace with underlines\n",
      "[LightGBM] [Info] Auto-choosing col-wise multi-threading, the overhead of testing was 0.282783 seconds.\n",
      "You can set `force_col_wise=true` to remove the overhead.\n",
      "[LightGBM] [Info] Total Bins 7967\n",
      "[LightGBM] [Info] Number of data points in the train set: 1294568, number of used features: 39\n",
      "[LightGBM] [Info] Start training from score -2.079442\n",
      "[LightGBM] [Info] Start training from score -2.079442\n",
      "[LightGBM] [Info] Start training from score -2.079442\n",
      "[LightGBM] [Info] Start training from score -2.079442\n",
      "[LightGBM] [Info] Start training from score -2.079442\n",
      "[LightGBM] [Info] Start training from score -2.079442\n",
      "[LightGBM] [Info] Start training from score -2.079442\n",
      "[LightGBM] [Info] Start training from score -2.079442\n"
     ]
    },
    {
     "name": "stderr",
     "output_type": "stream",
     "text": [
      " 41%|████▏     | 56/135 [1:51:04<2:48:40, 128.10s/it]"
     ]
    },
    {
     "name": "stdout",
     "output_type": "stream",
     "text": [
      "[LightGBM] [Warning] Found whitespace in feature_names, replace with underlines\n",
      "[LightGBM] [Info] Auto-choosing row-wise multi-threading, the overhead of testing was 0.108068 seconds.\n",
      "You can set `force_row_wise=true` to remove the overhead.\n",
      "And if memory is not enough, you can set `force_col_wise=true`.\n",
      "[LightGBM] [Info] Total Bins 7985\n",
      "[LightGBM] [Info] Number of data points in the train set: 1368576, number of used features: 39\n",
      "[LightGBM] [Info] Start training from score -2.079442\n",
      "[LightGBM] [Info] Start training from score -2.079442\n",
      "[LightGBM] [Info] Start training from score -2.079442\n",
      "[LightGBM] [Info] Start training from score -2.079442\n",
      "[LightGBM] [Info] Start training from score -2.079442\n",
      "[LightGBM] [Info] Start training from score -2.079442\n",
      "[LightGBM] [Info] Start training from score -2.079442\n",
      "[LightGBM] [Info] Start training from score -2.079442\n"
     ]
    },
    {
     "name": "stderr",
     "output_type": "stream",
     "text": [
      " 42%|████▏     | 57/135 [1:52:57<2:40:50, 123.72s/it]"
     ]
    },
    {
     "name": "stdout",
     "output_type": "stream",
     "text": [
      "[LightGBM] [Warning] Found whitespace in feature_names, replace with underlines\n",
      "[LightGBM] [Info] Auto-choosing row-wise multi-threading, the overhead of testing was 0.229133 seconds.\n",
      "You can set `force_row_wise=true` to remove the overhead.\n",
      "And if memory is not enough, you can set `force_col_wise=true`.\n",
      "[LightGBM] [Info] Total Bins 7774\n",
      "[LightGBM] [Info] Number of data points in the train set: 2502728, number of used features: 40\n",
      "[LightGBM] [Info] Start training from score -2.079442\n",
      "[LightGBM] [Info] Start training from score -2.079442\n",
      "[LightGBM] [Info] Start training from score -2.079442\n",
      "[LightGBM] [Info] Start training from score -2.079442\n",
      "[LightGBM] [Info] Start training from score -2.079442\n",
      "[LightGBM] [Info] Start training from score -2.079442\n",
      "[LightGBM] [Info] Start training from score -2.079442\n",
      "[LightGBM] [Info] Start training from score -2.079442\n"
     ]
    },
    {
     "name": "stderr",
     "output_type": "stream",
     "text": [
      " 43%|████▎     | 58/135 [1:57:29<3:35:52, 168.22s/it]"
     ]
    },
    {
     "name": "stdout",
     "output_type": "stream",
     "text": [
      "[LightGBM] [Warning] Found whitespace in feature_names, replace with underlines\n",
      "[LightGBM] [Info] Auto-choosing row-wise multi-threading, the overhead of testing was 0.114966 seconds.\n",
      "You can set `force_row_wise=true` to remove the overhead.\n",
      "And if memory is not enough, you can set `force_col_wise=true`.\n",
      "[LightGBM] [Info] Total Bins 7955\n",
      "[LightGBM] [Info] Number of data points in the train set: 1381992, number of used features: 40\n",
      "[LightGBM] [Info] Start training from score -2.079442\n",
      "[LightGBM] [Info] Start training from score -2.079442\n",
      "[LightGBM] [Info] Start training from score -2.079442\n",
      "[LightGBM] [Info] Start training from score -2.079442\n",
      "[LightGBM] [Info] Start training from score -2.079442\n",
      "[LightGBM] [Info] Start training from score -2.079442\n",
      "[LightGBM] [Info] Start training from score -2.079442\n",
      "[LightGBM] [Info] Start training from score -2.079442\n"
     ]
    },
    {
     "name": "stderr",
     "output_type": "stream",
     "text": [
      " 44%|████▎     | 59/135 [1:59:27<3:13:47, 152.99s/it]"
     ]
    },
    {
     "name": "stdout",
     "output_type": "stream",
     "text": [
      "[LightGBM] [Warning] Found whitespace in feature_names, replace with underlines\n",
      "[LightGBM] [Info] Auto-choosing row-wise multi-threading, the overhead of testing was 0.118255 seconds.\n",
      "You can set `force_row_wise=true` to remove the overhead.\n",
      "And if memory is not enough, you can set `force_col_wise=true`.\n",
      "[LightGBM] [Info] Total Bins 7802\n",
      "[LightGBM] [Info] Number of data points in the train set: 1428008, number of used features: 39\n",
      "[LightGBM] [Info] Start training from score -2.079442\n",
      "[LightGBM] [Info] Start training from score -2.079442\n",
      "[LightGBM] [Info] Start training from score -2.079442\n",
      "[LightGBM] [Info] Start training from score -2.079442\n",
      "[LightGBM] [Info] Start training from score -2.079442\n",
      "[LightGBM] [Info] Start training from score -2.079442\n",
      "[LightGBM] [Info] Start training from score -2.079442\n",
      "[LightGBM] [Info] Start training from score -2.079442\n"
     ]
    },
    {
     "name": "stderr",
     "output_type": "stream",
     "text": [
      " 44%|████▍     | 60/135 [2:23:57<11:25:09, 548.13s/it]"
     ]
    },
    {
     "name": "stdout",
     "output_type": "stream",
     "text": [
      "[LightGBM] [Warning] Found whitespace in feature_names, replace with underlines\n",
      "[LightGBM] [Info] Auto-choosing row-wise multi-threading, the overhead of testing was 0.086606 seconds.\n",
      "You can set `force_row_wise=true` to remove the overhead.\n",
      "And if memory is not enough, you can set `force_col_wise=true`.\n",
      "[LightGBM] [Info] Total Bins 8027\n",
      "[LightGBM] [Info] Number of data points in the train set: 1478552, number of used features: 40\n",
      "[LightGBM] [Info] Start training from score -2.079442\n",
      "[LightGBM] [Info] Start training from score -2.079442\n",
      "[LightGBM] [Info] Start training from score -2.079442\n",
      "[LightGBM] [Info] Start training from score -2.079442\n",
      "[LightGBM] [Info] Start training from score -2.079442\n",
      "[LightGBM] [Info] Start training from score -2.079442\n",
      "[LightGBM] [Info] Start training from score -2.079442\n",
      "[LightGBM] [Info] Start training from score -2.079442\n"
     ]
    },
    {
     "name": "stderr",
     "output_type": "stream",
     "text": [
      " 45%|████▌     | 61/135 [2:25:27<8:26:26, 410.62s/it] "
     ]
    },
    {
     "name": "stdout",
     "output_type": "stream",
     "text": [
      "[LightGBM] [Warning] Found whitespace in feature_names, replace with underlines\n",
      "[LightGBM] [Info] Auto-choosing row-wise multi-threading, the overhead of testing was 0.087432 seconds.\n",
      "You can set `force_row_wise=true` to remove the overhead.\n",
      "And if memory is not enough, you can set `force_col_wise=true`.\n",
      "[LightGBM] [Info] Total Bins 8079\n",
      "[LightGBM] [Info] Number of data points in the train set: 1397160, number of used features: 40\n",
      "[LightGBM] [Info] Start training from score -2.079442\n",
      "[LightGBM] [Info] Start training from score -2.079442\n",
      "[LightGBM] [Info] Start training from score -2.079442\n",
      "[LightGBM] [Info] Start training from score -2.079442\n",
      "[LightGBM] [Info] Start training from score -2.079442\n",
      "[LightGBM] [Info] Start training from score -2.079442\n",
      "[LightGBM] [Info] Start training from score -2.079442\n",
      "[LightGBM] [Info] Start training from score -2.079442\n"
     ]
    },
    {
     "name": "stderr",
     "output_type": "stream",
     "text": [
      " 46%|████▌     | 62/135 [2:26:54<6:21:45, 313.78s/it]"
     ]
    },
    {
     "name": "stdout",
     "output_type": "stream",
     "text": [
      "[LightGBM] [Warning] Found whitespace in feature_names, replace with underlines\n",
      "[LightGBM] [Info] Auto-choosing row-wise multi-threading, the overhead of testing was 0.164510 seconds.\n",
      "You can set `force_row_wise=true` to remove the overhead.\n",
      "And if memory is not enough, you can set `force_col_wise=true`.\n",
      "[LightGBM] [Info] Total Bins 8013\n",
      "[LightGBM] [Info] Number of data points in the train set: 2567232, number of used features: 40\n",
      "[LightGBM] [Info] Start training from score -2.079442\n",
      "[LightGBM] [Info] Start training from score -2.079442\n",
      "[LightGBM] [Info] Start training from score -2.079442\n",
      "[LightGBM] [Info] Start training from score -2.079442\n",
      "[LightGBM] [Info] Start training from score -2.079442\n",
      "[LightGBM] [Info] Start training from score -2.079442\n",
      "[LightGBM] [Info] Start training from score -2.079442\n",
      "[LightGBM] [Info] Start training from score -2.079442\n"
     ]
    },
    {
     "name": "stderr",
     "output_type": "stream",
     "text": [
      " 47%|████▋     | 63/135 [2:30:28<5:40:26, 283.71s/it]"
     ]
    },
    {
     "name": "stdout",
     "output_type": "stream",
     "text": [
      "[LightGBM] [Warning] Found whitespace in feature_names, replace with underlines\n",
      "[LightGBM] [Info] Auto-choosing row-wise multi-threading, the overhead of testing was 0.078794 seconds.\n",
      "You can set `force_row_wise=true` to remove the overhead.\n",
      "And if memory is not enough, you can set `force_col_wise=true`.\n",
      "[LightGBM] [Info] Total Bins 7877\n",
      "[LightGBM] [Info] Number of data points in the train set: 1379952, number of used features: 40\n",
      "[LightGBM] [Info] Start training from score -2.079442\n",
      "[LightGBM] [Info] Start training from score -2.079442\n",
      "[LightGBM] [Info] Start training from score -2.079442\n",
      "[LightGBM] [Info] Start training from score -2.079442\n",
      "[LightGBM] [Info] Start training from score -2.079442\n",
      "[LightGBM] [Info] Start training from score -2.079442\n",
      "[LightGBM] [Info] Start training from score -2.079442\n",
      "[LightGBM] [Info] Start training from score -2.079442\n"
     ]
    },
    {
     "name": "stderr",
     "output_type": "stream",
     "text": [
      " 47%|████▋     | 64/135 [2:31:52<4:24:51, 223.82s/it]"
     ]
    },
    {
     "name": "stdout",
     "output_type": "stream",
     "text": [
      "[LightGBM] [Warning] Found whitespace in feature_names, replace with underlines\n",
      "[LightGBM] [Info] Auto-choosing row-wise multi-threading, the overhead of testing was 0.105207 seconds.\n",
      "You can set `force_row_wise=true` to remove the overhead.\n",
      "And if memory is not enough, you can set `force_col_wise=true`.\n",
      "[LightGBM] [Info] Total Bins 7829\n",
      "[LightGBM] [Info] Number of data points in the train set: 1532256, number of used features: 39\n",
      "[LightGBM] [Info] Start training from score -2.079442\n",
      "[LightGBM] [Info] Start training from score -2.079442\n",
      "[LightGBM] [Info] Start training from score -2.079442\n",
      "[LightGBM] [Info] Start training from score -2.079442\n",
      "[LightGBM] [Info] Start training from score -2.079442\n",
      "[LightGBM] [Info] Start training from score -2.079442\n",
      "[LightGBM] [Info] Start training from score -2.079442\n",
      "[LightGBM] [Info] Start training from score -2.079442\n"
     ]
    },
    {
     "name": "stderr",
     "output_type": "stream",
     "text": [
      " 48%|████▊     | 65/135 [2:33:57<3:46:38, 194.27s/it]"
     ]
    },
    {
     "name": "stdout",
     "output_type": "stream",
     "text": [
      "[LightGBM] [Warning] Found whitespace in feature_names, replace with underlines\n",
      "[LightGBM] [Info] Auto-choosing row-wise multi-threading, the overhead of testing was 0.149049 seconds.\n",
      "You can set `force_row_wise=true` to remove the overhead.\n",
      "And if memory is not enough, you can set `force_col_wise=true`.\n",
      "[LightGBM] [Info] Total Bins 7740\n",
      "[LightGBM] [Info] Number of data points in the train set: 1424024, number of used features: 40\n",
      "[LightGBM] [Info] Start training from score -2.079442\n",
      "[LightGBM] [Info] Start training from score -2.079442\n",
      "[LightGBM] [Info] Start training from score -2.079442\n",
      "[LightGBM] [Info] Start training from score -2.079442\n",
      "[LightGBM] [Info] Start training from score -2.079442\n",
      "[LightGBM] [Info] Start training from score -2.079442\n",
      "[LightGBM] [Info] Start training from score -2.079442\n",
      "[LightGBM] [Info] Start training from score -2.079442\n"
     ]
    },
    {
     "name": "stderr",
     "output_type": "stream",
     "text": [
      " 49%|████▉     | 66/135 [2:35:44<3:13:16, 168.07s/it]"
     ]
    },
    {
     "name": "stdout",
     "output_type": "stream",
     "text": [
      "[LightGBM] [Warning] Found whitespace in feature_names, replace with underlines\n",
      "[LightGBM] [Info] Auto-choosing row-wise multi-threading, the overhead of testing was 0.089161 seconds.\n",
      "You can set `force_row_wise=true` to remove the overhead.\n",
      "And if memory is not enough, you can set `force_col_wise=true`.\n",
      "[LightGBM] [Info] Total Bins 7980\n",
      "[LightGBM] [Info] Number of data points in the train set: 1257960, number of used features: 41\n",
      "[LightGBM] [Info] Start training from score -2.079442\n",
      "[LightGBM] [Info] Start training from score -2.079442\n",
      "[LightGBM] [Info] Start training from score -2.079442\n",
      "[LightGBM] [Info] Start training from score -2.079442\n",
      "[LightGBM] [Info] Start training from score -2.079442\n",
      "[LightGBM] [Info] Start training from score -2.079442\n",
      "[LightGBM] [Info] Start training from score -2.079442\n",
      "[LightGBM] [Info] Start training from score -2.079442\n"
     ]
    },
    {
     "name": "stderr",
     "output_type": "stream",
     "text": [
      " 50%|████▉     | 67/135 [2:37:11<2:42:51, 143.70s/it]"
     ]
    },
    {
     "name": "stdout",
     "output_type": "stream",
     "text": [
      "[LightGBM] [Warning] Found whitespace in feature_names, replace with underlines\n",
      "[LightGBM] [Info] Auto-choosing row-wise multi-threading, the overhead of testing was 0.096560 seconds.\n",
      "You can set `force_row_wise=true` to remove the overhead.\n",
      "And if memory is not enough, you can set `force_col_wise=true`.\n",
      "[LightGBM] [Info] Total Bins 7848\n",
      "[LightGBM] [Info] Number of data points in the train set: 1559528, number of used features: 39\n",
      "[LightGBM] [Info] Start training from score -2.079442\n",
      "[LightGBM] [Info] Start training from score -2.079442\n",
      "[LightGBM] [Info] Start training from score -2.079442\n",
      "[LightGBM] [Info] Start training from score -2.079442\n",
      "[LightGBM] [Info] Start training from score -2.079442\n",
      "[LightGBM] [Info] Start training from score -2.079442\n",
      "[LightGBM] [Info] Start training from score -2.079442\n",
      "[LightGBM] [Info] Start training from score -2.079442\n"
     ]
    },
    {
     "name": "stderr",
     "output_type": "stream",
     "text": [
      " 50%|█████     | 68/135 [2:38:46<2:24:08, 129.08s/it]"
     ]
    },
    {
     "name": "stdout",
     "output_type": "stream",
     "text": [
      "[LightGBM] [Warning] Found whitespace in feature_names, replace with underlines\n",
      "[LightGBM] [Info] Auto-choosing row-wise multi-threading, the overhead of testing was 0.085805 seconds.\n",
      "You can set `force_row_wise=true` to remove the overhead.\n",
      "And if memory is not enough, you can set `force_col_wise=true`.\n",
      "[LightGBM] [Info] Total Bins 8034\n",
      "[LightGBM] [Info] Number of data points in the train set: 1305208, number of used features: 42\n",
      "[LightGBM] [Info] Start training from score -2.079442\n",
      "[LightGBM] [Info] Start training from score -2.079442\n",
      "[LightGBM] [Info] Start training from score -2.079442\n",
      "[LightGBM] [Info] Start training from score -2.079442\n",
      "[LightGBM] [Info] Start training from score -2.079442\n",
      "[LightGBM] [Info] Start training from score -2.079442\n",
      "[LightGBM] [Info] Start training from score -2.079442\n",
      "[LightGBM] [Info] Start training from score -2.079442\n"
     ]
    },
    {
     "name": "stderr",
     "output_type": "stream",
     "text": [
      " 51%|█████     | 69/135 [2:40:01<2:04:00, 112.73s/it]"
     ]
    },
    {
     "name": "stdout",
     "output_type": "stream",
     "text": [
      "[LightGBM] [Warning] Found whitespace in feature_names, replace with underlines\n",
      "[LightGBM] [Info] Auto-choosing row-wise multi-threading, the overhead of testing was 0.087968 seconds.\n",
      "You can set `force_row_wise=true` to remove the overhead.\n",
      "And if memory is not enough, you can set `force_col_wise=true`.\n",
      "[LightGBM] [Info] Total Bins 7814\n",
      "[LightGBM] [Info] Number of data points in the train set: 1401936, number of used features: 40\n",
      "[LightGBM] [Info] Start training from score -2.079442\n",
      "[LightGBM] [Info] Start training from score -2.079442\n",
      "[LightGBM] [Info] Start training from score -2.079442\n",
      "[LightGBM] [Info] Start training from score -2.079442\n",
      "[LightGBM] [Info] Start training from score -2.079442\n",
      "[LightGBM] [Info] Start training from score -2.079442\n",
      "[LightGBM] [Info] Start training from score -2.079442\n",
      "[LightGBM] [Info] Start training from score -2.079442\n"
     ]
    },
    {
     "name": "stderr",
     "output_type": "stream",
     "text": [
      " 52%|█████▏    | 70/135 [2:41:21<1:51:44, 103.14s/it]"
     ]
    },
    {
     "name": "stdout",
     "output_type": "stream",
     "text": [
      "[LightGBM] [Warning] Found whitespace in feature_names, replace with underlines\n",
      "[LightGBM] [Info] Auto-choosing row-wise multi-threading, the overhead of testing was 0.093151 seconds.\n",
      "You can set `force_row_wise=true` to remove the overhead.\n",
      "And if memory is not enough, you can set `force_col_wise=true`.\n",
      "[LightGBM] [Info] Total Bins 7961\n",
      "[LightGBM] [Info] Number of data points in the train set: 1337376, number of used features: 40\n",
      "[LightGBM] [Info] Start training from score -2.079442\n",
      "[LightGBM] [Info] Start training from score -2.079442\n",
      "[LightGBM] [Info] Start training from score -2.079442\n",
      "[LightGBM] [Info] Start training from score -2.079442\n",
      "[LightGBM] [Info] Start training from score -2.079442\n",
      "[LightGBM] [Info] Start training from score -2.079442\n",
      "[LightGBM] [Info] Start training from score -2.079442\n",
      "[LightGBM] [Info] Start training from score -2.079442\n"
     ]
    },
    {
     "name": "stderr",
     "output_type": "stream",
     "text": [
      " 53%|█████▎    | 71/135 [2:42:40<1:42:05, 95.72s/it] "
     ]
    },
    {
     "name": "stdout",
     "output_type": "stream",
     "text": [
      "[LightGBM] [Warning] Found whitespace in feature_names, replace with underlines\n",
      "[LightGBM] [Info] Auto-choosing row-wise multi-threading, the overhead of testing was 0.104036 seconds.\n",
      "You can set `force_row_wise=true` to remove the overhead.\n",
      "And if memory is not enough, you can set `force_col_wise=true`.\n",
      "[LightGBM] [Info] Total Bins 8055\n",
      "[LightGBM] [Info] Number of data points in the train set: 1618544, number of used features: 41\n",
      "[LightGBM] [Info] Start training from score -2.079442\n",
      "[LightGBM] [Info] Start training from score -2.079442\n",
      "[LightGBM] [Info] Start training from score -2.079442\n",
      "[LightGBM] [Info] Start training from score -2.079442\n",
      "[LightGBM] [Info] Start training from score -2.079442\n",
      "[LightGBM] [Info] Start training from score -2.079442\n",
      "[LightGBM] [Info] Start training from score -2.079442\n",
      "[LightGBM] [Info] Start training from score -2.079442\n"
     ]
    },
    {
     "name": "stderr",
     "output_type": "stream",
     "text": [
      " 53%|█████▎    | 72/135 [2:44:23<1:43:00, 98.10s/it]"
     ]
    },
    {
     "name": "stdout",
     "output_type": "stream",
     "text": [
      "[LightGBM] [Warning] Found whitespace in feature_names, replace with underlines\n",
      "[LightGBM] [Info] Auto-choosing row-wise multi-threading, the overhead of testing was 0.124385 seconds.\n",
      "You can set `force_row_wise=true` to remove the overhead.\n",
      "And if memory is not enough, you can set `force_col_wise=true`.\n",
      "[LightGBM] [Info] Total Bins 8043\n",
      "[LightGBM] [Info] Number of data points in the train set: 1516016, number of used features: 42\n",
      "[LightGBM] [Info] Start training from score -2.079442\n",
      "[LightGBM] [Info] Start training from score -2.079442\n",
      "[LightGBM] [Info] Start training from score -2.079442\n",
      "[LightGBM] [Info] Start training from score -2.079442\n",
      "[LightGBM] [Info] Start training from score -2.079442\n",
      "[LightGBM] [Info] Start training from score -2.079442\n",
      "[LightGBM] [Info] Start training from score -2.079442\n",
      "[LightGBM] [Info] Start training from score -2.079442\n"
     ]
    },
    {
     "name": "stderr",
     "output_type": "stream",
     "text": [
      " 54%|█████▍    | 73/135 [2:45:58<1:40:13, 96.99s/it]"
     ]
    },
    {
     "name": "stdout",
     "output_type": "stream",
     "text": [
      "[LightGBM] [Warning] Found whitespace in feature_names, replace with underlines\n",
      "[LightGBM] [Info] Auto-choosing row-wise multi-threading, the overhead of testing was 0.096530 seconds.\n",
      "You can set `force_row_wise=true` to remove the overhead.\n",
      "And if memory is not enough, you can set `force_col_wise=true`.\n",
      "[LightGBM] [Info] Total Bins 7966\n",
      "[LightGBM] [Info] Number of data points in the train set: 1376144, number of used features: 41\n",
      "[LightGBM] [Info] Start training from score -2.079442\n",
      "[LightGBM] [Info] Start training from score -2.079442\n",
      "[LightGBM] [Info] Start training from score -2.079442\n",
      "[LightGBM] [Info] Start training from score -2.079442\n",
      "[LightGBM] [Info] Start training from score -2.079442\n",
      "[LightGBM] [Info] Start training from score -2.079442\n",
      "[LightGBM] [Info] Start training from score -2.079442\n",
      "[LightGBM] [Info] Start training from score -2.079442\n"
     ]
    },
    {
     "name": "stderr",
     "output_type": "stream",
     "text": [
      " 55%|█████▍    | 74/135 [2:47:15<1:32:26, 90.92s/it]"
     ]
    },
    {
     "name": "stdout",
     "output_type": "stream",
     "text": [
      "[LightGBM] [Warning] Found whitespace in feature_names, replace with underlines\n",
      "[LightGBM] [Info] Auto-choosing row-wise multi-threading, the overhead of testing was 0.081508 seconds.\n",
      "You can set `force_row_wise=true` to remove the overhead.\n",
      "And if memory is not enough, you can set `force_col_wise=true`.\n",
      "[LightGBM] [Info] Total Bins 7807\n",
      "[LightGBM] [Info] Number of data points in the train set: 1439072, number of used features: 39\n",
      "[LightGBM] [Info] Start training from score -2.079442\n",
      "[LightGBM] [Info] Start training from score -2.079442\n",
      "[LightGBM] [Info] Start training from score -2.079442\n",
      "[LightGBM] [Info] Start training from score -2.079442\n",
      "[LightGBM] [Info] Start training from score -2.079442\n",
      "[LightGBM] [Info] Start training from score -2.079442\n",
      "[LightGBM] [Info] Start training from score -2.079442\n",
      "[LightGBM] [Info] Start training from score -2.079442\n"
     ]
    },
    {
     "name": "stderr",
     "output_type": "stream",
     "text": [
      " 56%|█████▌    | 75/135 [2:48:36<1:27:57, 87.95s/it]"
     ]
    },
    {
     "name": "stdout",
     "output_type": "stream",
     "text": [
      "[LightGBM] [Warning] Found whitespace in feature_names, replace with underlines\n",
      "[LightGBM] [Info] Auto-choosing row-wise multi-threading, the overhead of testing was 0.155137 seconds.\n",
      "You can set `force_row_wise=true` to remove the overhead.\n",
      "And if memory is not enough, you can set `force_col_wise=true`.\n",
      "[LightGBM] [Info] Total Bins 7747\n",
      "[LightGBM] [Info] Number of data points in the train set: 2583408, number of used features: 39\n",
      "[LightGBM] [Info] Start training from score -2.079442\n",
      "[LightGBM] [Info] Start training from score -2.079442\n",
      "[LightGBM] [Info] Start training from score -2.079442\n",
      "[LightGBM] [Info] Start training from score -2.079442\n",
      "[LightGBM] [Info] Start training from score -2.079442\n",
      "[LightGBM] [Info] Start training from score -2.079442\n",
      "[LightGBM] [Info] Start training from score -2.079442\n",
      "[LightGBM] [Info] Start training from score -2.079442\n"
     ]
    },
    {
     "name": "stderr",
     "output_type": "stream",
     "text": [
      " 56%|█████▋    | 76/135 [2:51:53<1:58:49, 120.84s/it]"
     ]
    },
    {
     "name": "stdout",
     "output_type": "stream",
     "text": [
      "[LightGBM] [Warning] Found whitespace in feature_names, replace with underlines\n",
      "[LightGBM] [Info] Auto-choosing row-wise multi-threading, the overhead of testing was 0.152020 seconds.\n",
      "You can set `force_row_wise=true` to remove the overhead.\n",
      "And if memory is not enough, you can set `force_col_wise=true`.\n",
      "[LightGBM] [Info] Total Bins 7819\n",
      "[LightGBM] [Info] Number of data points in the train set: 2601552, number of used features: 42\n",
      "[LightGBM] [Info] Start training from score -2.079442\n",
      "[LightGBM] [Info] Start training from score -2.079442\n",
      "[LightGBM] [Info] Start training from score -2.079442\n",
      "[LightGBM] [Info] Start training from score -2.079442\n",
      "[LightGBM] [Info] Start training from score -2.079442\n",
      "[LightGBM] [Info] Start training from score -2.079442\n",
      "[LightGBM] [Info] Start training from score -2.079442\n",
      "[LightGBM] [Info] Start training from score -2.079442\n"
     ]
    },
    {
     "name": "stderr",
     "output_type": "stream",
     "text": [
      " 57%|█████▋    | 77/135 [2:55:16<2:20:35, 145.45s/it]"
     ]
    },
    {
     "name": "stdout",
     "output_type": "stream",
     "text": [
      "[LightGBM] [Warning] Found whitespace in feature_names, replace with underlines\n",
      "[LightGBM] [Info] Auto-choosing row-wise multi-threading, the overhead of testing was 0.160841 seconds.\n",
      "You can set `force_row_wise=true` to remove the overhead.\n",
      "And if memory is not enough, you can set `force_col_wise=true`.\n",
      "[LightGBM] [Info] Total Bins 7821\n",
      "[LightGBM] [Info] Number of data points in the train set: 2537056, number of used features: 41\n",
      "[LightGBM] [Info] Start training from score -2.079442\n",
      "[LightGBM] [Info] Start training from score -2.079442\n",
      "[LightGBM] [Info] Start training from score -2.079442\n",
      "[LightGBM] [Info] Start training from score -2.079442\n",
      "[LightGBM] [Info] Start training from score -2.079442\n",
      "[LightGBM] [Info] Start training from score -2.079442\n",
      "[LightGBM] [Info] Start training from score -2.079442\n",
      "[LightGBM] [Info] Start training from score -2.079442\n"
     ]
    },
    {
     "name": "stderr",
     "output_type": "stream",
     "text": [
      " 58%|█████▊    | 78/135 [2:58:35<2:33:18, 161.38s/it]"
     ]
    },
    {
     "name": "stdout",
     "output_type": "stream",
     "text": [
      "[LightGBM] [Warning] Found whitespace in feature_names, replace with underlines\n",
      "[LightGBM] [Info] Auto-choosing row-wise multi-threading, the overhead of testing was 0.190303 seconds.\n",
      "You can set `force_row_wise=true` to remove the overhead.\n",
      "And if memory is not enough, you can set `force_col_wise=true`.\n",
      "[LightGBM] [Info] Total Bins 8034\n",
      "[LightGBM] [Info] Number of data points in the train set: 2527712, number of used features: 42\n",
      "[LightGBM] [Info] Start training from score -2.079442\n",
      "[LightGBM] [Info] Start training from score -2.079442\n",
      "[LightGBM] [Info] Start training from score -2.079442\n",
      "[LightGBM] [Info] Start training from score -2.079442\n",
      "[LightGBM] [Info] Start training from score -2.079442\n",
      "[LightGBM] [Info] Start training from score -2.079442\n",
      "[LightGBM] [Info] Start training from score -2.079442\n",
      "[LightGBM] [Info] Start training from score -2.079442\n"
     ]
    },
    {
     "name": "stderr",
     "output_type": "stream",
     "text": [
      " 59%|█████▊    | 79/135 [3:01:56<2:41:42, 173.25s/it]"
     ]
    },
    {
     "name": "stdout",
     "output_type": "stream",
     "text": [
      "[LightGBM] [Warning] Found whitespace in feature_names, replace with underlines\n",
      "[LightGBM] [Info] Auto-choosing row-wise multi-threading, the overhead of testing was 0.168172 seconds.\n",
      "You can set `force_row_wise=true` to remove the overhead.\n",
      "And if memory is not enough, you can set `force_col_wise=true`.\n",
      "[LightGBM] [Info] Total Bins 7798\n",
      "[LightGBM] [Info] Number of data points in the train set: 2629592, number of used features: 42\n",
      "[LightGBM] [Info] Start training from score -2.079442\n",
      "[LightGBM] [Info] Start training from score -2.079442\n",
      "[LightGBM] [Info] Start training from score -2.079442\n",
      "[LightGBM] [Info] Start training from score -2.079442\n",
      "[LightGBM] [Info] Start training from score -2.079442\n",
      "[LightGBM] [Info] Start training from score -2.079442\n",
      "[LightGBM] [Info] Start training from score -2.079442\n",
      "[LightGBM] [Info] Start training from score -2.079442\n"
     ]
    },
    {
     "name": "stderr",
     "output_type": "stream",
     "text": [
      " 59%|█████▉    | 80/135 [3:05:17<2:46:42, 181.86s/it]"
     ]
    },
    {
     "name": "stdout",
     "output_type": "stream",
     "text": [
      "[LightGBM] [Warning] Found whitespace in feature_names, replace with underlines\n",
      "[LightGBM] [Info] Auto-choosing row-wise multi-threading, the overhead of testing was 0.088289 seconds.\n",
      "You can set `force_row_wise=true` to remove the overhead.\n",
      "And if memory is not enough, you can set `force_col_wise=true`.\n",
      "[LightGBM] [Info] Total Bins 7788\n",
      "[LightGBM] [Info] Number of data points in the train set: 1369744, number of used features: 41\n",
      "[LightGBM] [Info] Start training from score -2.079442\n",
      "[LightGBM] [Info] Start training from score -2.079442\n",
      "[LightGBM] [Info] Start training from score -2.079442\n",
      "[LightGBM] [Info] Start training from score -2.079442\n",
      "[LightGBM] [Info] Start training from score -2.079442\n",
      "[LightGBM] [Info] Start training from score -2.079442\n",
      "[LightGBM] [Info] Start training from score -2.079442\n",
      "[LightGBM] [Info] Start training from score -2.079442\n"
     ]
    },
    {
     "name": "stderr",
     "output_type": "stream",
     "text": [
      " 60%|██████    | 81/135 [3:06:40<2:16:49, 152.02s/it]"
     ]
    },
    {
     "name": "stdout",
     "output_type": "stream",
     "text": [
      "[LightGBM] [Warning] Found whitespace in feature_names, replace with underlines\n",
      "[LightGBM] [Info] Auto-choosing row-wise multi-threading, the overhead of testing was 0.085910 seconds.\n",
      "You can set `force_row_wise=true` to remove the overhead.\n",
      "And if memory is not enough, you can set `force_col_wise=true`.\n",
      "[LightGBM] [Info] Total Bins 8115\n",
      "[LightGBM] [Info] Number of data points in the train set: 1343240, number of used features: 40\n",
      "[LightGBM] [Info] Start training from score -2.079442\n",
      "[LightGBM] [Info] Start training from score -2.079442\n",
      "[LightGBM] [Info] Start training from score -2.079442\n",
      "[LightGBM] [Info] Start training from score -2.079442\n",
      "[LightGBM] [Info] Start training from score -2.079442\n",
      "[LightGBM] [Info] Start training from score -2.079442\n",
      "[LightGBM] [Info] Start training from score -2.079442\n",
      "[LightGBM] [Info] Start training from score -2.079442\n"
     ]
    },
    {
     "name": "stderr",
     "output_type": "stream",
     "text": [
      " 61%|██████    | 82/135 [3:08:01<1:55:34, 130.85s/it]"
     ]
    },
    {
     "name": "stdout",
     "output_type": "stream",
     "text": [
      "[LightGBM] [Warning] Found whitespace in feature_names, replace with underlines\n",
      "[LightGBM] [Info] Auto-choosing row-wise multi-threading, the overhead of testing was 0.084432 seconds.\n",
      "You can set `force_row_wise=true` to remove the overhead.\n",
      "And if memory is not enough, you can set `force_col_wise=true`.\n",
      "[LightGBM] [Info] Total Bins 8002\n",
      "[LightGBM] [Info] Number of data points in the train set: 1339984, number of used features: 40\n",
      "[LightGBM] [Info] Start training from score -2.079442\n",
      "[LightGBM] [Info] Start training from score -2.079442\n",
      "[LightGBM] [Info] Start training from score -2.079442\n",
      "[LightGBM] [Info] Start training from score -2.079442\n",
      "[LightGBM] [Info] Start training from score -2.079442\n",
      "[LightGBM] [Info] Start training from score -2.079442\n",
      "[LightGBM] [Info] Start training from score -2.079442\n",
      "[LightGBM] [Info] Start training from score -2.079442\n"
     ]
    },
    {
     "name": "stderr",
     "output_type": "stream",
     "text": [
      " 61%|██████▏   | 83/135 [3:09:20<1:39:48, 115.17s/it]"
     ]
    },
    {
     "name": "stdout",
     "output_type": "stream",
     "text": [
      "[LightGBM] [Warning] Found whitespace in feature_names, replace with underlines\n",
      "[LightGBM] [Info] Auto-choosing row-wise multi-threading, the overhead of testing was 0.090626 seconds.\n",
      "You can set `force_row_wise=true` to remove the overhead.\n",
      "And if memory is not enough, you can set `force_col_wise=true`.\n",
      "[LightGBM] [Info] Total Bins 8121\n",
      "[LightGBM] [Info] Number of data points in the train set: 1329016, number of used features: 40\n",
      "[LightGBM] [Info] Start training from score -2.079442\n",
      "[LightGBM] [Info] Start training from score -2.079442\n",
      "[LightGBM] [Info] Start training from score -2.079442\n",
      "[LightGBM] [Info] Start training from score -2.079442\n",
      "[LightGBM] [Info] Start training from score -2.079442\n",
      "[LightGBM] [Info] Start training from score -2.079442\n",
      "[LightGBM] [Info] Start training from score -2.079442\n",
      "[LightGBM] [Info] Start training from score -2.079442\n"
     ]
    },
    {
     "name": "stderr",
     "output_type": "stream",
     "text": [
      " 62%|██████▏   | 84/135 [3:10:38<1:28:22, 103.98s/it]"
     ]
    },
    {
     "name": "stdout",
     "output_type": "stream",
     "text": [
      "[LightGBM] [Warning] Found whitespace in feature_names, replace with underlines\n",
      "[LightGBM] [Info] Auto-choosing row-wise multi-threading, the overhead of testing was 0.092892 seconds.\n",
      "You can set `force_row_wise=true` to remove the overhead.\n",
      "And if memory is not enough, you can set `force_col_wise=true`.\n",
      "[LightGBM] [Info] Total Bins 7846\n",
      "[LightGBM] [Info] Number of data points in the train set: 1311176, number of used features: 42\n",
      "[LightGBM] [Info] Start training from score -2.079442\n",
      "[LightGBM] [Info] Start training from score -2.079442\n",
      "[LightGBM] [Info] Start training from score -2.079442\n",
      "[LightGBM] [Info] Start training from score -2.079442\n",
      "[LightGBM] [Info] Start training from score -2.079442\n",
      "[LightGBM] [Info] Start training from score -2.079442\n",
      "[LightGBM] [Info] Start training from score -2.079442\n",
      "[LightGBM] [Info] Start training from score -2.079442\n"
     ]
    },
    {
     "name": "stderr",
     "output_type": "stream",
     "text": [
      " 63%|██████▎   | 85/135 [3:11:56<1:20:06, 96.13s/it] "
     ]
    },
    {
     "name": "stdout",
     "output_type": "stream",
     "text": [
      "[LightGBM] [Warning] Found whitespace in feature_names, replace with underlines\n",
      "[LightGBM] [Info] Auto-choosing row-wise multi-threading, the overhead of testing was 0.086347 seconds.\n",
      "You can set `force_row_wise=true` to remove the overhead.\n",
      "And if memory is not enough, you can set `force_col_wise=true`.\n",
      "[LightGBM] [Info] Total Bins 8448\n",
      "[LightGBM] [Info] Number of data points in the train set: 1413296, number of used features: 40\n",
      "[LightGBM] [Info] Start training from score -2.079442\n",
      "[LightGBM] [Info] Start training from score -2.079442\n",
      "[LightGBM] [Info] Start training from score -2.079442\n",
      "[LightGBM] [Info] Start training from score -2.079442\n",
      "[LightGBM] [Info] Start training from score -2.079442\n",
      "[LightGBM] [Info] Start training from score -2.079442\n",
      "[LightGBM] [Info] Start training from score -2.079442\n",
      "[LightGBM] [Info] Start training from score -2.079442\n"
     ]
    },
    {
     "name": "stderr",
     "output_type": "stream",
     "text": [
      " 64%|██████▎   | 86/135 [3:13:21<1:15:54, 92.95s/it]"
     ]
    },
    {
     "name": "stdout",
     "output_type": "stream",
     "text": [
      "[LightGBM] [Warning] Found whitespace in feature_names, replace with underlines\n",
      "[LightGBM] [Info] Auto-choosing row-wise multi-threading, the overhead of testing was 0.092535 seconds.\n",
      "You can set `force_row_wise=true` to remove the overhead.\n",
      "And if memory is not enough, you can set `force_col_wise=true`.\n",
      "[LightGBM] [Info] Total Bins 7725\n",
      "[LightGBM] [Info] Number of data points in the train set: 1413040, number of used features: 39\n",
      "[LightGBM] [Info] Start training from score -2.079442\n",
      "[LightGBM] [Info] Start training from score -2.079442\n",
      "[LightGBM] [Info] Start training from score -2.079442\n",
      "[LightGBM] [Info] Start training from score -2.079442\n",
      "[LightGBM] [Info] Start training from score -2.079442\n",
      "[LightGBM] [Info] Start training from score -2.079442\n",
      "[LightGBM] [Info] Start training from score -2.079442\n",
      "[LightGBM] [Info] Start training from score -2.079442\n"
     ]
    },
    {
     "name": "stderr",
     "output_type": "stream",
     "text": [
      " 64%|██████▍   | 87/135 [3:14:48<1:13:00, 91.26s/it]"
     ]
    },
    {
     "name": "stdout",
     "output_type": "stream",
     "text": [
      "[LightGBM] [Warning] Found whitespace in feature_names, replace with underlines\n",
      "[LightGBM] [Info] Auto-choosing row-wise multi-threading, the overhead of testing was 0.088825 seconds.\n",
      "You can set `force_row_wise=true` to remove the overhead.\n",
      "And if memory is not enough, you can set `force_col_wise=true`.\n",
      "[LightGBM] [Info] Total Bins 8267\n",
      "[LightGBM] [Info] Number of data points in the train set: 1375560, number of used features: 40\n",
      "[LightGBM] [Info] Start training from score -2.079442\n",
      "[LightGBM] [Info] Start training from score -2.079442\n",
      "[LightGBM] [Info] Start training from score -2.079442\n",
      "[LightGBM] [Info] Start training from score -2.079442\n",
      "[LightGBM] [Info] Start training from score -2.079442\n",
      "[LightGBM] [Info] Start training from score -2.079442\n",
      "[LightGBM] [Info] Start training from score -2.079442\n",
      "[LightGBM] [Info] Start training from score -2.079442\n"
     ]
    },
    {
     "name": "stderr",
     "output_type": "stream",
     "text": [
      " 65%|██████▌   | 88/135 [3:16:13<1:09:51, 89.17s/it]"
     ]
    },
    {
     "name": "stdout",
     "output_type": "stream",
     "text": [
      "[LightGBM] [Warning] Found whitespace in feature_names, replace with underlines\n",
      "[LightGBM] [Info] Auto-choosing row-wise multi-threading, the overhead of testing was 0.082450 seconds.\n",
      "You can set `force_row_wise=true` to remove the overhead.\n",
      "And if memory is not enough, you can set `force_col_wise=true`.\n",
      "[LightGBM] [Info] Total Bins 8002\n",
      "[LightGBM] [Info] Number of data points in the train set: 1320056, number of used features: 39\n",
      "[LightGBM] [Info] Start training from score -2.079442\n",
      "[LightGBM] [Info] Start training from score -2.079442\n",
      "[LightGBM] [Info] Start training from score -2.079442\n",
      "[LightGBM] [Info] Start training from score -2.079442\n",
      "[LightGBM] [Info] Start training from score -2.079442\n",
      "[LightGBM] [Info] Start training from score -2.079442\n",
      "[LightGBM] [Info] Start training from score -2.079442\n",
      "[LightGBM] [Info] Start training from score -2.079442\n"
     ]
    },
    {
     "name": "stderr",
     "output_type": "stream",
     "text": [
      " 66%|██████▌   | 89/135 [3:17:34<1:06:37, 86.90s/it]"
     ]
    },
    {
     "name": "stdout",
     "output_type": "stream",
     "text": [
      "[LightGBM] [Warning] Found whitespace in feature_names, replace with underlines\n",
      "[LightGBM] [Info] Auto-choosing row-wise multi-threading, the overhead of testing was 0.089593 seconds.\n",
      "You can set `force_row_wise=true` to remove the overhead.\n",
      "And if memory is not enough, you can set `force_col_wise=true`.\n",
      "[LightGBM] [Info] Total Bins 7823\n",
      "[LightGBM] [Info] Number of data points in the train set: 1411120, number of used features: 40\n",
      "[LightGBM] [Info] Start training from score -2.079442\n",
      "[LightGBM] [Info] Start training from score -2.079442\n",
      "[LightGBM] [Info] Start training from score -2.079442\n",
      "[LightGBM] [Info] Start training from score -2.079442\n",
      "[LightGBM] [Info] Start training from score -2.079442\n",
      "[LightGBM] [Info] Start training from score -2.079442\n",
      "[LightGBM] [Info] Start training from score -2.079442\n",
      "[LightGBM] [Info] Start training from score -2.079442\n"
     ]
    },
    {
     "name": "stderr",
     "output_type": "stream",
     "text": [
      " 67%|██████▋   | 90/135 [3:19:03<1:05:30, 87.34s/it]"
     ]
    },
    {
     "name": "stdout",
     "output_type": "stream",
     "text": [
      "[LightGBM] [Warning] Found whitespace in feature_names, replace with underlines\n",
      "[LightGBM] [Info] Auto-choosing row-wise multi-threading, the overhead of testing was 0.081167 seconds.\n",
      "You can set `force_row_wise=true` to remove the overhead.\n",
      "And if memory is not enough, you can set `force_col_wise=true`.\n",
      "[LightGBM] [Info] Total Bins 7780\n",
      "[LightGBM] [Info] Number of data points in the train set: 1403288, number of used features: 39\n",
      "[LightGBM] [Info] Start training from score -2.079442\n",
      "[LightGBM] [Info] Start training from score -2.079442\n",
      "[LightGBM] [Info] Start training from score -2.079442\n",
      "[LightGBM] [Info] Start training from score -2.079442\n",
      "[LightGBM] [Info] Start training from score -2.079442\n",
      "[LightGBM] [Info] Start training from score -2.079442\n",
      "[LightGBM] [Info] Start training from score -2.079442\n",
      "[LightGBM] [Info] Start training from score -2.079442\n"
     ]
    },
    {
     "name": "stderr",
     "output_type": "stream",
     "text": [
      " 67%|██████▋   | 91/135 [3:20:30<1:03:55, 87.18s/it]"
     ]
    },
    {
     "name": "stdout",
     "output_type": "stream",
     "text": [
      "[LightGBM] [Warning] Found whitespace in feature_names, replace with underlines\n",
      "[LightGBM] [Info] Auto-choosing row-wise multi-threading, the overhead of testing was 0.099103 seconds.\n",
      "You can set `force_row_wise=true` to remove the overhead.\n",
      "And if memory is not enough, you can set `force_col_wise=true`.\n",
      "[LightGBM] [Info] Total Bins 7505\n",
      "[LightGBM] [Info] Number of data points in the train set: 1513248, number of used features: 40\n",
      "[LightGBM] [Info] Start training from score -2.079442\n",
      "[LightGBM] [Info] Start training from score -2.079442\n",
      "[LightGBM] [Info] Start training from score -2.079442\n",
      "[LightGBM] [Info] Start training from score -2.079442\n",
      "[LightGBM] [Info] Start training from score -2.079442\n",
      "[LightGBM] [Info] Start training from score -2.079442\n",
      "[LightGBM] [Info] Start training from score -2.079442\n",
      "[LightGBM] [Info] Start training from score -2.079442\n"
     ]
    },
    {
     "name": "stderr",
     "output_type": "stream",
     "text": [
      " 68%|██████▊   | 92/135 [3:22:05<1:04:15, 89.67s/it]"
     ]
    },
    {
     "name": "stdout",
     "output_type": "stream",
     "text": [
      "[LightGBM] [Warning] Found whitespace in feature_names, replace with underlines\n",
      "[LightGBM] [Info] Auto-choosing row-wise multi-threading, the overhead of testing was 0.089683 seconds.\n",
      "You can set `force_row_wise=true` to remove the overhead.\n",
      "And if memory is not enough, you can set `force_col_wise=true`.\n",
      "[LightGBM] [Info] Total Bins 8166\n",
      "[LightGBM] [Info] Number of data points in the train set: 1232744, number of used features: 42\n",
      "[LightGBM] [Info] Start training from score -2.079442\n",
      "[LightGBM] [Info] Start training from score -2.079442\n",
      "[LightGBM] [Info] Start training from score -2.079442\n",
      "[LightGBM] [Info] Start training from score -2.079442\n",
      "[LightGBM] [Info] Start training from score -2.079442\n",
      "[LightGBM] [Info] Start training from score -2.079442\n",
      "[LightGBM] [Info] Start training from score -2.079442\n",
      "[LightGBM] [Info] Start training from score -2.079442\n"
     ]
    },
    {
     "name": "stderr",
     "output_type": "stream",
     "text": [
      " 69%|██████▉   | 93/135 [3:23:31<1:01:58, 88.53s/it]"
     ]
    },
    {
     "name": "stdout",
     "output_type": "stream",
     "text": [
      "[LightGBM] [Warning] Found whitespace in feature_names, replace with underlines\n",
      "[LightGBM] [Info] Auto-choosing row-wise multi-threading, the overhead of testing was 0.100341 seconds.\n",
      "You can set `force_row_wise=true` to remove the overhead.\n",
      "And if memory is not enough, you can set `force_col_wise=true`.\n",
      "[LightGBM] [Info] Total Bins 7965\n",
      "[LightGBM] [Info] Number of data points in the train set: 1481128, number of used features: 40\n",
      "[LightGBM] [Info] Start training from score -2.079442\n",
      "[LightGBM] [Info] Start training from score -2.079442\n",
      "[LightGBM] [Info] Start training from score -2.079442\n",
      "[LightGBM] [Info] Start training from score -2.079442\n",
      "[LightGBM] [Info] Start training from score -2.079442\n",
      "[LightGBM] [Info] Start training from score -2.079442\n",
      "[LightGBM] [Info] Start training from score -2.079442\n",
      "[LightGBM] [Info] Start training from score -2.079442\n"
     ]
    },
    {
     "name": "stderr",
     "output_type": "stream",
     "text": [
      " 70%|██████▉   | 94/135 [3:25:09<1:02:24, 91.32s/it]"
     ]
    },
    {
     "name": "stdout",
     "output_type": "stream",
     "text": [
      "[LightGBM] [Warning] Found whitespace in feature_names, replace with underlines\n",
      "[LightGBM] [Info] Auto-choosing row-wise multi-threading, the overhead of testing was 0.171554 seconds.\n",
      "You can set `force_row_wise=true` to remove the overhead.\n",
      "And if memory is not enough, you can set `force_col_wise=true`.\n",
      "[LightGBM] [Info] Total Bins 8041\n",
      "[LightGBM] [Info] Number of data points in the train set: 2492544, number of used features: 43\n",
      "[LightGBM] [Info] Start training from score -2.079442\n",
      "[LightGBM] [Info] Start training from score -2.079442\n",
      "[LightGBM] [Info] Start training from score -2.079442\n",
      "[LightGBM] [Info] Start training from score -2.079442\n",
      "[LightGBM] [Info] Start training from score -2.079442\n",
      "[LightGBM] [Info] Start training from score -2.079442\n",
      "[LightGBM] [Info] Start training from score -2.079442\n",
      "[LightGBM] [Info] Start training from score -2.079442\n"
     ]
    },
    {
     "name": "stderr",
     "output_type": "stream",
     "text": [
      " 70%|███████   | 95/135 [3:28:37<1:24:21, 126.53s/it]"
     ]
    },
    {
     "name": "stdout",
     "output_type": "stream",
     "text": [
      "[LightGBM] [Warning] Found whitespace in feature_names, replace with underlines\n",
      "[LightGBM] [Info] Auto-choosing row-wise multi-threading, the overhead of testing was 0.166284 seconds.\n",
      "You can set `force_row_wise=true` to remove the overhead.\n",
      "And if memory is not enough, you can set `force_col_wise=true`.\n",
      "[LightGBM] [Info] Total Bins 7814\n",
      "[LightGBM] [Info] Number of data points in the train set: 2589152, number of used features: 40\n",
      "[LightGBM] [Info] Start training from score -2.079442\n",
      "[LightGBM] [Info] Start training from score -2.079442\n",
      "[LightGBM] [Info] Start training from score -2.079442\n",
      "[LightGBM] [Info] Start training from score -2.079442\n",
      "[LightGBM] [Info] Start training from score -2.079442\n",
      "[LightGBM] [Info] Start training from score -2.079442\n",
      "[LightGBM] [Info] Start training from score -2.079442\n",
      "[LightGBM] [Info] Start training from score -2.079442\n"
     ]
    },
    {
     "name": "stderr",
     "output_type": "stream",
     "text": [
      " 71%|███████   | 96/135 [3:32:20<1:41:04, 155.50s/it]"
     ]
    },
    {
     "name": "stdout",
     "output_type": "stream",
     "text": [
      "[LightGBM] [Warning] Found whitespace in feature_names, replace with underlines\n",
      "[LightGBM] [Info] Auto-choosing row-wise multi-threading, the overhead of testing was 0.100644 seconds.\n",
      "You can set `force_row_wise=true` to remove the overhead.\n",
      "And if memory is not enough, you can set `force_col_wise=true`.\n",
      "[LightGBM] [Info] Total Bins 7972\n",
      "[LightGBM] [Info] Number of data points in the train set: 1485416, number of used features: 41\n",
      "[LightGBM] [Info] Start training from score -2.079442\n",
      "[LightGBM] [Info] Start training from score -2.079442\n",
      "[LightGBM] [Info] Start training from score -2.079442\n",
      "[LightGBM] [Info] Start training from score -2.079442\n",
      "[LightGBM] [Info] Start training from score -2.079442\n",
      "[LightGBM] [Info] Start training from score -2.079442\n",
      "[LightGBM] [Info] Start training from score -2.079442\n",
      "[LightGBM] [Info] Start training from score -2.079442\n"
     ]
    },
    {
     "name": "stderr",
     "output_type": "stream",
     "text": [
      " 72%|███████▏  | 97/135 [3:34:00<1:27:45, 138.56s/it]"
     ]
    },
    {
     "name": "stdout",
     "output_type": "stream",
     "text": [
      "[LightGBM] [Warning] Found whitespace in feature_names, replace with underlines\n",
      "[LightGBM] [Info] Auto-choosing row-wise multi-threading, the overhead of testing was 0.099472 seconds.\n",
      "You can set `force_row_wise=true` to remove the overhead.\n",
      "And if memory is not enough, you can set `force_col_wise=true`.\n",
      "[LightGBM] [Info] Total Bins 7789\n",
      "[LightGBM] [Info] Number of data points in the train set: 1426784, number of used features: 41\n",
      "[LightGBM] [Info] Start training from score -2.079442\n",
      "[LightGBM] [Info] Start training from score -2.079442\n",
      "[LightGBM] [Info] Start training from score -2.079442\n",
      "[LightGBM] [Info] Start training from score -2.079442\n",
      "[LightGBM] [Info] Start training from score -2.079442\n",
      "[LightGBM] [Info] Start training from score -2.079442\n",
      "[LightGBM] [Info] Start training from score -2.079442\n",
      "[LightGBM] [Info] Start training from score -2.079442\n"
     ]
    },
    {
     "name": "stderr",
     "output_type": "stream",
     "text": [
      " 73%|███████▎  | 98/135 [3:35:31<1:16:44, 124.45s/it]"
     ]
    },
    {
     "name": "stdout",
     "output_type": "stream",
     "text": [
      "[LightGBM] [Warning] Found whitespace in feature_names, replace with underlines\n",
      "[LightGBM] [Info] Auto-choosing row-wise multi-threading, the overhead of testing was 0.192398 seconds.\n",
      "You can set `force_row_wise=true` to remove the overhead.\n",
      "And if memory is not enough, you can set `force_col_wise=true`.\n",
      "[LightGBM] [Info] Total Bins 7826\n",
      "[LightGBM] [Info] Number of data points in the train set: 2604984, number of used features: 41\n",
      "[LightGBM] [Info] Start training from score -2.079442\n",
      "[LightGBM] [Info] Start training from score -2.079442\n",
      "[LightGBM] [Info] Start training from score -2.079442\n",
      "[LightGBM] [Info] Start training from score -2.079442\n",
      "[LightGBM] [Info] Start training from score -2.079442\n",
      "[LightGBM] [Info] Start training from score -2.079442\n",
      "[LightGBM] [Info] Start training from score -2.079442\n",
      "[LightGBM] [Info] Start training from score -2.079442\n"
     ]
    },
    {
     "name": "stderr",
     "output_type": "stream",
     "text": [
      " 73%|███████▎  | 99/135 [3:39:16<1:32:49, 154.71s/it]"
     ]
    },
    {
     "name": "stdout",
     "output_type": "stream",
     "text": [
      "[LightGBM] [Warning] Found whitespace in feature_names, replace with underlines\n",
      "[LightGBM] [Info] Auto-choosing row-wise multi-threading, the overhead of testing was 0.094432 seconds.\n",
      "You can set `force_row_wise=true` to remove the overhead.\n",
      "And if memory is not enough, you can set `force_col_wise=true`.\n",
      "[LightGBM] [Info] Total Bins 7767\n",
      "[LightGBM] [Info] Number of data points in the train set: 1408656, number of used features: 41\n",
      "[LightGBM] [Info] Start training from score -2.079442\n",
      "[LightGBM] [Info] Start training from score -2.079442\n",
      "[LightGBM] [Info] Start training from score -2.079442\n",
      "[LightGBM] [Info] Start training from score -2.079442\n",
      "[LightGBM] [Info] Start training from score -2.079442\n",
      "[LightGBM] [Info] Start training from score -2.079442\n",
      "[LightGBM] [Info] Start training from score -2.079442\n",
      "[LightGBM] [Info] Start training from score -2.079442\n"
     ]
    },
    {
     "name": "stderr",
     "output_type": "stream",
     "text": [
      " 74%|███████▍  | 100/135 [3:40:47<1:19:05, 135.58s/it]"
     ]
    },
    {
     "name": "stdout",
     "output_type": "stream",
     "text": [
      "[LightGBM] [Warning] Found whitespace in feature_names, replace with underlines\n",
      "[LightGBM] [Info] Auto-choosing row-wise multi-threading, the overhead of testing was 0.089059 seconds.\n",
      "You can set `force_row_wise=true` to remove the overhead.\n",
      "And if memory is not enough, you can set `force_col_wise=true`.\n",
      "[LightGBM] [Info] Total Bins 7801\n",
      "[LightGBM] [Info] Number of data points in the train set: 1315624, number of used features: 39\n",
      "[LightGBM] [Info] Start training from score -2.079442\n",
      "[LightGBM] [Info] Start training from score -2.079442\n",
      "[LightGBM] [Info] Start training from score -2.079442\n",
      "[LightGBM] [Info] Start training from score -2.079442\n",
      "[LightGBM] [Info] Start training from score -2.079442\n",
      "[LightGBM] [Info] Start training from score -2.079442\n",
      "[LightGBM] [Info] Start training from score -2.079442\n",
      "[LightGBM] [Info] Start training from score -2.079442\n"
     ]
    },
    {
     "name": "stderr",
     "output_type": "stream",
     "text": [
      " 75%|███████▍  | 101/135 [3:42:10<1:07:46, 119.61s/it]"
     ]
    },
    {
     "name": "stdout",
     "output_type": "stream",
     "text": [
      "[LightGBM] [Warning] Found whitespace in feature_names, replace with underlines\n",
      "[LightGBM] [Info] Auto-choosing row-wise multi-threading, the overhead of testing was 0.092208 seconds.\n",
      "You can set `force_row_wise=true` to remove the overhead.\n",
      "And if memory is not enough, you can set `force_col_wise=true`.\n",
      "[LightGBM] [Info] Total Bins 7825\n",
      "[LightGBM] [Info] Number of data points in the train set: 1359736, number of used features: 39\n",
      "[LightGBM] [Info] Start training from score -2.079442\n",
      "[LightGBM] [Info] Start training from score -2.079442\n",
      "[LightGBM] [Info] Start training from score -2.079442\n",
      "[LightGBM] [Info] Start training from score -2.079442\n",
      "[LightGBM] [Info] Start training from score -2.079442\n",
      "[LightGBM] [Info] Start training from score -2.079442\n",
      "[LightGBM] [Info] Start training from score -2.079442\n",
      "[LightGBM] [Info] Start training from score -2.079442\n"
     ]
    },
    {
     "name": "stderr",
     "output_type": "stream",
     "text": [
      " 76%|███████▌  | 102/135 [3:43:37<1:00:31, 110.04s/it]"
     ]
    },
    {
     "name": "stdout",
     "output_type": "stream",
     "text": [
      "[LightGBM] [Warning] Found whitespace in feature_names, replace with underlines\n",
      "[LightGBM] [Info] Auto-choosing row-wise multi-threading, the overhead of testing was 0.095249 seconds.\n",
      "You can set `force_row_wise=true` to remove the overhead.\n",
      "And if memory is not enough, you can set `force_col_wise=true`.\n",
      "[LightGBM] [Info] Total Bins 8244\n",
      "[LightGBM] [Info] Number of data points in the train set: 1351400, number of used features: 40\n",
      "[LightGBM] [Info] Start training from score -2.079442\n",
      "[LightGBM] [Info] Start training from score -2.079442\n",
      "[LightGBM] [Info] Start training from score -2.079442\n",
      "[LightGBM] [Info] Start training from score -2.079442\n",
      "[LightGBM] [Info] Start training from score -2.079442\n",
      "[LightGBM] [Info] Start training from score -2.079442\n",
      "[LightGBM] [Info] Start training from score -2.079442\n",
      "[LightGBM] [Info] Start training from score -2.079442\n"
     ]
    },
    {
     "name": "stderr",
     "output_type": "stream",
     "text": [
      " 76%|███████▋  | 103/135 [3:45:03<54:44, 102.63s/it]  "
     ]
    },
    {
     "name": "stdout",
     "output_type": "stream",
     "text": [
      "[LightGBM] [Warning] Found whitespace in feature_names, replace with underlines\n",
      "[LightGBM] [Info] Auto-choosing row-wise multi-threading, the overhead of testing was 0.097532 seconds.\n",
      "You can set `force_row_wise=true` to remove the overhead.\n",
      "And if memory is not enough, you can set `force_col_wise=true`.\n",
      "[LightGBM] [Info] Total Bins 7777\n",
      "[LightGBM] [Info] Number of data points in the train set: 1470040, number of used features: 39\n",
      "[LightGBM] [Info] Start training from score -2.079442\n",
      "[LightGBM] [Info] Start training from score -2.079442\n",
      "[LightGBM] [Info] Start training from score -2.079442\n",
      "[LightGBM] [Info] Start training from score -2.079442\n",
      "[LightGBM] [Info] Start training from score -2.079442\n",
      "[LightGBM] [Info] Start training from score -2.079442\n",
      "[LightGBM] [Info] Start training from score -2.079442\n",
      "[LightGBM] [Info] Start training from score -2.079442\n"
     ]
    },
    {
     "name": "stderr",
     "output_type": "stream",
     "text": [
      " 77%|███████▋  | 104/135 [3:46:38<51:54, 100.45s/it]"
     ]
    },
    {
     "name": "stdout",
     "output_type": "stream",
     "text": [
      "[LightGBM] [Warning] Found whitespace in feature_names, replace with underlines\n",
      "[LightGBM] [Info] Auto-choosing row-wise multi-threading, the overhead of testing was 0.087010 seconds.\n",
      "You can set `force_row_wise=true` to remove the overhead.\n",
      "And if memory is not enough, you can set `force_col_wise=true`.\n",
      "[LightGBM] [Info] Total Bins 7949\n",
      "[LightGBM] [Info] Number of data points in the train set: 1304192, number of used features: 40\n",
      "[LightGBM] [Info] Start training from score -2.079442\n",
      "[LightGBM] [Info] Start training from score -2.079442\n",
      "[LightGBM] [Info] Start training from score -2.079442\n",
      "[LightGBM] [Info] Start training from score -2.079442\n",
      "[LightGBM] [Info] Start training from score -2.079442\n",
      "[LightGBM] [Info] Start training from score -2.079442\n",
      "[LightGBM] [Info] Start training from score -2.079442\n",
      "[LightGBM] [Info] Start training from score -2.079442\n"
     ]
    },
    {
     "name": "stderr",
     "output_type": "stream",
     "text": [
      " 78%|███████▊  | 105/135 [3:47:59<47:21, 94.70s/it] "
     ]
    },
    {
     "name": "stdout",
     "output_type": "stream",
     "text": [
      "[LightGBM] [Warning] Found whitespace in feature_names, replace with underlines\n",
      "[LightGBM] [Info] Auto-choosing row-wise multi-threading, the overhead of testing was 0.091531 seconds.\n",
      "You can set `force_row_wise=true` to remove the overhead.\n",
      "And if memory is not enough, you can set `force_col_wise=true`.\n",
      "[LightGBM] [Info] Total Bins 8028\n",
      "[LightGBM] [Info] Number of data points in the train set: 1350560, number of used features: 41\n",
      "[LightGBM] [Info] Start training from score -2.079442\n",
      "[LightGBM] [Info] Start training from score -2.079442\n",
      "[LightGBM] [Info] Start training from score -2.079442\n",
      "[LightGBM] [Info] Start training from score -2.079442\n",
      "[LightGBM] [Info] Start training from score -2.079442\n",
      "[LightGBM] [Info] Start training from score -2.079442\n",
      "[LightGBM] [Info] Start training from score -2.079442\n",
      "[LightGBM] [Info] Start training from score -2.079442\n"
     ]
    },
    {
     "name": "stderr",
     "output_type": "stream",
     "text": [
      " 79%|███████▊  | 106/135 [3:49:24<44:22, 91.80s/it]"
     ]
    },
    {
     "name": "stdout",
     "output_type": "stream",
     "text": [
      "[LightGBM] [Warning] Found whitespace in feature_names, replace with underlines\n",
      "[LightGBM] [Info] Auto-choosing row-wise multi-threading, the overhead of testing was 0.095900 seconds.\n",
      "You can set `force_row_wise=true` to remove the overhead.\n",
      "And if memory is not enough, you can set `force_col_wise=true`.\n",
      "[LightGBM] [Info] Total Bins 7750\n",
      "[LightGBM] [Info] Number of data points in the train set: 1459096, number of used features: 40\n",
      "[LightGBM] [Info] Start training from score -2.079442\n",
      "[LightGBM] [Info] Start training from score -2.079442\n",
      "[LightGBM] [Info] Start training from score -2.079442\n",
      "[LightGBM] [Info] Start training from score -2.079442\n",
      "[LightGBM] [Info] Start training from score -2.079442\n",
      "[LightGBM] [Info] Start training from score -2.079442\n",
      "[LightGBM] [Info] Start training from score -2.079442\n",
      "[LightGBM] [Info] Start training from score -2.079442\n"
     ]
    },
    {
     "name": "stderr",
     "output_type": "stream",
     "text": [
      " 79%|███████▉  | 107/135 [3:51:02<43:35, 93.42s/it]"
     ]
    },
    {
     "name": "stdout",
     "output_type": "stream",
     "text": [
      "[LightGBM] [Warning] Found whitespace in feature_names, replace with underlines\n",
      "[LightGBM] [Info] Auto-choosing row-wise multi-threading, the overhead of testing was 0.083446 seconds.\n",
      "You can set `force_row_wise=true` to remove the overhead.\n",
      "And if memory is not enough, you can set `force_col_wise=true`.\n",
      "[LightGBM] [Info] Total Bins 8310\n",
      "[LightGBM] [Info] Number of data points in the train set: 1302184, number of used features: 39\n",
      "[LightGBM] [Info] Start training from score -2.079442\n",
      "[LightGBM] [Info] Start training from score -2.079442\n",
      "[LightGBM] [Info] Start training from score -2.079442\n",
      "[LightGBM] [Info] Start training from score -2.079442\n",
      "[LightGBM] [Info] Start training from score -2.079442\n",
      "[LightGBM] [Info] Start training from score -2.079442\n",
      "[LightGBM] [Info] Start training from score -2.079442\n",
      "[LightGBM] [Info] Start training from score -2.079442\n"
     ]
    },
    {
     "name": "stderr",
     "output_type": "stream",
     "text": [
      " 80%|████████  | 108/135 [3:52:24<40:30, 90.00s/it]"
     ]
    },
    {
     "name": "stdout",
     "output_type": "stream",
     "text": [
      "[LightGBM] [Warning] Found whitespace in feature_names, replace with underlines\n",
      "[LightGBM] [Info] Auto-choosing row-wise multi-threading, the overhead of testing was 0.096773 seconds.\n",
      "You can set `force_row_wise=true` to remove the overhead.\n",
      "And if memory is not enough, you can set `force_col_wise=true`.\n",
      "[LightGBM] [Info] Total Bins 7787\n",
      "[LightGBM] [Info] Number of data points in the train set: 1352272, number of used features: 39\n",
      "[LightGBM] [Info] Start training from score -2.079442\n",
      "[LightGBM] [Info] Start training from score -2.079442\n",
      "[LightGBM] [Info] Start training from score -2.079442\n",
      "[LightGBM] [Info] Start training from score -2.079442\n",
      "[LightGBM] [Info] Start training from score -2.079442\n",
      "[LightGBM] [Info] Start training from score -2.079442\n",
      "[LightGBM] [Info] Start training from score -2.079442\n",
      "[LightGBM] [Info] Start training from score -2.079442\n"
     ]
    },
    {
     "name": "stderr",
     "output_type": "stream",
     "text": [
      " 81%|████████  | 109/135 [3:53:52<38:50, 89.63s/it]"
     ]
    },
    {
     "name": "stdout",
     "output_type": "stream",
     "text": [
      "[LightGBM] [Warning] Found whitespace in feature_names, replace with underlines\n",
      "[LightGBM] [Info] Auto-choosing row-wise multi-threading, the overhead of testing was 0.109830 seconds.\n",
      "You can set `force_row_wise=true` to remove the overhead.\n",
      "And if memory is not enough, you can set `force_col_wise=true`.\n",
      "[LightGBM] [Info] Total Bins 7854\n",
      "[LightGBM] [Info] Number of data points in the train set: 1531088, number of used features: 41\n",
      "[LightGBM] [Info] Start training from score -2.079442\n",
      "[LightGBM] [Info] Start training from score -2.079442\n",
      "[LightGBM] [Info] Start training from score -2.079442\n",
      "[LightGBM] [Info] Start training from score -2.079442\n",
      "[LightGBM] [Info] Start training from score -2.079442\n",
      "[LightGBM] [Info] Start training from score -2.079442\n",
      "[LightGBM] [Info] Start training from score -2.079442\n",
      "[LightGBM] [Info] Start training from score -2.079442\n"
     ]
    },
    {
     "name": "stderr",
     "output_type": "stream",
     "text": [
      " 81%|████████▏ | 110/135 [3:55:38<39:19, 94.40s/it]"
     ]
    },
    {
     "name": "stdout",
     "output_type": "stream",
     "text": [
      "[LightGBM] [Warning] Found whitespace in feature_names, replace with underlines\n",
      "[LightGBM] [Info] Auto-choosing row-wise multi-threading, the overhead of testing was 0.092546 seconds.\n",
      "You can set `force_row_wise=true` to remove the overhead.\n",
      "And if memory is not enough, you can set `force_col_wise=true`.\n",
      "[LightGBM] [Info] Total Bins 8207\n",
      "[LightGBM] [Info] Number of data points in the train set: 1375496, number of used features: 39\n",
      "[LightGBM] [Info] Start training from score -2.079442\n",
      "[LightGBM] [Info] Start training from score -2.079442\n",
      "[LightGBM] [Info] Start training from score -2.079442\n",
      "[LightGBM] [Info] Start training from score -2.079442\n",
      "[LightGBM] [Info] Start training from score -2.079442\n",
      "[LightGBM] [Info] Start training from score -2.079442\n",
      "[LightGBM] [Info] Start training from score -2.079442\n",
      "[LightGBM] [Info] Start training from score -2.079442\n"
     ]
    },
    {
     "name": "stderr",
     "output_type": "stream",
     "text": [
      " 82%|████████▏ | 111/135 [3:57:07<37:09, 92.89s/it]"
     ]
    },
    {
     "name": "stdout",
     "output_type": "stream",
     "text": [
      "[LightGBM] [Warning] Found whitespace in feature_names, replace with underlines\n",
      "[LightGBM] [Info] Auto-choosing row-wise multi-threading, the overhead of testing was 0.105329 seconds.\n",
      "You can set `force_row_wise=true` to remove the overhead.\n",
      "And if memory is not enough, you can set `force_col_wise=true`.\n",
      "[LightGBM] [Info] Total Bins 8011\n",
      "[LightGBM] [Info] Number of data points in the train set: 1568248, number of used features: 40\n",
      "[LightGBM] [Info] Start training from score -2.079442\n",
      "[LightGBM] [Info] Start training from score -2.079442\n",
      "[LightGBM] [Info] Start training from score -2.079442\n",
      "[LightGBM] [Info] Start training from score -2.079442\n",
      "[LightGBM] [Info] Start training from score -2.079442\n",
      "[LightGBM] [Info] Start training from score -2.079442\n",
      "[LightGBM] [Info] Start training from score -2.079442\n",
      "[LightGBM] [Info] Start training from score -2.079442\n"
     ]
    },
    {
     "name": "stderr",
     "output_type": "stream",
     "text": [
      " 83%|████████▎ | 112/135 [3:58:55<37:19, 97.36s/it]"
     ]
    },
    {
     "name": "stdout",
     "output_type": "stream",
     "text": [
      "[LightGBM] [Warning] Found whitespace in feature_names, replace with underlines\n",
      "[LightGBM] [Info] Auto-choosing row-wise multi-threading, the overhead of testing was 0.096152 seconds.\n",
      "You can set `force_row_wise=true` to remove the overhead.\n",
      "And if memory is not enough, you can set `force_col_wise=true`.\n",
      "[LightGBM] [Info] Total Bins 7963\n",
      "[LightGBM] [Info] Number of data points in the train set: 1479200, number of used features: 40\n",
      "[LightGBM] [Info] Start training from score -2.079442\n",
      "[LightGBM] [Info] Start training from score -2.079442\n",
      "[LightGBM] [Info] Start training from score -2.079442\n",
      "[LightGBM] [Info] Start training from score -2.079442\n",
      "[LightGBM] [Info] Start training from score -2.079442\n",
      "[LightGBM] [Info] Start training from score -2.079442\n",
      "[LightGBM] [Info] Start training from score -2.079442\n",
      "[LightGBM] [Info] Start training from score -2.079442\n"
     ]
    },
    {
     "name": "stderr",
     "output_type": "stream",
     "text": [
      " 84%|████████▎ | 113/135 [4:00:32<35:40, 97.32s/it]"
     ]
    },
    {
     "name": "stdout",
     "output_type": "stream",
     "text": [
      "[LightGBM] [Warning] Found whitespace in feature_names, replace with underlines\n",
      "[LightGBM] [Info] Auto-choosing row-wise multi-threading, the overhead of testing was 0.183230 seconds.\n",
      "You can set `force_row_wise=true` to remove the overhead.\n",
      "And if memory is not enough, you can set `force_col_wise=true`.\n",
      "[LightGBM] [Info] Total Bins 7761\n",
      "[LightGBM] [Info] Number of data points in the train set: 2628808, number of used features: 40\n",
      "[LightGBM] [Info] Start training from score -2.079442\n",
      "[LightGBM] [Info] Start training from score -2.079442\n",
      "[LightGBM] [Info] Start training from score -2.079442\n",
      "[LightGBM] [Info] Start training from score -2.079442\n",
      "[LightGBM] [Info] Start training from score -2.079442\n",
      "[LightGBM] [Info] Start training from score -2.079442\n",
      "[LightGBM] [Info] Start training from score -2.079442\n",
      "[LightGBM] [Info] Start training from score -2.079442\n"
     ]
    },
    {
     "name": "stderr",
     "output_type": "stream",
     "text": [
      " 84%|████████▍ | 114/135 [4:04:21<47:54, 136.87s/it]"
     ]
    },
    {
     "name": "stdout",
     "output_type": "stream",
     "text": [
      "[LightGBM] [Warning] Found whitespace in feature_names, replace with underlines\n",
      "[LightGBM] [Info] Auto-choosing row-wise multi-threading, the overhead of testing was 0.156684 seconds.\n",
      "You can set `force_row_wise=true` to remove the overhead.\n",
      "And if memory is not enough, you can set `force_col_wise=true`.\n",
      "[LightGBM] [Info] Total Bins 7773\n",
      "[LightGBM] [Info] Number of data points in the train set: 1395368, number of used features: 40\n",
      "[LightGBM] [Info] Start training from score -2.079442\n",
      "[LightGBM] [Info] Start training from score -2.079442\n",
      "[LightGBM] [Info] Start training from score -2.079442\n",
      "[LightGBM] [Info] Start training from score -2.079442\n",
      "[LightGBM] [Info] Start training from score -2.079442\n",
      "[LightGBM] [Info] Start training from score -2.079442\n",
      "[LightGBM] [Info] Start training from score -2.079442\n",
      "[LightGBM] [Info] Start training from score -2.079442\n"
     ]
    },
    {
     "name": "stderr",
     "output_type": "stream",
     "text": [
      " 85%|████████▌ | 115/135 [4:06:37<45:28, 136.41s/it]"
     ]
    },
    {
     "name": "stdout",
     "output_type": "stream",
     "text": [
      "[LightGBM] [Warning] Found whitespace in feature_names, replace with underlines\n",
      "[LightGBM] [Info] Auto-choosing row-wise multi-threading, the overhead of testing was 0.140524 seconds.\n",
      "You can set `force_row_wise=true` to remove the overhead.\n",
      "And if memory is not enough, you can set `force_col_wise=true`.\n",
      "[LightGBM] [Info] Total Bins 7760\n",
      "[LightGBM] [Info] Number of data points in the train set: 1274600, number of used features: 40\n",
      "[LightGBM] [Info] Start training from score -2.079442\n",
      "[LightGBM] [Info] Start training from score -2.079442\n",
      "[LightGBM] [Info] Start training from score -2.079442\n",
      "[LightGBM] [Info] Start training from score -2.079442\n",
      "[LightGBM] [Info] Start training from score -2.079442\n",
      "[LightGBM] [Info] Start training from score -2.079442\n",
      "[LightGBM] [Info] Start training from score -2.079442\n",
      "[LightGBM] [Info] Start training from score -2.079442\n"
     ]
    },
    {
     "name": "stderr",
     "output_type": "stream",
     "text": [
      " 86%|████████▌ | 116/135 [4:08:34<41:20, 130.57s/it]"
     ]
    },
    {
     "name": "stdout",
     "output_type": "stream",
     "text": [
      "[LightGBM] [Warning] Found whitespace in feature_names, replace with underlines\n",
      "[LightGBM] [Info] Auto-choosing row-wise multi-threading, the overhead of testing was 0.121890 seconds.\n",
      "You can set `force_row_wise=true` to remove the overhead.\n",
      "And if memory is not enough, you can set `force_col_wise=true`.\n",
      "[LightGBM] [Info] Total Bins 8193\n",
      "[LightGBM] [Info] Number of data points in the train set: 1420872, number of used features: 39\n",
      "[LightGBM] [Info] Start training from score -2.079442\n",
      "[LightGBM] [Info] Start training from score -2.079442\n",
      "[LightGBM] [Info] Start training from score -2.079442\n",
      "[LightGBM] [Info] Start training from score -2.079442\n",
      "[LightGBM] [Info] Start training from score -2.079442\n",
      "[LightGBM] [Info] Start training from score -2.079442\n",
      "[LightGBM] [Info] Start training from score -2.079442\n",
      "[LightGBM] [Info] Start training from score -2.079442\n"
     ]
    },
    {
     "name": "stderr",
     "output_type": "stream",
     "text": [
      " 87%|████████▋ | 117/135 [4:10:47<39:22, 131.24s/it]"
     ]
    },
    {
     "name": "stdout",
     "output_type": "stream",
     "text": [
      "[LightGBM] [Warning] Found whitespace in feature_names, replace with underlines\n",
      "[LightGBM] [Info] Auto-choosing row-wise multi-threading, the overhead of testing was 0.164911 seconds.\n",
      "You can set `force_row_wise=true` to remove the overhead.\n",
      "And if memory is not enough, you can set `force_col_wise=true`.\n",
      "[LightGBM] [Info] Total Bins 7972\n",
      "[LightGBM] [Info] Number of data points in the train set: 1416912, number of used features: 40\n",
      "[LightGBM] [Info] Start training from score -2.079442\n",
      "[LightGBM] [Info] Start training from score -2.079442\n",
      "[LightGBM] [Info] Start training from score -2.079442\n",
      "[LightGBM] [Info] Start training from score -2.079442\n",
      "[LightGBM] [Info] Start training from score -2.079442\n",
      "[LightGBM] [Info] Start training from score -2.079442\n",
      "[LightGBM] [Info] Start training from score -2.079442\n",
      "[LightGBM] [Info] Start training from score -2.079442\n"
     ]
    },
    {
     "name": "stderr",
     "output_type": "stream",
     "text": [
      " 87%|████████▋ | 118/135 [4:13:12<38:25, 135.63s/it]"
     ]
    },
    {
     "name": "stdout",
     "output_type": "stream",
     "text": [
      "[LightGBM] [Warning] Found whitespace in feature_names, replace with underlines\n",
      "[LightGBM] [Info] Auto-choosing row-wise multi-threading, the overhead of testing was 0.088073 seconds.\n",
      "You can set `force_row_wise=true` to remove the overhead.\n",
      "And if memory is not enough, you can set `force_col_wise=true`.\n",
      "[LightGBM] [Info] Total Bins 7780\n",
      "[LightGBM] [Info] Number of data points in the train set: 1282048, number of used features: 40\n",
      "[LightGBM] [Info] Start training from score -2.079442\n",
      "[LightGBM] [Info] Start training from score -2.079442\n",
      "[LightGBM] [Info] Start training from score -2.079442\n",
      "[LightGBM] [Info] Start training from score -2.079442\n",
      "[LightGBM] [Info] Start training from score -2.079442\n",
      "[LightGBM] [Info] Start training from score -2.079442\n",
      "[LightGBM] [Info] Start training from score -2.079442\n",
      "[LightGBM] [Info] Start training from score -2.079442\n"
     ]
    },
    {
     "name": "stderr",
     "output_type": "stream",
     "text": [
      " 88%|████████▊ | 119/135 [4:15:16<35:14, 132.17s/it]"
     ]
    },
    {
     "name": "stdout",
     "output_type": "stream",
     "text": [
      "[LightGBM] [Warning] Found whitespace in feature_names, replace with underlines\n",
      "[LightGBM] [Info] Auto-choosing row-wise multi-threading, the overhead of testing was 0.142921 seconds.\n",
      "You can set `force_row_wise=true` to remove the overhead.\n",
      "And if memory is not enough, you can set `force_col_wise=true`.\n",
      "[LightGBM] [Info] Total Bins 8013\n",
      "[LightGBM] [Info] Number of data points in the train set: 1397504, number of used features: 39\n",
      "[LightGBM] [Info] Start training from score -2.079442\n",
      "[LightGBM] [Info] Start training from score -2.079442\n",
      "[LightGBM] [Info] Start training from score -2.079442\n",
      "[LightGBM] [Info] Start training from score -2.079442\n",
      "[LightGBM] [Info] Start training from score -2.079442\n",
      "[LightGBM] [Info] Start training from score -2.079442\n",
      "[LightGBM] [Info] Start training from score -2.079442\n",
      "[LightGBM] [Info] Start training from score -2.079442\n"
     ]
    },
    {
     "name": "stderr",
     "output_type": "stream",
     "text": [
      " 89%|████████▉ | 120/135 [4:17:42<34:04, 136.29s/it]"
     ]
    },
    {
     "name": "stdout",
     "output_type": "stream",
     "text": [
      "[LightGBM] [Warning] Found whitespace in feature_names, replace with underlines\n",
      "[LightGBM] [Info] Auto-choosing row-wise multi-threading, the overhead of testing was 0.134916 seconds.\n",
      "You can set `force_row_wise=true` to remove the overhead.\n",
      "And if memory is not enough, you can set `force_col_wise=true`.\n",
      "[LightGBM] [Info] Total Bins 7816\n",
      "[LightGBM] [Info] Number of data points in the train set: 1368760, number of used features: 40\n",
      "[LightGBM] [Info] Start training from score -2.079442\n",
      "[LightGBM] [Info] Start training from score -2.079442\n",
      "[LightGBM] [Info] Start training from score -2.079442\n",
      "[LightGBM] [Info] Start training from score -2.079442\n",
      "[LightGBM] [Info] Start training from score -2.079442\n",
      "[LightGBM] [Info] Start training from score -2.079442\n",
      "[LightGBM] [Info] Start training from score -2.079442\n",
      "[LightGBM] [Info] Start training from score -2.079442\n"
     ]
    },
    {
     "name": "stderr",
     "output_type": "stream",
     "text": [
      " 90%|████████▉ | 121/135 [4:19:45<30:52, 132.29s/it]"
     ]
    },
    {
     "name": "stdout",
     "output_type": "stream",
     "text": [
      "[LightGBM] [Warning] Found whitespace in feature_names, replace with underlines\n",
      "[LightGBM] [Info] Auto-choosing row-wise multi-threading, the overhead of testing was 0.132251 seconds.\n",
      "You can set `force_row_wise=true` to remove the overhead.\n",
      "And if memory is not enough, you can set `force_col_wise=true`.\n",
      "[LightGBM] [Info] Total Bins 8169\n",
      "[LightGBM] [Info] Number of data points in the train set: 1435688, number of used features: 40\n",
      "[LightGBM] [Info] Start training from score -2.079442\n",
      "[LightGBM] [Info] Start training from score -2.079442\n",
      "[LightGBM] [Info] Start training from score -2.079442\n",
      "[LightGBM] [Info] Start training from score -2.079442\n",
      "[LightGBM] [Info] Start training from score -2.079442\n",
      "[LightGBM] [Info] Start training from score -2.079442\n",
      "[LightGBM] [Info] Start training from score -2.079442\n",
      "[LightGBM] [Info] Start training from score -2.079442\n"
     ]
    },
    {
     "name": "stderr",
     "output_type": "stream",
     "text": [
      " 90%|█████████ | 122/135 [4:22:06<29:10, 134.69s/it]"
     ]
    },
    {
     "name": "stdout",
     "output_type": "stream",
     "text": [
      "[LightGBM] [Warning] Found whitespace in feature_names, replace with underlines\n",
      "[LightGBM] [Info] Auto-choosing row-wise multi-threading, the overhead of testing was 0.089060 seconds.\n",
      "You can set `force_row_wise=true` to remove the overhead.\n",
      "And if memory is not enough, you can set `force_col_wise=true`.\n",
      "[LightGBM] [Info] Total Bins 7827\n",
      "[LightGBM] [Info] Number of data points in the train set: 1448728, number of used features: 39\n",
      "[LightGBM] [Info] Start training from score -2.079442\n",
      "[LightGBM] [Info] Start training from score -2.079442\n",
      "[LightGBM] [Info] Start training from score -2.079442\n",
      "[LightGBM] [Info] Start training from score -2.079442\n",
      "[LightGBM] [Info] Start training from score -2.079442\n",
      "[LightGBM] [Info] Start training from score -2.079442\n",
      "[LightGBM] [Info] Start training from score -2.079442\n",
      "[LightGBM] [Info] Start training from score -2.079442\n"
     ]
    },
    {
     "name": "stderr",
     "output_type": "stream",
     "text": [
      " 91%|█████████ | 123/135 [4:24:19<26:52, 134.38s/it]"
     ]
    },
    {
     "name": "stdout",
     "output_type": "stream",
     "text": [
      "[LightGBM] [Warning] Found whitespace in feature_names, replace with underlines\n",
      "[LightGBM] [Info] Auto-choosing row-wise multi-threading, the overhead of testing was 0.116029 seconds.\n",
      "You can set `force_row_wise=true` to remove the overhead.\n",
      "And if memory is not enough, you can set `force_col_wise=true`.\n",
      "[LightGBM] [Info] Total Bins 8097\n",
      "[LightGBM] [Info] Number of data points in the train set: 1493784, number of used features: 40\n",
      "[LightGBM] [Info] Start training from score -2.079442\n",
      "[LightGBM] [Info] Start training from score -2.079442\n",
      "[LightGBM] [Info] Start training from score -2.079442\n",
      "[LightGBM] [Info] Start training from score -2.079442\n",
      "[LightGBM] [Info] Start training from score -2.079442\n",
      "[LightGBM] [Info] Start training from score -2.079442\n",
      "[LightGBM] [Info] Start training from score -2.079442\n",
      "[LightGBM] [Info] Start training from score -2.079442\n"
     ]
    },
    {
     "name": "stderr",
     "output_type": "stream",
     "text": [
      " 92%|█████████▏| 124/135 [4:26:40<24:59, 136.32s/it]"
     ]
    },
    {
     "name": "stdout",
     "output_type": "stream",
     "text": [
      "[LightGBM] [Warning] Found whitespace in feature_names, replace with underlines\n",
      "[LightGBM] [Info] Auto-choosing row-wise multi-threading, the overhead of testing was 0.112451 seconds.\n",
      "You can set `force_row_wise=true` to remove the overhead.\n",
      "And if memory is not enough, you can set `force_col_wise=true`.\n",
      "[LightGBM] [Info] Total Bins 7837\n",
      "[LightGBM] [Info] Number of data points in the train set: 1446768, number of used features: 40\n",
      "[LightGBM] [Info] Start training from score -2.079442\n",
      "[LightGBM] [Info] Start training from score -2.079442\n",
      "[LightGBM] [Info] Start training from score -2.079442\n",
      "[LightGBM] [Info] Start training from score -2.079442\n",
      "[LightGBM] [Info] Start training from score -2.079442\n",
      "[LightGBM] [Info] Start training from score -2.079442\n",
      "[LightGBM] [Info] Start training from score -2.079442\n",
      "[LightGBM] [Info] Start training from score -2.079442\n"
     ]
    },
    {
     "name": "stderr",
     "output_type": "stream",
     "text": [
      " 93%|█████████▎| 125/135 [4:28:52<22:31, 135.11s/it]"
     ]
    },
    {
     "name": "stdout",
     "output_type": "stream",
     "text": [
      "[LightGBM] [Warning] Found whitespace in feature_names, replace with underlines\n",
      "[LightGBM] [Info] Auto-choosing row-wise multi-threading, the overhead of testing was 0.195267 seconds.\n",
      "You can set `force_row_wise=true` to remove the overhead.\n",
      "And if memory is not enough, you can set `force_col_wise=true`.\n",
      "[LightGBM] [Info] Total Bins 7768\n",
      "[LightGBM] [Info] Number of data points in the train set: 2616584, number of used features: 41\n",
      "[LightGBM] [Info] Start training from score -2.079442\n",
      "[LightGBM] [Info] Start training from score -2.079442\n",
      "[LightGBM] [Info] Start training from score -2.079442\n",
      "[LightGBM] [Info] Start training from score -2.079442\n",
      "[LightGBM] [Info] Start training from score -2.079442\n",
      "[LightGBM] [Info] Start training from score -2.079442\n",
      "[LightGBM] [Info] Start training from score -2.079442\n",
      "[LightGBM] [Info] Start training from score -2.079442\n"
     ]
    },
    {
     "name": "stderr",
     "output_type": "stream",
     "text": [
      " 93%|█████████▎| 126/135 [4:34:06<28:17, 188.64s/it]"
     ]
    },
    {
     "name": "stdout",
     "output_type": "stream",
     "text": [
      "[LightGBM] [Warning] Found whitespace in feature_names, replace with underlines\n",
      "[LightGBM] [Info] Auto-choosing row-wise multi-threading, the overhead of testing was 0.124607 seconds.\n",
      "You can set `force_row_wise=true` to remove the overhead.\n",
      "And if memory is not enough, you can set `force_col_wise=true`.\n",
      "[LightGBM] [Info] Total Bins 7841\n",
      "[LightGBM] [Info] Number of data points in the train set: 1364840, number of used features: 40\n",
      "[LightGBM] [Info] Start training from score -2.079442\n",
      "[LightGBM] [Info] Start training from score -2.079442\n",
      "[LightGBM] [Info] Start training from score -2.079442\n",
      "[LightGBM] [Info] Start training from score -2.079442\n",
      "[LightGBM] [Info] Start training from score -2.079442\n",
      "[LightGBM] [Info] Start training from score -2.079442\n",
      "[LightGBM] [Info] Start training from score -2.079442\n",
      "[LightGBM] [Info] Start training from score -2.079442\n"
     ]
    },
    {
     "name": "stderr",
     "output_type": "stream",
     "text": [
      " 94%|█████████▍| 127/135 [4:36:00<22:09, 166.22s/it]"
     ]
    },
    {
     "name": "stdout",
     "output_type": "stream",
     "text": [
      "[LightGBM] [Warning] Found whitespace in feature_names, replace with underlines\n",
      "[LightGBM] [Info] Auto-choosing row-wise multi-threading, the overhead of testing was 0.238562 seconds.\n",
      "You can set `force_row_wise=true` to remove the overhead.\n",
      "And if memory is not enough, you can set `force_col_wise=true`.\n",
      "[LightGBM] [Info] Total Bins 7815\n",
      "[LightGBM] [Info] Number of data points in the train set: 2609824, number of used features: 42\n",
      "[LightGBM] [Info] Start training from score -2.079442\n",
      "[LightGBM] [Info] Start training from score -2.079442\n",
      "[LightGBM] [Info] Start training from score -2.079442\n",
      "[LightGBM] [Info] Start training from score -2.079442\n",
      "[LightGBM] [Info] Start training from score -2.079442\n",
      "[LightGBM] [Info] Start training from score -2.079442\n",
      "[LightGBM] [Info] Start training from score -2.079442\n",
      "[LightGBM] [Info] Start training from score -2.079442\n"
     ]
    },
    {
     "name": "stderr",
     "output_type": "stream",
     "text": [
      " 95%|█████████▍| 128/135 [4:41:25<24:57, 213.86s/it]"
     ]
    },
    {
     "name": "stdout",
     "output_type": "stream",
     "text": [
      "[LightGBM] [Warning] Found whitespace in feature_names, replace with underlines\n",
      "[LightGBM] [Info] Auto-choosing row-wise multi-threading, the overhead of testing was 0.147970 seconds.\n",
      "You can set `force_row_wise=true` to remove the overhead.\n",
      "And if memory is not enough, you can set `force_col_wise=true`.\n",
      "[LightGBM] [Info] Total Bins 7844\n",
      "[LightGBM] [Info] Number of data points in the train set: 1398728, number of used features: 40\n",
      "[LightGBM] [Info] Start training from score -2.079442\n",
      "[LightGBM] [Info] Start training from score -2.079442\n",
      "[LightGBM] [Info] Start training from score -2.079442\n",
      "[LightGBM] [Info] Start training from score -2.079442\n",
      "[LightGBM] [Info] Start training from score -2.079442\n",
      "[LightGBM] [Info] Start training from score -2.079442\n",
      "[LightGBM] [Info] Start training from score -2.079442\n",
      "[LightGBM] [Info] Start training from score -2.079442\n"
     ]
    },
    {
     "name": "stderr",
     "output_type": "stream",
     "text": [
      " 96%|█████████▌| 129/135 [4:43:48<19:16, 192.69s/it]"
     ]
    },
    {
     "name": "stdout",
     "output_type": "stream",
     "text": [
      "[LightGBM] [Warning] Found whitespace in feature_names, replace with underlines\n",
      "[LightGBM] [Info] Auto-choosing row-wise multi-threading, the overhead of testing was 0.118264 seconds.\n",
      "You can set `force_row_wise=true` to remove the overhead.\n",
      "And if memory is not enough, you can set `force_col_wise=true`.\n",
      "[LightGBM] [Info] Total Bins 8111\n",
      "[LightGBM] [Info] Number of data points in the train set: 1339640, number of used features: 42\n",
      "[LightGBM] [Info] Start training from score -2.079442\n",
      "[LightGBM] [Info] Start training from score -2.079442\n",
      "[LightGBM] [Info] Start training from score -2.079442\n",
      "[LightGBM] [Info] Start training from score -2.079442\n",
      "[LightGBM] [Info] Start training from score -2.079442\n",
      "[LightGBM] [Info] Start training from score -2.079442\n",
      "[LightGBM] [Info] Start training from score -2.079442\n",
      "[LightGBM] [Info] Start training from score -2.079442\n"
     ]
    },
    {
     "name": "stderr",
     "output_type": "stream",
     "text": [
      " 96%|█████████▋| 130/135 [4:45:49<14:15, 171.15s/it]"
     ]
    },
    {
     "name": "stdout",
     "output_type": "stream",
     "text": [
      "[LightGBM] [Warning] Found whitespace in feature_names, replace with underlines\n",
      "[LightGBM] [Info] Auto-choosing col-wise multi-threading, the overhead of testing was 0.273893 seconds.\n",
      "You can set `force_col_wise=true` to remove the overhead.\n",
      "[LightGBM] [Info] Total Bins 7934\n",
      "[LightGBM] [Info] Number of data points in the train set: 1497472, number of used features: 41\n",
      "[LightGBM] [Info] Start training from score -2.079442\n",
      "[LightGBM] [Info] Start training from score -2.079442\n",
      "[LightGBM] [Info] Start training from score -2.079442\n",
      "[LightGBM] [Info] Start training from score -2.079442\n",
      "[LightGBM] [Info] Start training from score -2.079442\n",
      "[LightGBM] [Info] Start training from score -2.079442\n",
      "[LightGBM] [Info] Start training from score -2.079442\n",
      "[LightGBM] [Info] Start training from score -2.079442\n"
     ]
    },
    {
     "name": "stderr",
     "output_type": "stream",
     "text": [
      " 97%|█████████▋| 131/135 [4:47:42<10:15, 153.75s/it]"
     ]
    },
    {
     "name": "stdout",
     "output_type": "stream",
     "text": [
      "[LightGBM] [Warning] Found whitespace in feature_names, replace with underlines\n",
      "[LightGBM] [Info] Auto-choosing row-wise multi-threading, the overhead of testing was 0.167492 seconds.\n",
      "You can set `force_row_wise=true` to remove the overhead.\n",
      "And if memory is not enough, you can set `force_col_wise=true`.\n",
      "[LightGBM] [Info] Total Bins 8030\n",
      "[LightGBM] [Info] Number of data points in the train set: 2594544, number of used features: 40\n",
      "[LightGBM] [Info] Start training from score -2.079442\n",
      "[LightGBM] [Info] Start training from score -2.079442\n",
      "[LightGBM] [Info] Start training from score -2.079442\n",
      "[LightGBM] [Info] Start training from score -2.079442\n",
      "[LightGBM] [Info] Start training from score -2.079442\n",
      "[LightGBM] [Info] Start training from score -2.079442\n",
      "[LightGBM] [Info] Start training from score -2.079442\n",
      "[LightGBM] [Info] Start training from score -2.079442\n"
     ]
    },
    {
     "name": "stderr",
     "output_type": "stream",
     "text": [
      " 98%|█████████▊| 132/135 [4:51:31<08:49, 176.37s/it]"
     ]
    },
    {
     "name": "stdout",
     "output_type": "stream",
     "text": [
      "[LightGBM] [Warning] Found whitespace in feature_names, replace with underlines\n",
      "[LightGBM] [Info] Auto-choosing row-wise multi-threading, the overhead of testing was 0.092007 seconds.\n",
      "You can set `force_row_wise=true` to remove the overhead.\n",
      "And if memory is not enough, you can set `force_col_wise=true`.\n",
      "[LightGBM] [Info] Total Bins 7753\n",
      "[LightGBM] [Info] Number of data points in the train set: 1391560, number of used features: 39\n",
      "[LightGBM] [Info] Start training from score -2.079442\n",
      "[LightGBM] [Info] Start training from score -2.079442\n",
      "[LightGBM] [Info] Start training from score -2.079442\n",
      "[LightGBM] [Info] Start training from score -2.079442\n",
      "[LightGBM] [Info] Start training from score -2.079442\n",
      "[LightGBM] [Info] Start training from score -2.079442\n",
      "[LightGBM] [Info] Start training from score -2.079442\n",
      "[LightGBM] [Info] Start training from score -2.079442\n"
     ]
    },
    {
     "name": "stderr",
     "output_type": "stream",
     "text": [
      " 99%|█████████▊| 133/135 [4:53:01<05:00, 150.46s/it]"
     ]
    },
    {
     "name": "stdout",
     "output_type": "stream",
     "text": [
      "[LightGBM] [Warning] Found whitespace in feature_names, replace with underlines\n",
      "[LightGBM] [Info] Auto-choosing row-wise multi-threading, the overhead of testing was 0.138265 seconds.\n",
      "You can set `force_row_wise=true` to remove the overhead.\n",
      "And if memory is not enough, you can set `force_col_wise=true`.\n",
      "[LightGBM] [Info] Total Bins 7816\n",
      "[LightGBM] [Info] Number of data points in the train set: 1398424, number of used features: 39\n",
      "[LightGBM] [Info] Start training from score -2.079442\n",
      "[LightGBM] [Info] Start training from score -2.079442\n",
      "[LightGBM] [Info] Start training from score -2.079442\n",
      "[LightGBM] [Info] Start training from score -2.079442\n",
      "[LightGBM] [Info] Start training from score -2.079442\n",
      "[LightGBM] [Info] Start training from score -2.079442\n",
      "[LightGBM] [Info] Start training from score -2.079442\n",
      "[LightGBM] [Info] Start training from score -2.079442\n"
     ]
    },
    {
     "name": "stderr",
     "output_type": "stream",
     "text": [
      " 99%|█████████▉| 134/135 [4:55:02<02:21, 141.47s/it]"
     ]
    },
    {
     "name": "stdout",
     "output_type": "stream",
     "text": [
      "[LightGBM] [Warning] Found whitespace in feature_names, replace with underlines\n",
      "[LightGBM] [Info] Auto-choosing col-wise multi-threading, the overhead of testing was 0.408135 seconds.\n",
      "You can set `force_col_wise=true` to remove the overhead.\n",
      "[LightGBM] [Info] Total Bins 7924\n",
      "[LightGBM] [Info] Number of data points in the train set: 1419408, number of used features: 40\n",
      "[LightGBM] [Info] Start training from score -2.079442\n",
      "[LightGBM] [Info] Start training from score -2.079442\n",
      "[LightGBM] [Info] Start training from score -2.079442\n",
      "[LightGBM] [Info] Start training from score -2.079442\n",
      "[LightGBM] [Info] Start training from score -2.079442\n",
      "[LightGBM] [Info] Start training from score -2.079442\n",
      "[LightGBM] [Info] Start training from score -2.079442\n",
      "[LightGBM] [Info] Start training from score -2.079442\n"
     ]
    },
    {
     "name": "stderr",
     "output_type": "stream",
     "text": [
      "100%|██████████| 135/135 [4:57:56<00:00, 132.42s/it]\n"
     ]
    }
   ],
   "source": [
    "# Loop de treinamento\n",
    "for train_set in tqdm(training_sets):\n",
    "    df_train = pd.read_csv(os.path.join(DATASET_DIRECTORY, train_set))\n",
    "    df_train[X_columns] = scaler.fit_transform(df_train[X_columns])\n",
    "    \n",
    "    # Mapeie as classes 'Attack' e 'Benign' para 0 e 1\n",
    "    df_train[y_column] = df_train[y_column].map(dict_7classes)\n",
    "    \n",
    "    # Aplica o SMOTE para balancear os dados\n",
    "    smote = SMOTE(sampling_strategy='auto', random_state=42)\n",
    "    X_resampled, y_resampled = smote.fit_resample(df_train[X_columns], df_train[y_column])\n",
    "    \n",
    "    lgbm_model = LGBMClassifier()  # Use o LGBMClassifier\n",
    "    lgbm_model.fit(X_resampled, y_resampled)"
   ]
  },
  {
   "cell_type": "code",
   "execution_count": 10,
   "metadata": {},
   "outputs": [
    {
     "name": "stderr",
     "output_type": "stream",
     "text": [
      "100%|██████████| 34/34 [04:33<00:00,  8.04s/it]\n"
     ]
    }
   ],
   "source": [
    "# Avaliação no conjunto de teste\n",
    "y_test = []\n",
    "y_pred_lgbm = []\n",
    "\n",
    "for test_set in tqdm(test_sets):\n",
    "    df_test = pd.read_csv(os.path.join(DATASET_DIRECTORY, test_set))\n",
    "    df_test[X_columns] = scaler.transform(df_test[X_columns])\n",
    "    \n",
    "    # Mapeie as classes 'Attack' e 'Benign' para 0 e 1\n",
    "    df_test[y_column] = df_test[y_column].map(dict_7classes)\n",
    "    \n",
    "    y_test += list(df_test[y_column].values)\n",
    "    \n",
    "    # Use o modelo LGBM treinado\n",
    "    y_pred = list(lgbm_model.predict(df_test[X_columns]))\n",
    "    y_pred_lgbm += y_pred"
   ]
  },
  {
   "cell_type": "code",
   "execution_count": 11,
   "metadata": {},
   "outputs": [
    {
     "name": "stdout",
     "output_type": "stream",
     "text": [
      "##### LightGBM (2 classes) #####\n",
      "accuracy_score:  0.9946303544016384\n",
      "recall_score:  0.8227339023903931\n",
      "precision_score:  0.8222236160490004\n",
      "f1_score:  0.8213012544054076\n"
     ]
    }
   ],
   "source": [
    "# Avalie o desempenho do modelo LightGBM\n",
    "print(\"##### LightGBM (2 classes) #####\")\n",
    "print('accuracy_score: ', accuracy_score(y_pred_lgbm, y_test))\n",
    "print('recall_score: ', recall_score(y_pred_lgbm, y_test, average='macro'))\n",
    "print('precision_score: ', precision_score(y_pred_lgbm, y_test, average='macro'))\n",
    "print('f1_score: ', f1_score(y_pred_lgbm, y_test, average='macro'))"
   ]
  },
  {
   "cell_type": "code",
   "execution_count": 12,
   "metadata": {},
   "outputs": [
    {
     "name": "stdout",
     "output_type": "stream",
     "text": [
      "Acurácia: 0.9946303544016384\n",
      "Relatório de Classificação:\n",
      "              precision    recall  f1-score   support\n",
      "\n",
      "      Benign       0.93      0.92      0.93    243322\n",
      "  BruteForce       0.60      0.49      0.54      2983\n",
      "        DDoS       1.00      1.00      1.00   7526151\n",
      "         DoS       1.00      1.00      1.00   1792167\n",
      "       Mirai       1.00      1.00      1.00    583677\n",
      "       Recon       0.82      0.84      0.83     78630\n",
      "    Spoofing       0.84      0.86      0.85    107798\n",
      "         Web       0.39      0.47      0.42      5433\n",
      "\n",
      "    accuracy                           0.99  10340161\n",
      "   macro avg       0.82      0.82      0.82  10340161\n",
      "weighted avg       0.99      0.99      0.99  10340161\n",
      "\n"
     ]
    }
   ],
   "source": [
    "from sklearn.metrics import accuracy_score, classification_report\n",
    "\n",
    "# Avalie o desempenho do modelo\n",
    "accuracy = accuracy_score(y_test, y_pred_lgbm)\n",
    "report = classification_report(y_test, y_pred_lgbm)\n",
    "\n",
    "print(\"Acurácia:\", accuracy)\n",
    "print(\"Relatório de Classificação:\")\n",
    "print(report)"
   ]
  },
  {
   "cell_type": "code",
   "execution_count": null,
   "metadata": {},
   "outputs": [
    {
     "data": {
      "text/plain": [
       "['modelo_lgbm.pkl']"
      ]
     },
     "execution_count": 15,
     "metadata": {},
     "output_type": "execute_result"
    }
   ],
   "source": [
    "#Salvando o Modelo Treinado\n",
    "import joblib\n",
    "# Salve o modelo treinado em um arquivo\n",
    "joblib.dump(lgbm_model, 'modelo_lgbm.pkl')"
   ]
  },
  {
   "cell_type": "code",
   "execution_count": null,
   "metadata": {},
   "outputs": [],
   "source": []
  }
 ],
 "metadata": {
  "kernelspec": {
   "display_name": "base",
   "language": "python",
   "name": "python3"
  },
  "language_info": {
   "codemirror_mode": {
    "name": "ipython",
    "version": 3
   },
   "file_extension": ".py",
   "mimetype": "text/x-python",
   "name": "python",
   "nbconvert_exporter": "python",
   "pygments_lexer": "ipython3",
   "version": "3.9.12"
  },
  "orig_nbformat": 4
 },
 "nbformat": 4,
 "nbformat_minor": 2
}
