{
 "cells": [
  {
   "cell_type": "code",
   "execution_count": 1,
   "metadata": {},
   "outputs": [],
   "source": [
    "from interpret.glassbox import ExplainableBoostingClassifier\n",
    "from sklearn.preprocessing import StandardScaler\n",
    "from sklearn.metrics import accuracy_score, recall_score, precision_score, f1_score\n",
    "from imblearn.over_sampling import SMOTE\n",
    "import pandas as pd\n",
    "import os\n",
    "from tqdm import tqdm"
   ]
  },
  {
   "cell_type": "code",
   "execution_count": 2,
   "metadata": {},
   "outputs": [],
   "source": [
    "DATASET_DIRECTORY = '../dataset/CICIoT2023/'"
   ]
  },
  {
   "cell_type": "code",
   "execution_count": 3,
   "metadata": {},
   "outputs": [],
   "source": [
    "# Define as colunas de entrada X e a coluna de saída y\n",
    "X_columns = [\n",
    "    'flow_duration', 'Header_Length', 'Protocol Type', 'Duration',\n",
    "    'Rate', 'Srate', 'Drate', 'fin_flag_number', 'syn_flag_number',\n",
    "    'rst_flag_number', 'psh_flag_number', 'ack_flag_number',\n",
    "    'ece_flag_number', 'cwr_flag_number', 'ack_count',\n",
    "    'syn_count', 'fin_count', 'urg_count', 'rst_count',\n",
    "    'HTTP', 'HTTPS', 'DNS', 'Telnet', 'SMTP', 'SSH', 'IRC', 'TCP',\n",
    "    'UDP', 'DHCP', 'ARP', 'ICMP', 'IPv', 'LLC', 'Tot sum', 'Min',\n",
    "    'Max', 'AVG', 'Std', 'Tot size', 'IAT', 'Number', 'Magnitue',\n",
    "    'Radius', 'Covariance', 'Variance', 'Weight',\n",
    "]\n",
    "y_column = 'label'"
   ]
  },
  {
   "cell_type": "code",
   "execution_count": 4,
   "metadata": {},
   "outputs": [],
   "source": [
    "# Obtém a lista de arquivos CSV no diretório\n",
    "df_sets = [k for k in os.listdir(DATASET_DIRECTORY) if k.endswith('.csv')]\n",
    "df_sets.sort()"
   ]
  },
  {
   "cell_type": "code",
   "execution_count": 5,
   "metadata": {},
   "outputs": [],
   "source": [
    "# Divide os conjuntos de treinamento e teste com base na lista\n",
    "split_ratio = 0.8\n",
    "training_sets = df_sets[:int(len(df_sets) * split_ratio)]\n",
    "test_sets = df_sets[int(len(df_sets) * split_ratio):]"
   ]
  },
  {
   "cell_type": "code",
   "execution_count": 6,
   "metadata": {},
   "outputs": [],
   "source": [
    "# Inicializa o scaler fora do loop\n",
    "scaler = StandardScaler()"
   ]
  },
  {
   "cell_type": "code",
   "execution_count": 7,
   "metadata": {},
   "outputs": [],
   "source": [
    "# Inicializa um dicionário para mapear rótulos de classe\n",
    "dict_7classes = {}\n",
    "dict_7classes['DDoS-RSTFINFlood'] = 'DDoS'\n",
    "dict_7classes['DDoS-PSHACK_Flood'] = 'DDoS'\n",
    "dict_7classes['DDoS-SYN_Flood'] = 'DDoS'\n",
    "dict_7classes['DDoS-UDP_Flood'] = 'DDoS'\n",
    "dict_7classes['DDoS-TCP_Flood'] = 'DDoS'\n",
    "dict_7classes['DDoS-ICMP_Flood'] = 'DDoS'\n",
    "dict_7classes['DDoS-SynonymousIP_Flood'] = 'DDoS'\n",
    "dict_7classes['DDoS-ACK_Fragmentation'] = 'DDoS'\n",
    "dict_7classes['DDoS-UDP_Fragmentation'] = 'DDoS'\n",
    "dict_7classes['DDoS-ICMP_Fragmentation'] = 'DDoS'\n",
    "dict_7classes['DDoS-SlowLoris'] = 'DDoS'\n",
    "dict_7classes['DDoS-HTTP_Flood'] = 'DDoS'\n",
    "\n",
    "dict_7classes['DoS-UDP_Flood'] = 'DoS'\n",
    "dict_7classes['DoS-SYN_Flood'] = 'DoS'\n",
    "dict_7classes['DoS-TCP_Flood'] = 'DoS'\n",
    "dict_7classes['DoS-HTTP_Flood'] = 'DoS'\n",
    "\n",
    "\n",
    "dict_7classes['Mirai-greeth_flood'] = 'Mirai'\n",
    "dict_7classes['Mirai-greip_flood'] = 'Mirai'\n",
    "dict_7classes['Mirai-udpplain'] = 'Mirai'\n",
    "\n",
    "dict_7classes['Recon-PingSweep'] = 'Recon'\n",
    "dict_7classes['Recon-OSScan'] = 'Recon'\n",
    "dict_7classes['Recon-PortScan'] = 'Recon'\n",
    "dict_7classes['VulnerabilityScan'] = 'Recon'\n",
    "dict_7classes['Recon-HostDiscovery'] = 'Recon'\n",
    "\n",
    "dict_7classes['DNS_Spoofing'] = 'Spoofing'\n",
    "dict_7classes['MITM-ArpSpoofing'] = 'Spoofing'\n",
    "\n",
    "dict_7classes['BenignTraffic'] = 'Benign'\n",
    "\n",
    "dict_7classes['BrowserHijacking'] = 'Web'\n",
    "dict_7classes['Backdoor_Malware'] = 'Web'\n",
    "dict_7classes['XSS'] = 'Web'\n",
    "dict_7classes['Uploading_Attack'] = 'Web'\n",
    "dict_7classes['SqlInjection'] = 'Web'\n",
    "dict_7classes['CommandInjection'] = 'Web'\n",
    "\n",
    "\n",
    "dict_7classes['DictionaryBruteForce'] = 'BruteForce'"
   ]
  },
  {
   "cell_type": "code",
   "execution_count": 8,
   "metadata": {},
   "outputs": [
    {
     "name": "stderr",
     "output_type": "stream",
     "text": [
      "  0%|          | 0/135 [1:32:20<?, ?it/s]\n"
     ]
    },
    {
     "ename": "KeyboardInterrupt",
     "evalue": "",
     "output_type": "error",
     "traceback": [
      "\u001b[1;31m---------------------------------------------------------------------------\u001b[0m",
      "\u001b[1;31mKeyboardInterrupt\u001b[0m                         Traceback (most recent call last)",
      "\u001b[1;32mc:\\Users\\engju\\OneDrive\\Documentos\\Dataset_Iot\\withScaler_and_withBalance\\ebm8.ipynb Cell 8\u001b[0m line \u001b[0;36m<cell line: 2>\u001b[1;34m()\u001b[0m\n\u001b[0;32m      <a href='vscode-notebook-cell:/c%3A/Users/engju/OneDrive/Documentos/Dataset_Iot/withScaler_and_withBalance/ebm8.ipynb#X10sZmlsZQ%3D%3D?line=8'>9</a>\u001b[0m X_resampled, y_resampled \u001b[39m=\u001b[39m smote\u001b[39m.\u001b[39mfit_resample(df_train[X_columns], df_train[y_column])\n\u001b[0;32m     <a href='vscode-notebook-cell:/c%3A/Users/engju/OneDrive/Documentos/Dataset_Iot/withScaler_and_withBalance/ebm8.ipynb#X10sZmlsZQ%3D%3D?line=10'>11</a>\u001b[0m ebm \u001b[39m=\u001b[39m ExplainableBoostingClassifier()\n\u001b[1;32m---> <a href='vscode-notebook-cell:/c%3A/Users/engju/OneDrive/Documentos/Dataset_Iot/withScaler_and_withBalance/ebm8.ipynb#X10sZmlsZQ%3D%3D?line=11'>12</a>\u001b[0m ebm\u001b[39m.\u001b[39;49mfit(X_resampled, y_resampled)\n",
      "File \u001b[1;32mc:\\Users\\engju\\anaconda3\\lib\\site-packages\\interpret\\glassbox\\_ebm\\_ebm.py:894\u001b[0m, in \u001b[0;36mEBMModel.fit\u001b[1;34m(self, X, y, sample_weight, bags, init_score)\u001b[0m\n\u001b[0;32m    865\u001b[0m         init_score_local \u001b[39m=\u001b[39m init_score_local[bag \u001b[39m!=\u001b[39m \u001b[39m0\u001b[39m]\n\u001b[0;32m    867\u001b[0m     parallel_args\u001b[39m.\u001b[39mappend(\n\u001b[0;32m    868\u001b[0m         (\n\u001b[0;32m    869\u001b[0m             dataset,\n\u001b[1;32m   (...)\u001b[0m\n\u001b[0;32m    891\u001b[0m         )\n\u001b[0;32m    892\u001b[0m     )\n\u001b[1;32m--> 894\u001b[0m results \u001b[39m=\u001b[39m provider\u001b[39m.\u001b[39;49mparallel(boost, parallel_args)\n\u001b[0;32m    896\u001b[0m \u001b[39m# let python reclaim the dataset memory via reference counting\u001b[39;00m\n\u001b[0;32m    897\u001b[0m \u001b[39mdel\u001b[39;00m parallel_args  \u001b[39m# parallel_args holds references to dataset, so must be deleted\u001b[39;00m\n",
      "File \u001b[1;32mc:\\Users\\engju\\anaconda3\\lib\\site-packages\\interpret\\provider\\_compute.py:19\u001b[0m, in \u001b[0;36mJobLibProvider.parallel\u001b[1;34m(self, compute_fn, compute_args_iter)\u001b[0m\n\u001b[0;32m     18\u001b[0m \u001b[39mdef\u001b[39;00m \u001b[39mparallel\u001b[39m(\u001b[39mself\u001b[39m, compute_fn, compute_args_iter):\n\u001b[1;32m---> 19\u001b[0m     results \u001b[39m=\u001b[39m Parallel(n_jobs\u001b[39m=\u001b[39;49m\u001b[39mself\u001b[39;49m\u001b[39m.\u001b[39;49mn_jobs)(\n\u001b[0;32m     20\u001b[0m         delayed(compute_fn)(\u001b[39m*\u001b[39;49margs) \u001b[39mfor\u001b[39;49;00m args \u001b[39min\u001b[39;49;00m compute_args_iter\n\u001b[0;32m     21\u001b[0m     )\n\u001b[0;32m     22\u001b[0m     \u001b[39mreturn\u001b[39;00m results\n",
      "File \u001b[1;32mc:\\Users\\engju\\anaconda3\\lib\\site-packages\\joblib\\parallel.py:1952\u001b[0m, in \u001b[0;36mParallel.__call__\u001b[1;34m(self, iterable)\u001b[0m\n\u001b[0;32m   1946\u001b[0m \u001b[39m# The first item from the output is blank, but it makes the interpreter\u001b[39;00m\n\u001b[0;32m   1947\u001b[0m \u001b[39m# progress until it enters the Try/Except block of the generator and\u001b[39;00m\n\u001b[0;32m   1948\u001b[0m \u001b[39m# reach the first `yield` statement. This starts the aynchronous\u001b[39;00m\n\u001b[0;32m   1949\u001b[0m \u001b[39m# dispatch of the tasks to the workers.\u001b[39;00m\n\u001b[0;32m   1950\u001b[0m \u001b[39mnext\u001b[39m(output)\n\u001b[1;32m-> 1952\u001b[0m \u001b[39mreturn\u001b[39;00m output \u001b[39mif\u001b[39;00m \u001b[39mself\u001b[39m\u001b[39m.\u001b[39mreturn_generator \u001b[39melse\u001b[39;00m \u001b[39mlist\u001b[39;49m(output)\n",
      "File \u001b[1;32mc:\\Users\\engju\\anaconda3\\lib\\site-packages\\joblib\\parallel.py:1595\u001b[0m, in \u001b[0;36mParallel._get_outputs\u001b[1;34m(self, iterator, pre_dispatch)\u001b[0m\n\u001b[0;32m   1592\u001b[0m     \u001b[39myield\u001b[39;00m\n\u001b[0;32m   1594\u001b[0m     \u001b[39mwith\u001b[39;00m \u001b[39mself\u001b[39m\u001b[39m.\u001b[39m_backend\u001b[39m.\u001b[39mretrieval_context():\n\u001b[1;32m-> 1595\u001b[0m         \u001b[39myield from\u001b[39;00m \u001b[39mself\u001b[39m\u001b[39m.\u001b[39m_retrieve()\n\u001b[0;32m   1597\u001b[0m \u001b[39mexcept\u001b[39;00m \u001b[39mGeneratorExit\u001b[39;00m:\n\u001b[0;32m   1598\u001b[0m     \u001b[39m# The generator has been garbage collected before being fully\u001b[39;00m\n\u001b[0;32m   1599\u001b[0m     \u001b[39m# consumed. This aborts the remaining tasks if possible and warn\u001b[39;00m\n\u001b[0;32m   1600\u001b[0m     \u001b[39m# the user if necessary.\u001b[39;00m\n\u001b[0;32m   1601\u001b[0m     \u001b[39mself\u001b[39m\u001b[39m.\u001b[39m_exception \u001b[39m=\u001b[39m \u001b[39mTrue\u001b[39;00m\n",
      "File \u001b[1;32mc:\\Users\\engju\\anaconda3\\lib\\site-packages\\joblib\\parallel.py:1707\u001b[0m, in \u001b[0;36mParallel._retrieve\u001b[1;34m(self)\u001b[0m\n\u001b[0;32m   1702\u001b[0m \u001b[39m# If the next job is not ready for retrieval yet, we just wait for\u001b[39;00m\n\u001b[0;32m   1703\u001b[0m \u001b[39m# async callbacks to progress.\u001b[39;00m\n\u001b[0;32m   1704\u001b[0m \u001b[39mif\u001b[39;00m ((\u001b[39mlen\u001b[39m(\u001b[39mself\u001b[39m\u001b[39m.\u001b[39m_jobs) \u001b[39m==\u001b[39m \u001b[39m0\u001b[39m) \u001b[39mor\u001b[39;00m\n\u001b[0;32m   1705\u001b[0m     (\u001b[39mself\u001b[39m\u001b[39m.\u001b[39m_jobs[\u001b[39m0\u001b[39m]\u001b[39m.\u001b[39mget_status(\n\u001b[0;32m   1706\u001b[0m         timeout\u001b[39m=\u001b[39m\u001b[39mself\u001b[39m\u001b[39m.\u001b[39mtimeout) \u001b[39m==\u001b[39m TASK_PENDING)):\n\u001b[1;32m-> 1707\u001b[0m     time\u001b[39m.\u001b[39;49msleep(\u001b[39m0.01\u001b[39;49m)\n\u001b[0;32m   1708\u001b[0m     \u001b[39mcontinue\u001b[39;00m\n\u001b[0;32m   1710\u001b[0m \u001b[39m# We need to be careful: the job list can be filling up as\u001b[39;00m\n\u001b[0;32m   1711\u001b[0m \u001b[39m# we empty it and Python list are not thread-safe by\u001b[39;00m\n\u001b[0;32m   1712\u001b[0m \u001b[39m# default hence the use of the lock\u001b[39;00m\n",
      "\u001b[1;31mKeyboardInterrupt\u001b[0m: "
     ]
    }
   ],
   "source": [
    "# Loop de treinamento\n",
    "for train_set in tqdm(training_sets):\n",
    "    df_train = pd.read_csv(os.path.join(DATASET_DIRECTORY, train_set))\n",
    "    df_train[X_columns] = scaler.fit_transform(df_train[X_columns])\n",
    "    df_train[y_column] = df_train[y_column].map(dict_7classes)\n",
    "    \n",
    "    # Aplica o SMOTE para balanceamento\n",
    "    smote = SMOTE(sampling_strategy='auto', random_state=42)\n",
    "    X_resampled, y_resampled = smote.fit_resample(df_train[X_columns], df_train[y_column])\n",
    "    \n",
    "    ebm = ExplainableBoostingClassifier()\n",
    "    ebm.fit(X_resampled, y_resampled)"
   ]
  },
  {
   "cell_type": "code",
   "execution_count": null,
   "metadata": {},
   "outputs": [
    {
     "name": "stderr",
     "output_type": "stream",
     "text": [
      "100%|██████████| 34/34 [01:13<00:00,  2.16s/it]\n"
     ]
    }
   ],
   "source": [
    "# Avaliação no conjunto de teste\n",
    "y_test = []\n",
    "y_pred_ebm = []\n",
    "\n",
    "for test_set in tqdm(test_sets):\n",
    "    df_test = pd.read_csv(os.path.join(DATASET_DIRECTORY, test_set))\n",
    "    df_test[X_columns] = scaler.transform(df_test[X_columns])\n",
    "    df_test[y_column] = df_test[y_column].map(dict_7classes)\n",
    "    \n",
    "    y_test += list(df_test[y_column].values)\n",
    "    y_pred_ebm += list(ebm.predict(df_test[X_columns]))"
   ]
  },
  {
   "cell_type": "code",
   "execution_count": null,
   "metadata": {},
   "outputs": [
    {
     "name": "stdout",
     "output_type": "stream",
     "text": [
      "##### EBM (2 classes) #####\n",
      "accuracy_score:  0.9943905128749929\n",
      "recall_score:  0.9098372798503598\n",
      "precision_score:  0.9850854198790926\n",
      "f1_score:  0.9441116518793178\n"
     ]
    }
   ],
   "source": [
    "# Avalia o desempenho do modelo EBM\n",
    "print(\"##### EBM (2 classes) #####\")\n",
    "print('accuracy_score: ', accuracy_score(y_pred_ebm, y_test))\n",
    "print('recall_score: ', recall_score(y_pred_ebm, y_test, average='macro'))\n",
    "print('precision_score: ', precision_score(y_pred_ebm, y_test, average='macro'))\n",
    "print('f1_score: ', f1_score(y_pred_ebm, y_test, average='macro'))"
   ]
  },
  {
   "cell_type": "code",
   "execution_count": null,
   "metadata": {},
   "outputs": [
    {
     "name": "stdout",
     "output_type": "stream",
     "text": [
      "Acurácia: 0.9943905128749929\n",
      "Relatório de Classificação:\n",
      "              precision    recall  f1-score   support\n",
      "\n",
      "      Attack       1.00      0.99      1.00  10096839\n",
      "      Benign       0.82      0.98      0.89    243322\n",
      "\n",
      "    accuracy                           0.99  10340161\n",
      "   macro avg       0.91      0.99      0.94  10340161\n",
      "weighted avg       1.00      0.99      0.99  10340161\n",
      "\n"
     ]
    }
   ],
   "source": [
    "from sklearn.metrics import accuracy_score, classification_report\n",
    "\n",
    "# Avalie o desempenho do modelo\n",
    "accuracy = accuracy_score(y_test, y_pred_ebm)\n",
    "report = classification_report(y_test, y_pred_ebm)\n",
    "\n",
    "print(\"Acurácia:\", accuracy)\n",
    "print(\"Relatório de Classificação:\")\n",
    "print(report)"
   ]
  },
  {
   "cell_type": "code",
   "execution_count": 17,
   "metadata": {},
   "outputs": [
    {
     "data": {
      "text/plain": [
       "['modelo_ebm.pkl']"
      ]
     },
     "execution_count": 17,
     "metadata": {},
     "output_type": "execute_result"
    }
   ],
   "source": [
    "#Salvando o Modelo Treinado\n",
    "import joblib\n",
    "# Salve o modelo treinado em um arquivo\n",
    "joblib.dump(ebm, 'modelo_ebm.pkl')"
   ]
  },
  {
   "cell_type": "code",
   "execution_count": null,
   "metadata": {},
   "outputs": [],
   "source": [
    "# Carregue o modelo treinado a partir do arquivo\n",
    "loaded_ebm_model = joblib.load('modelo_ebm.pkl')\n",
    "\n",
    "# Agora você pode usar loaded_ebm_model para fazer previsões"
   ]
  }
 ],
 "metadata": {
  "kernelspec": {
   "display_name": "base",
   "language": "python",
   "name": "python3"
  },
  "language_info": {
   "codemirror_mode": {
    "name": "ipython",
    "version": 3
   },
   "file_extension": ".py",
   "mimetype": "text/x-python",
   "name": "python",
   "nbconvert_exporter": "python",
   "pygments_lexer": "ipython3",
   "version": "3.9.12"
  },
  "orig_nbformat": 4
 },
 "nbformat": 4,
 "nbformat_minor": 2
}
