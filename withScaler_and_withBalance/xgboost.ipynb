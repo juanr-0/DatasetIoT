{
 "cells": [
  {
   "cell_type": "code",
   "execution_count": 1,
   "metadata": {},
   "outputs": [],
   "source": [
    "#use \"pip install xgboost\" in anaconda\n",
    "\n",
    "import joblib\n",
    "import pandas as pd\n",
    "import os\n",
    "from imblearn.over_sampling import SMOTE\n",
    "from sklearn.preprocessing import StandardScaler\n",
    "from tqdm import tqdm\n",
    "from sklearn.metrics import accuracy_score, recall_score, precision_score, f1_score\n",
    "from xgboost import XGBClassifier\n"
   ]
  },
  {
   "cell_type": "code",
   "execution_count": 2,
   "metadata": {},
   "outputs": [],
   "source": [
    "DATASET_DIRECTORY = '../dataset/CICIoT2023/'"
   ]
  },
  {
   "cell_type": "code",
   "execution_count": 3,
   "metadata": {},
   "outputs": [],
   "source": [
    "# Obtém a lista de arquivos CSV no diretório\n",
    "df_sets = [k for k in os.listdir(DATASET_DIRECTORY) if k.endswith('.csv')]\n",
    "df_sets.sort()\n",
    "\n",
    "# Divide os conjuntos de treinamento e teste com base na lista\n",
    "split_ratio = 0.8\n",
    "training_sets = df_sets[:int(len(df_sets) * split_ratio)]\n",
    "test_sets = df_sets[int(len(df_sets) * split_ratio):]"
   ]
  },
  {
   "cell_type": "code",
   "execution_count": 4,
   "metadata": {},
   "outputs": [],
   "source": [
    "# Define as colunas de entrada X e a coluna de saída y\n",
    "X_columns = [\n",
    "    'flow_duration', 'Header_Length', 'Protocol Type', 'Duration',\n",
    "    'Rate', 'Srate', 'Drate', 'fin_flag_number', 'syn_flag_number',\n",
    "    'rst_flag_number', 'psh_flag_number', 'ack_flag_number',\n",
    "    'ece_flag_number', 'cwr_flag_number', 'ack_count',\n",
    "    'syn_count', 'fin_count', 'urg_count', 'rst_count',\n",
    "    'HTTP', 'HTTPS', 'DNS', 'Telnet', 'SMTP', 'SSH', 'IRC', 'TCP',\n",
    "    'UDP', 'DHCP', 'ARP', 'ICMP', 'IPv', 'LLC', 'Tot sum', 'Min',\n",
    "    'Max', 'AVG', 'Std', 'Tot size', 'IAT', 'Number', 'Magnitue',\n",
    "    'Radius', 'Covariance', 'Variance', 'Weight',\n",
    "]\n",
    "y_column = 'label'"
   ]
  },
  {
   "cell_type": "code",
   "execution_count": 5,
   "metadata": {},
   "outputs": [],
   "source": [
    "# Inicializa o scaler fora do loop\n",
    "scaler = StandardScaler()"
   ]
  },
  {
   "cell_type": "code",
   "execution_count": 6,
   "metadata": {},
   "outputs": [],
   "source": [
    "# Inicializa um dicionário para mapear rótulos de classe\n",
    "dict_2classes = {}\n",
    "dict_2classes['DDoS-RSTFINFlood'] = 1\n",
    "dict_2classes['DDoS-PSHACK_Flood'] = 1\n",
    "dict_2classes['DDoS-SYN_Flood'] = 1\n",
    "dict_2classes['DDoS-UDP_Flood'] = 1\n",
    "dict_2classes['DDoS-TCP_Flood'] = 1\n",
    "dict_2classes['DDoS-ICMP_Flood'] = 1\n",
    "dict_2classes['DDoS-SynonymousIP_Flood'] = 1\n",
    "dict_2classes['DDoS-ACK_Fragmentation'] = 1\n",
    "dict_2classes['DDoS-UDP_Fragmentation'] = 1\n",
    "dict_2classes['DDoS-ICMP_Fragmentation'] = 1\n",
    "dict_2classes['DDoS-SlowLoris'] = 1\n",
    "dict_2classes['DDoS-HTTP_Flood'] = 1\n",
    "\n",
    "dict_2classes['DoS-UDP_Flood'] = 1\n",
    "dict_2classes['DoS-SYN_Flood'] = 1\n",
    "dict_2classes['DoS-TCP_Flood'] = 1\n",
    "dict_2classes['DoS-HTTP_Flood'] = 1\n",
    "\n",
    "\n",
    "dict_2classes['Mirai-greeth_flood'] = 1\n",
    "dict_2classes['Mirai-greip_flood'] = 1\n",
    "dict_2classes['Mirai-udpplain'] = 1\n",
    "\n",
    "dict_2classes['Recon-PingSweep'] = 1\n",
    "dict_2classes['Recon-OSScan'] = 1\n",
    "dict_2classes['Recon-PortScan'] = 1\n",
    "dict_2classes['VulnerabilityScan'] = 1\n",
    "dict_2classes['Recon-HostDiscovery'] = 1\n",
    "\n",
    "dict_2classes['DNS_Spoofing'] = 1\n",
    "dict_2classes['MITM-ArpSpoofing'] = 1\n",
    "\n",
    "dict_2classes['BenignTraffic'] = 0\n",
    "\n",
    "dict_2classes['BrowserHijacking'] = 1\n",
    "dict_2classes['Backdoor_Malware'] = 1\n",
    "dict_2classes['XSS'] = 1\n",
    "dict_2classes['Uploading_Attack'] = 1\n",
    "dict_2classes['SqlInjection'] = 1\n",
    "dict_2classes['CommandInjection'] = 1\n",
    "\n",
    "dict_2classes['DictionaryBruteForce'] = 1"
   ]
  },
  {
   "cell_type": "code",
   "execution_count": 8,
   "metadata": {},
   "outputs": [
    {
     "name": "stderr",
     "output_type": "stream",
     "text": [
      "100%|██████████| 135/135 [21:40<00:00,  9.64s/it]\n"
     ]
    }
   ],
   "source": [
    "# Loop de treinamento\n",
    "for train_set in tqdm(training_sets):\n",
    "    df_train = pd.read_csv(os.path.join(DATASET_DIRECTORY, train_set))\n",
    "    df_train[X_columns] = scaler.fit_transform(df_train[X_columns])\n",
    "    df_train[y_column] = df_train[y_column].map(dict_2classes)\n",
    "    \n",
    "    # Aplica o SMOTE para balanceamento\n",
    "    smote = SMOTE(sampling_strategy='auto', random_state=42)\n",
    "    X_resampled, y_resampled = smote.fit_resample(df_train[X_columns], df_train[y_column])\n",
    "    \n",
    "    xgb_model = XGBClassifier()\n",
    "    xgb_model.fit(X_resampled, y_resampled)\n",
    "    \n",
    "    # Salva o modelo treinado\n",
    "    model_file = 'modelo_xgboost.pkl'\n",
    "    joblib.dump(xgb_model, model_file)"
   ]
  },
  {
   "cell_type": "code",
   "execution_count": 9,
   "metadata": {},
   "outputs": [
    {
     "name": "stderr",
     "output_type": "stream",
     "text": [
      "100%|██████████| 34/34 [01:53<00:00,  3.34s/it]\n"
     ]
    }
   ],
   "source": [
    "# Avaliação no conjunto de teste\n",
    "y_test = []\n",
    "y_pred_xgb = []\n",
    "\n",
    "for test_set in tqdm(test_sets):\n",
    "    df_test = pd.read_csv(os.path.join(DATASET_DIRECTORY, test_set))\n",
    "    df_test[X_columns] = scaler.transform(df_test[X_columns])\n",
    "    df_test[y_column] = df_test[y_column].map(dict_2classes)\n",
    "    \n",
    "    y_test += list(df_test[y_column].values)\n",
    "    \n",
    "    # Carrega o modelo treinado correspondente ao conjunto de treinamento\n",
    "    xgb_model = joblib.load(model_file)\n",
    "    \n",
    "    y_pred = list(xgb_model.predict(df_test[X_columns]))\n",
    "    y_pred_xgb += y_pred   "
   ]
  },
  {
   "cell_type": "code",
   "execution_count": 10,
   "metadata": {},
   "outputs": [
    {
     "name": "stdout",
     "output_type": "stream",
     "text": [
      "##### XGBoost (2 classes) #####\n",
      "accuracy_score:  0.995967954464152\n",
      "recall_score:  0.9380562309444259\n",
      "precision_score:  0.9802981662385408\n",
      "f1_score:  0.9581516550088425\n"
     ]
    }
   ],
   "source": [
    "# Avalie o desempenho do modelo XGBoost\n",
    "print(\"##### XGBoost (2 classes) #####\")\n",
    "print('accuracy_score: ', accuracy_score(y_pred_xgb, y_test))\n",
    "print('recall_score: ', recall_score(y_pred_xgb, y_test, average='macro'))\n",
    "print('precision_score: ', precision_score(y_pred_xgb, y_test, average='macro'))\n",
    "print('f1_score: ', f1_score(y_pred_xgb, y_test, average='macro'))"
   ]
  },
  {
   "cell_type": "code",
   "execution_count": 11,
   "metadata": {},
   "outputs": [
    {
     "name": "stdout",
     "output_type": "stream",
     "text": [
      "Acurácia: 0.995967954464152\n",
      "Relatório de Classificação:\n",
      "              precision    recall  f1-score   support\n",
      "\n",
      "           0       0.88      0.96      0.92    243322\n",
      "           1       1.00      1.00      1.00  10096839\n",
      "\n",
      "    accuracy                           1.00  10340161\n",
      "   macro avg       0.94      0.98      0.96  10340161\n",
      "weighted avg       1.00      1.00      1.00  10340161\n",
      "\n"
     ]
    }
   ],
   "source": [
    "from sklearn.metrics import accuracy_score, classification_report\n",
    "\n",
    "# Avalia o desempenho do modelo\n",
    "accuracy = accuracy_score(y_test, y_pred_xgb)\n",
    "report = classification_report(y_test, y_pred_xgb)\n",
    "\n",
    "print(\"Acurácia:\", accuracy)\n",
    "print(\"Relatório de Classificação:\")\n",
    "print(report)"
   ]
  },
  {
   "cell_type": "code",
   "execution_count": null,
   "metadata": {},
   "outputs": [],
   "source": []
  }
 ],
 "metadata": {
  "kernelspec": {
   "display_name": "base",
   "language": "python",
   "name": "python3"
  },
  "language_info": {
   "codemirror_mode": {
    "name": "ipython",
    "version": 3
   },
   "file_extension": ".py",
   "mimetype": "text/x-python",
   "name": "python",
   "nbconvert_exporter": "python",
   "pygments_lexer": "ipython3",
   "version": "3.9.12"
  },
  "orig_nbformat": 4
 },
 "nbformat": 4,
 "nbformat_minor": 2
}
