{
 "cells": [
  {
   "cell_type": "code",
   "execution_count": 6,
   "metadata": {},
   "outputs": [],
   "source": [
    "import pandas as pd\n",
    "import os\n",
    "from sklearn.preprocessing import StandardScaler\n",
    "from imblearn.over_sampling import SMOTE\n",
    "from tqdm import tqdm\n",
    "from sklearn.svm import SVC\n",
    "from sklearn.metrics import accuracy_score, recall_score, precision_score, f1_score\n",
    "import joblib"
   ]
  },
  {
   "cell_type": "code",
   "execution_count": 7,
   "metadata": {},
   "outputs": [],
   "source": [
    "# Defina suas colunas de entrada X e a coluna de saída y\n",
    "X_columns = [\n",
    "    'flow_duration', 'Header_Length', 'Protocol Type', 'Duration',\n",
    "    'Rate', 'Srate', 'Drate', 'fin_flag_number', 'syn_flag_number',\n",
    "    'rst_flag_number', 'psh_flag_number', 'ack_flag_number',\n",
    "    'ece_flag_number', 'cwr_flag_number', 'ack_count',\n",
    "    'syn_count', 'fin_count', 'urg_count', 'rst_count',\n",
    "    'HTTP', 'HTTPS', 'DNS', 'Telnet', 'SMTP', 'SSH', 'IRC', 'TCP',\n",
    "    'UDP', 'DHCP', 'ARP', 'ICMP', 'IPv', 'LLC', 'Tot sum', 'Min',\n",
    "    'Max', 'AVG', 'Std', 'Tot size', 'IAT', 'Number', 'Magnitue',\n",
    "    'Radius', 'Covariance', 'Variance', 'Weight',\n",
    "]\n",
    "y_column = 'label'"
   ]
  },
  {
   "cell_type": "code",
   "execution_count": 8,
   "metadata": {},
   "outputs": [],
   "source": [
    "DATASET_DIRECTORY = '../dataset/CICIoT2023/'"
   ]
  },
  {
   "cell_type": "code",
   "execution_count": 9,
   "metadata": {},
   "outputs": [],
   "source": [
    "# Inicializa um dicionário para mapear rótulos de classe\n",
    "dict_2classes = {}\n",
    "dict_2classes['DDoS-RSTFINFlood'] = 'Attack'\n",
    "dict_2classes['DDoS-PSHACK_Flood'] = 'Attack'\n",
    "dict_2classes['DDoS-SYN_Flood'] = 'Attack'\n",
    "dict_2classes['DDoS-UDP_Flood'] = 'Attack'\n",
    "dict_2classes['DDoS-TCP_Flood'] = 'Attack'\n",
    "dict_2classes['DDoS-ICMP_Flood'] = 'Attack'\n",
    "dict_2classes['DDoS-SynonymousIP_Flood'] = 'Attack'\n",
    "dict_2classes['DDoS-ACK_Fragmentation'] = 'Attack'\n",
    "dict_2classes['DDoS-UDP_Fragmentation'] = 'Attack'\n",
    "dict_2classes['DDoS-ICMP_Fragmentation'] = 'Attack'\n",
    "dict_2classes['DDoS-SlowLoris'] = 'Attack'\n",
    "dict_2classes['DDoS-HTTP_Flood'] = 'Attack'\n",
    "\n",
    "dict_2classes['DoS-UDP_Flood'] = 'Attack'\n",
    "dict_2classes['DoS-SYN_Flood'] = 'Attack'\n",
    "dict_2classes['DoS-TCP_Flood'] = 'Attack'\n",
    "dict_2classes['DoS-HTTP_Flood'] = 'Attack'\n",
    "\n",
    "\n",
    "dict_2classes['Mirai-greeth_flood'] = 'Attack'\n",
    "dict_2classes['Mirai-greip_flood'] = 'Attack'\n",
    "dict_2classes['Mirai-udpplain'] = 'Attack'\n",
    "\n",
    "dict_2classes['Recon-PingSweep'] = 'Attack'\n",
    "dict_2classes['Recon-OSScan'] = 'Attack'\n",
    "dict_2classes['Recon-PortScan'] = 'Attack'\n",
    "dict_2classes['VulnerabilityScan'] = 'Attack'\n",
    "dict_2classes['Recon-HostDiscovery'] = 'Attack'\n",
    "\n",
    "dict_2classes['DNS_Spoofing'] = 'Attack'\n",
    "dict_2classes['MITM-ArpSpoofing'] = 'Attack'\n",
    "\n",
    "dict_2classes['BenignTraffic'] = 'Benign'\n",
    "\n",
    "dict_2classes['BrowserHijacking'] = 'Attack'\n",
    "dict_2classes['Backdoor_Malware'] = 'Attack'\n",
    "dict_2classes['XSS'] = 'Attack'\n",
    "dict_2classes['Uploading_Attack'] = 'Attack'\n",
    "dict_2classes['SqlInjection'] = 'Attack'\n",
    "dict_2classes['CommandInjection'] = 'Attack'\n",
    "\n",
    "dict_2classes['DictionaryBruteForce'] = 'Attack'"
   ]
  },
  {
   "cell_type": "code",
   "execution_count": 10,
   "metadata": {},
   "outputs": [],
   "source": [
    "# Obtém a lista de arquivos CSV no diretório\n",
    "df_sets = [k for k in os.listdir(DATASET_DIRECTORY) if k.endswith('.csv')]\n",
    "df_sets.sort()\n",
    "\n",
    "# Divide os conjuntos de treinamento e teste com base na lista\n",
    "split_ratio = 0.8\n",
    "training_sets = df_sets[:int(len(df_sets) * split_ratio)]\n",
    "test_sets = df_sets[int(len(df_sets) * split_ratio):]"
   ]
  },
  {
   "cell_type": "code",
   "execution_count": 11,
   "metadata": {},
   "outputs": [],
   "source": [
    "# Inicializa o scaler fora do loop\n",
    "scaler = StandardScaler()"
   ]
  },
  {
   "cell_type": "code",
   "execution_count": 12,
   "metadata": {},
   "outputs": [
    {
     "name": "stderr",
     "output_type": "stream",
     "text": [
      "100%|██████████| 135/135 [42:14:11<00:00, 1126.30s/it]   \n"
     ]
    }
   ],
   "source": [
    "# Loop de treinamento\n",
    "for train_set in tqdm(training_sets):\n",
    "    df_train = pd.read_csv(os.path.join(DATASET_DIRECTORY, train_set))\n",
    "    df_train[X_columns] = scaler.fit_transform(df_train[X_columns])\n",
    "    \n",
    "    # Mapeia as classes usando o dicionário dict_2classes\n",
    "    df_train[y_column] = df_train[y_column].map(dict_2classes)\n",
    "    \n",
    "    # Aplica o SMOTE para balanceamento\n",
    "    smote = SMOTE(sampling_strategy='auto', random_state=42)\n",
    "    X_resampled, y_resampled = smote.fit_resample(df_train[X_columns], df_train[y_column])\n",
    "    \n",
    "    svm_model = SVC()  # Usa o SVM (Support Vector Machine)\n",
    "    svm_model.fit(X_resampled, y_resampled)"
   ]
  },
  {
   "cell_type": "code",
   "execution_count": 13,
   "metadata": {},
   "outputs": [
    {
     "name": "stderr",
     "output_type": "stream",
     "text": [
      "100%|██████████| 34/34 [2:12:32<00:00, 233.89s/it]  \n"
     ]
    }
   ],
   "source": [
    "# Avaliação no conjunto de teste\n",
    "y_test = []\n",
    "y_pred_svm = []\n",
    "\n",
    "for test_set in tqdm(test_sets):\n",
    "    df_test = pd.read_csv(os.path.join(DATASET_DIRECTORY, test_set))\n",
    "    df_test[X_columns] = scaler.transform(df_test[X_columns])\n",
    "    \n",
    "    # Mapeia as classes usando o dicionário dict_2classes\n",
    "    df_test[y_column] = df_test[y_column].map(dict_2classes)\n",
    "    \n",
    "    y_test += list(df_test[y_column].values)\n",
    "    \n",
    "    # Usa o modelo SVM treinado\n",
    "    y_pred = list(svm_model.predict(df_test[X_columns]))\n",
    "    y_pred_svm += y_pred"
   ]
  },
  {
   "cell_type": "code",
   "execution_count": 14,
   "metadata": {},
   "outputs": [
    {
     "name": "stdout",
     "output_type": "stream",
     "text": [
      "##### SVM (2 classes) #####\n",
      "accuracy_score:  0.987821466222818\n",
      "recall_score:  0.8297633643553414\n",
      "precision_score:  0.9922840260110322\n",
      "f1_score:  0.89382811151408\n"
     ]
    }
   ],
   "source": [
    "# Avalie o desempenho do modelo SVM\n",
    "print(\"##### SVM (2 classes) #####\")\n",
    "print('accuracy_score: ', accuracy_score(y_pred_svm, y_test))\n",
    "print('recall_score: ', recall_score(y_pred_svm, y_test, average='macro'))\n",
    "print('precision_score: ', precision_score(y_pred_svm, y_test, average='macro'))\n",
    "print('f1_score: ', f1_score(y_pred_svm, y_test, average='macro'))"
   ]
  },
  {
   "cell_type": "code",
   "execution_count": 15,
   "metadata": {},
   "outputs": [
    {
     "name": "stdout",
     "output_type": "stream",
     "text": [
      "Acurácia: 0.987821466222818\n",
      "Relatório de Classificação:\n",
      "              precision    recall  f1-score   support\n",
      "\n",
      "      Attack       1.00      0.99      0.99  10096839\n",
      "      Benign       0.66      1.00      0.79    243322\n",
      "\n",
      "    accuracy                           0.99  10340161\n",
      "   macro avg       0.83      0.99      0.89  10340161\n",
      "weighted avg       0.99      0.99      0.99  10340161\n",
      "\n"
     ]
    }
   ],
   "source": [
    "from sklearn.metrics import accuracy_score, classification_report\n",
    "\n",
    "# Avalie o desempenho do modelo\n",
    "accuracy = accuracy_score(y_test, y_pred_svm)\n",
    "report = classification_report(y_test, y_pred_svm)\n",
    "\n",
    "print(\"Acurácia:\", accuracy)\n",
    "print(\"Relatório de Classificação:\")\n",
    "print(report)"
   ]
  },
  {
   "cell_type": "code",
   "execution_count": 5,
   "metadata": {},
   "outputs": [
    {
     "ename": "NameError",
     "evalue": "name 'svm_model' is not defined",
     "output_type": "error",
     "traceback": [
      "\u001b[1;31m---------------------------------------------------------------------------\u001b[0m",
      "\u001b[1;31mNameError\u001b[0m                                 Traceback (most recent call last)",
      "\u001b[1;32mc:\\Users\\engju\\OneDrive\\Documentos\\Dataset_Iot\\withScaler_and_withBalance\\svm.ipynb Cell 11\u001b[0m line \u001b[0;36m<cell line: 4>\u001b[1;34m()\u001b[0m\n\u001b[0;32m      <a href='vscode-notebook-cell:/c%3A/Users/engju/OneDrive/Documentos/Dataset_Iot/withScaler_and_withBalance/svm.ipynb#X13sZmlsZQ%3D%3D?line=1'>2</a>\u001b[0m \u001b[39mimport\u001b[39;00m \u001b[39mjoblib\u001b[39;00m\n\u001b[0;32m      <a href='vscode-notebook-cell:/c%3A/Users/engju/OneDrive/Documentos/Dataset_Iot/withScaler_and_withBalance/svm.ipynb#X13sZmlsZQ%3D%3D?line=2'>3</a>\u001b[0m \u001b[39m# Salve o modelo treinado em um arquivo\u001b[39;00m\n\u001b[1;32m----> <a href='vscode-notebook-cell:/c%3A/Users/engju/OneDrive/Documentos/Dataset_Iot/withScaler_and_withBalance/svm.ipynb#X13sZmlsZQ%3D%3D?line=3'>4</a>\u001b[0m joblib\u001b[39m.\u001b[39mdump(svm_model, \u001b[39m'\u001b[39m\u001b[39mmodelo_svm_balanced.pkl\u001b[39m\u001b[39m'\u001b[39m)\n",
      "\u001b[1;31mNameError\u001b[0m: name 'svm_model' is not defined"
     ]
    }
   ],
   "source": [
    "#Salvando o Modelo Treinado\n",
    "import joblib\n",
    "# Salve o modelo treinado em um arquivo\n",
    "joblib.dump(svm_model, 'modelo_svm.pkl')"
   ]
  },
  {
   "cell_type": "code",
   "execution_count": null,
   "metadata": {},
   "outputs": [],
   "source": [
    "# Carregue o modelo treinado a partir do arquivo\n",
    "loaded_ebm_model = joblib.load('modelo_ebm.pkl')\n",
    "\n",
    "# Agora você pode usar loaded_ebm_model para fazer previsões"
   ]
  }
 ],
 "metadata": {
  "kernelspec": {
   "display_name": "base",
   "language": "python",
   "name": "python3"
  },
  "language_info": {
   "codemirror_mode": {
    "name": "ipython",
    "version": 3
   },
   "file_extension": ".py",
   "mimetype": "text/x-python",
   "name": "python",
   "nbconvert_exporter": "python",
   "pygments_lexer": "ipython3",
   "version": "3.9.12"
  },
  "orig_nbformat": 4
 },
 "nbformat": 4,
 "nbformat_minor": 2
}
