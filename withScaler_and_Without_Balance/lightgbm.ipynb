{
 "cells": [
  {
   "cell_type": "code",
   "execution_count": 2,
   "metadata": {},
   "outputs": [],
   "source": [
    "# pip install lightgbm\n",
    "\n",
    "import pandas as pd\n",
    "import os\n",
    "from sklearn.preprocessing import StandardScaler\n",
    "from tqdm import tqdm\n",
    "from lightgbm import LGBMClassifier\n",
    "from sklearn.metrics import accuracy_score, recall_score, precision_score, f1_score"
   ]
  },
  {
   "cell_type": "code",
   "execution_count": 3,
   "metadata": {},
   "outputs": [],
   "source": [
    "DATASET_DIRECTORY = '../dataset/CICIoT2023/'"
   ]
  },
  {
   "cell_type": "code",
   "execution_count": 5,
   "metadata": {},
   "outputs": [],
   "source": [
    "# Defina suas colunas de entrada X e a coluna de saída y\n",
    "X_columns = [\n",
    "    'flow_duration', 'Header_Length', 'Protocol Type', 'Duration',\n",
    "    'Rate', 'Srate', 'Drate', 'fin_flag_number', 'syn_flag_number',\n",
    "    'rst_flag_number', 'psh_flag_number', 'ack_flag_number',\n",
    "    'ece_flag_number', 'cwr_flag_number', 'ack_count',\n",
    "    'syn_count', 'fin_count', 'urg_count', 'rst_count',\n",
    "    'HTTP', 'HTTPS', 'DNS', 'Telnet', 'SMTP', 'SSH', 'IRC', 'TCP',\n",
    "    'UDP', 'DHCP', 'ARP', 'ICMP', 'IPv', 'LLC', 'Tot sum', 'Min',\n",
    "    'Max', 'AVG', 'Std', 'Tot size', 'IAT', 'Number', 'Magnitue',\n",
    "    'Radius', 'Covariance', 'Variance', 'Weight',\n",
    "]\n",
    "y_column = 'label'"
   ]
  },
  {
   "cell_type": "code",
   "execution_count": 4,
   "metadata": {},
   "outputs": [],
   "source": [
    "# Obtém a lista de arquivos CSV no diretório\n",
    "df_sets = [k for k in os.listdir(DATASET_DIRECTORY) if k.endswith('.csv')]\n",
    "df_sets.sort()\n",
    "\n",
    "# Divide os conjuntos de treinamento e teste\n",
    "training_sets = df_sets[:int(len(df_sets) * 0.8)]\n",
    "test_sets = df_sets[int(len(df_sets) * 0.8):]"
   ]
  },
  {
   "cell_type": "code",
   "execution_count": 6,
   "metadata": {},
   "outputs": [],
   "source": [
    "# Inicializa o scaler fora do loop\n",
    "scaler = StandardScaler()"
   ]
  },
  {
   "cell_type": "code",
   "execution_count": 7,
   "metadata": {},
   "outputs": [],
   "source": [
    "# Inicializa um dicionário para mapear rótulos de classe\n",
    "dict_2classes = {}\n",
    "dict_2classes['DDoS-RSTFINFlood'] = 'Attack'\n",
    "dict_2classes['DDoS-PSHACK_Flood'] = 'Attack'\n",
    "dict_2classes['DDoS-SYN_Flood'] = 'Attack'\n",
    "dict_2classes['DDoS-UDP_Flood'] = 'Attack'\n",
    "dict_2classes['DDoS-TCP_Flood'] = 'Attack'\n",
    "dict_2classes['DDoS-ICMP_Flood'] = 'Attack'\n",
    "dict_2classes['DDoS-SynonymousIP_Flood'] = 'Attack'\n",
    "dict_2classes['DDoS-ACK_Fragmentation'] = 'Attack'\n",
    "dict_2classes['DDoS-UDP_Fragmentation'] = 'Attack'\n",
    "dict_2classes['DDoS-ICMP_Fragmentation'] = 'Attack'\n",
    "dict_2classes['DDoS-SlowLoris'] = 'Attack'\n",
    "dict_2classes['DDoS-HTTP_Flood'] = 'Attack'\n",
    "\n",
    "dict_2classes['DoS-UDP_Flood'] = 'Attack'\n",
    "dict_2classes['DoS-SYN_Flood'] = 'Attack'\n",
    "dict_2classes['DoS-TCP_Flood'] = 'Attack'\n",
    "dict_2classes['DoS-HTTP_Flood'] = 'Attack'\n",
    "\n",
    "\n",
    "dict_2classes['Mirai-greeth_flood'] = 'Attack'\n",
    "dict_2classes['Mirai-greip_flood'] = 'Attack'\n",
    "dict_2classes['Mirai-udpplain'] = 'Attack'\n",
    "\n",
    "dict_2classes['Recon-PingSweep'] = 'Attack'\n",
    "dict_2classes['Recon-OSScan'] = 'Attack'\n",
    "dict_2classes['Recon-PortScan'] = 'Attack'\n",
    "dict_2classes['VulnerabilityScan'] = 'Attack'\n",
    "dict_2classes['Recon-HostDiscovery'] = 'Attack'\n",
    "\n",
    "dict_2classes['DNS_Spoofing'] = 'Attack'\n",
    "dict_2classes['MITM-ArpSpoofing'] = 'Attack'\n",
    "\n",
    "dict_2classes['BenignTraffic'] = 'Benign'\n",
    "\n",
    "dict_2classes['BrowserHijacking'] = 'Attack'\n",
    "dict_2classes['Backdoor_Malware'] = 'Attack'\n",
    "dict_2classes['XSS'] = 'Attack'\n",
    "dict_2classes['Uploading_Attack'] = 'Attack'\n",
    "dict_2classes['SqlInjection'] = 'Attack'\n",
    "dict_2classes['CommandInjection'] = 'Attack'\n",
    "\n",
    "dict_2classes['DictionaryBruteForce'] = 'Attack'"
   ]
  },
  {
   "cell_type": "code",
   "execution_count": 8,
   "metadata": {},
   "outputs": [
    {
     "name": "stderr",
     "output_type": "stream",
     "text": [
      "  0%|          | 0/135 [00:00<?, ?it/s]"
     ]
    },
    {
     "name": "stdout",
     "output_type": "stream",
     "text": [
      "[LightGBM] [Warning] Found whitespace in feature_names, replace with underlines\n",
      "[LightGBM] [Info] Number of positive: 5600, number of negative: 233087\n",
      "[LightGBM] [Info] Auto-choosing row-wise multi-threading, the overhead of testing was 0.020884 seconds.\n",
      "You can set `force_row_wise=true` to remove the overhead.\n",
      "And if memory is not enough, you can set `force_col_wise=true`.\n",
      "[LightGBM] [Info] Total Bins 5340\n",
      "[LightGBM] [Info] Number of data points in the train set: 238687, number of used features: 38\n",
      "[LightGBM] [Info] [binary:BoostFromScore]: pavg=0.023462 -> initscore=-3.728645\n",
      "[LightGBM] [Info] Start training from score -3.728645\n"
     ]
    },
    {
     "name": "stderr",
     "output_type": "stream",
     "text": [
      "  1%|          | 1/135 [00:04<09:11,  4.11s/it]"
     ]
    },
    {
     "name": "stdout",
     "output_type": "stream",
     "text": [
      "[LightGBM] [Warning] Found whitespace in feature_names, replace with underlines\n",
      "[LightGBM] [Info] Number of positive: 5200, number of negative: 213605\n",
      "[LightGBM] [Info] Auto-choosing row-wise multi-threading, the overhead of testing was 0.020646 seconds.\n",
      "You can set `force_row_wise=true` to remove the overhead.\n",
      "And if memory is not enough, you can set `force_col_wise=true`.\n",
      "[LightGBM] [Info] Total Bins 5270\n",
      "[LightGBM] [Info] Number of data points in the train set: 218805, number of used features: 37\n",
      "[LightGBM] [Info] [binary:BoostFromScore]: pavg=0.023765 -> initscore=-3.715470\n",
      "[LightGBM] [Info] Start training from score -3.715470\n"
     ]
    },
    {
     "name": "stderr",
     "output_type": "stream",
     "text": [
      "  1%|▏         | 2/135 [00:08<08:54,  4.02s/it]"
     ]
    },
    {
     "name": "stdout",
     "output_type": "stream",
     "text": [
      "[LightGBM] [Warning] Found whitespace in feature_names, replace with underlines\n",
      "[LightGBM] [Info] Number of positive: 6387, number of negative: 268871\n",
      "[LightGBM] [Info] Auto-choosing row-wise multi-threading, the overhead of testing was 0.023425 seconds.\n",
      "You can set `force_row_wise=true` to remove the overhead.\n",
      "And if memory is not enough, you can set `force_col_wise=true`.\n",
      "[LightGBM] [Info] Total Bins 5289\n",
      "[LightGBM] [Info] Number of data points in the train set: 275258, number of used features: 37\n",
      "[LightGBM] [Info] [binary:BoostFromScore]: pavg=0.023204 -> initscore=-3.739967\n",
      "[LightGBM] [Info] Start training from score -3.739967\n"
     ]
    },
    {
     "name": "stderr",
     "output_type": "stream",
     "text": [
      "  2%|▏         | 3/135 [00:12<08:47,  4.00s/it]"
     ]
    },
    {
     "name": "stdout",
     "output_type": "stream",
     "text": [
      "[LightGBM] [Warning] Found whitespace in feature_names, replace with underlines\n",
      "[LightGBM] [Info] Number of positive: 5297, number of negative: 225726\n",
      "[LightGBM] [Info] Auto-choosing row-wise multi-threading, the overhead of testing was 0.020021 seconds.\n",
      "You can set `force_row_wise=true` to remove the overhead.\n",
      "And if memory is not enough, you can set `force_col_wise=true`.\n",
      "[LightGBM] [Info] Total Bins 5378\n",
      "[LightGBM] [Info] Number of data points in the train set: 231023, number of used features: 37\n",
      "[LightGBM] [Info] [binary:BoostFromScore]: pavg=0.022928 -> initscore=-3.752181\n",
      "[LightGBM] [Info] Start training from score -3.752181\n"
     ]
    },
    {
     "name": "stderr",
     "output_type": "stream",
     "text": [
      "  3%|▎         | 4/135 [00:15<08:09,  3.74s/it]"
     ]
    },
    {
     "name": "stdout",
     "output_type": "stream",
     "text": [
      "[LightGBM] [Warning] Found whitespace in feature_names, replace with underlines\n",
      "[LightGBM] [Info] Number of positive: 5386, number of negative: 222105\n",
      "[LightGBM] [Info] Auto-choosing row-wise multi-threading, the overhead of testing was 0.019629 seconds.\n",
      "You can set `force_row_wise=true` to remove the overhead.\n",
      "And if memory is not enough, you can set `force_col_wise=true`.\n",
      "[LightGBM] [Info] Total Bins 5281\n",
      "[LightGBM] [Info] Number of data points in the train set: 227491, number of used features: 38\n",
      "[LightGBM] [Info] [binary:BoostFromScore]: pavg=0.023676 -> initscore=-3.719347\n",
      "[LightGBM] [Info] Start training from score -3.719347\n"
     ]
    },
    {
     "name": "stderr",
     "output_type": "stream",
     "text": [
      "  4%|▎         | 5/135 [00:18<07:47,  3.59s/it]"
     ]
    },
    {
     "name": "stdout",
     "output_type": "stream",
     "text": [
      "[LightGBM] [Warning] Found whitespace in feature_names, replace with underlines\n",
      "[LightGBM] [Info] Number of positive: 5787, number of negative: 234259\n",
      "[LightGBM] [Info] Auto-choosing row-wise multi-threading, the overhead of testing was 0.021631 seconds.\n",
      "You can set `force_row_wise=true` to remove the overhead.\n",
      "And if memory is not enough, you can set `force_col_wise=true`.\n",
      "[LightGBM] [Info] Total Bins 5281\n",
      "[LightGBM] [Info] Number of data points in the train set: 240046, number of used features: 37\n",
      "[LightGBM] [Info] [binary:BoostFromScore]: pavg=0.024108 -> initscore=-3.700813\n",
      "[LightGBM] [Info] Start training from score -3.700813\n"
     ]
    },
    {
     "name": "stderr",
     "output_type": "stream",
     "text": [
      "  4%|▍         | 6/135 [00:22<07:51,  3.65s/it]"
     ]
    },
    {
     "name": "stdout",
     "output_type": "stream",
     "text": [
      "[LightGBM] [Warning] Found whitespace in feature_names, replace with underlines\n",
      "[LightGBM] [Info] Number of positive: 5537, number of negative: 228256\n",
      "[LightGBM] [Info] Auto-choosing row-wise multi-threading, the overhead of testing was 0.021600 seconds.\n",
      "You can set `force_row_wise=true` to remove the overhead.\n",
      "And if memory is not enough, you can set `force_col_wise=true`.\n",
      "[LightGBM] [Info] Total Bins 5385\n",
      "[LightGBM] [Info] Number of data points in the train set: 233793, number of used features: 37\n",
      "[LightGBM] [Info] [binary:BoostFromScore]: pavg=0.023683 -> initscore=-3.719015\n",
      "[LightGBM] [Info] Start training from score -3.719015\n"
     ]
    },
    {
     "name": "stderr",
     "output_type": "stream",
     "text": [
      "  5%|▌         | 7/135 [00:26<07:54,  3.71s/it]"
     ]
    },
    {
     "name": "stdout",
     "output_type": "stream",
     "text": [
      "[LightGBM] [Warning] Found whitespace in feature_names, replace with underlines\n",
      "[LightGBM] [Info] Number of positive: 5327, number of negative: 222583\n",
      "[LightGBM] [Info] Auto-choosing row-wise multi-threading, the overhead of testing was 0.020635 seconds.\n",
      "You can set `force_row_wise=true` to remove the overhead.\n",
      "And if memory is not enough, you can set `force_col_wise=true`.\n",
      "[LightGBM] [Info] Total Bins 5274\n",
      "[LightGBM] [Info] Number of data points in the train set: 227910, number of used features: 37\n",
      "[LightGBM] [Info] [binary:BoostFromScore]: pavg=0.023373 -> initscore=-3.732512\n",
      "[LightGBM] [Info] Start training from score -3.732512\n"
     ]
    },
    {
     "name": "stderr",
     "output_type": "stream",
     "text": [
      "  6%|▌         | 8/135 [00:30<07:59,  3.78s/it]"
     ]
    },
    {
     "name": "stdout",
     "output_type": "stream",
     "text": [
      "[LightGBM] [Warning] Found whitespace in feature_names, replace with underlines\n",
      "[LightGBM] [Info] Number of positive: 5874, number of negative: 240453\n",
      "[LightGBM] [Info] Auto-choosing row-wise multi-threading, the overhead of testing was 0.022025 seconds.\n",
      "You can set `force_row_wise=true` to remove the overhead.\n",
      "And if memory is not enough, you can set `force_col_wise=true`.\n",
      "[LightGBM] [Info] Total Bins 5278\n",
      "[LightGBM] [Info] Number of data points in the train set: 246327, number of used features: 37\n",
      "[LightGBM] [Info] [binary:BoostFromScore]: pavg=0.023846 -> initscore=-3.711989\n",
      "[LightGBM] [Info] Start training from score -3.711989\n"
     ]
    },
    {
     "name": "stderr",
     "output_type": "stream",
     "text": [
      "  7%|▋         | 9/135 [00:34<08:08,  3.88s/it]"
     ]
    },
    {
     "name": "stdout",
     "output_type": "stream",
     "text": [
      "[LightGBM] [Warning] Found whitespace in feature_names, replace with underlines\n",
      "[LightGBM] [Info] Number of positive: 5464, number of negative: 222152\n",
      "[LightGBM] [Info] Auto-choosing row-wise multi-threading, the overhead of testing was 0.019460 seconds.\n",
      "You can set `force_row_wise=true` to remove the overhead.\n",
      "And if memory is not enough, you can set `force_col_wise=true`.\n",
      "[LightGBM] [Info] Total Bins 5356\n",
      "[LightGBM] [Info] Number of data points in the train set: 227616, number of used features: 35\n",
      "[LightGBM] [Info] [binary:BoostFromScore]: pavg=0.024005 -> initscore=-3.705181\n",
      "[LightGBM] [Info] Start training from score -3.705181\n"
     ]
    },
    {
     "name": "stderr",
     "output_type": "stream",
     "text": [
      "  7%|▋         | 10/135 [00:37<07:55,  3.81s/it]"
     ]
    },
    {
     "name": "stdout",
     "output_type": "stream",
     "text": [
      "[LightGBM] [Warning] Found whitespace in feature_names, replace with underlines\n",
      "[LightGBM] [Info] Number of positive: 5992, number of negative: 245400\n",
      "[LightGBM] [Info] Auto-choosing row-wise multi-threading, the overhead of testing was 0.021846 seconds.\n",
      "You can set `force_row_wise=true` to remove the overhead.\n",
      "And if memory is not enough, you can set `force_col_wise=true`.\n",
      "[LightGBM] [Info] Total Bins 5375\n",
      "[LightGBM] [Info] Number of data points in the train set: 251392, number of used features: 38\n",
      "[LightGBM] [Info] [binary:BoostFromScore]: pavg=0.023835 -> initscore=-3.712464\n",
      "[LightGBM] [Info] Start training from score -3.712464\n"
     ]
    },
    {
     "name": "stderr",
     "output_type": "stream",
     "text": [
      "  8%|▊         | 11/135 [00:42<08:06,  3.92s/it]"
     ]
    },
    {
     "name": "stdout",
     "output_type": "stream",
     "text": [
      "[LightGBM] [Warning] Found whitespace in feature_names, replace with underlines\n",
      "[LightGBM] [Info] Number of positive: 5221, number of negative: 216707\n",
      "[LightGBM] [Info] Auto-choosing row-wise multi-threading, the overhead of testing was 0.018937 seconds.\n",
      "You can set `force_row_wise=true` to remove the overhead.\n",
      "And if memory is not enough, you can set `force_col_wise=true`.\n",
      "[LightGBM] [Info] Total Bins 5354\n",
      "[LightGBM] [Info] Number of data points in the train set: 221928, number of used features: 37\n",
      "[LightGBM] [Info] [binary:BoostFromScore]: pavg=0.023526 -> initscore=-3.725857\n",
      "[LightGBM] [Info] Start training from score -3.725857\n"
     ]
    },
    {
     "name": "stderr",
     "output_type": "stream",
     "text": [
      "  9%|▉         | 12/135 [00:45<07:58,  3.89s/it]"
     ]
    },
    {
     "name": "stdout",
     "output_type": "stream",
     "text": [
      "[LightGBM] [Warning] Found whitespace in feature_names, replace with underlines\n",
      "[LightGBM] [Info] Number of positive: 5470, number of negative: 233006\n",
      "[LightGBM] [Info] Auto-choosing col-wise multi-threading, the overhead of testing was 0.043308 seconds.\n",
      "You can set `force_col_wise=true` to remove the overhead.\n",
      "[LightGBM] [Info] Total Bins 5329\n",
      "[LightGBM] [Info] Number of data points in the train set: 238476, number of used features: 37\n",
      "[LightGBM] [Info] [binary:BoostFromScore]: pavg=0.022937 -> initscore=-3.751786\n",
      "[LightGBM] [Info] Start training from score -3.751786\n"
     ]
    },
    {
     "name": "stderr",
     "output_type": "stream",
     "text": [
      " 10%|▉         | 13/135 [00:49<07:47,  3.83s/it]"
     ]
    },
    {
     "name": "stdout",
     "output_type": "stream",
     "text": [
      "[LightGBM] [Warning] Found whitespace in feature_names, replace with underlines\n",
      "[LightGBM] [Info] Number of positive: 5680, number of negative: 233081\n",
      "[LightGBM] [Info] Auto-choosing row-wise multi-threading, the overhead of testing was 0.019699 seconds.\n",
      "You can set `force_row_wise=true` to remove the overhead.\n",
      "And if memory is not enough, you can set `force_col_wise=true`.\n",
      "[LightGBM] [Info] Total Bins 5276\n",
      "[LightGBM] [Info] Number of data points in the train set: 238761, number of used features: 37\n",
      "[LightGBM] [Info] [binary:BoostFromScore]: pavg=0.023789 -> initscore=-3.714435\n",
      "[LightGBM] [Info] Start training from score -3.714435\n"
     ]
    },
    {
     "name": "stderr",
     "output_type": "stream",
     "text": [
      " 10%|█         | 14/135 [00:53<07:40,  3.80s/it]"
     ]
    },
    {
     "name": "stdout",
     "output_type": "stream",
     "text": [
      "[LightGBM] [Warning] Found whitespace in feature_names, replace with underlines\n",
      "[LightGBM] [Info] Number of positive: 5046, number of negative: 210792\n",
      "[LightGBM] [Info] Auto-choosing row-wise multi-threading, the overhead of testing was 0.022869 seconds.\n",
      "You can set `force_row_wise=true` to remove the overhead.\n",
      "And if memory is not enough, you can set `force_col_wise=true`.\n",
      "[LightGBM] [Info] Total Bins 5286\n",
      "[LightGBM] [Info] Number of data points in the train set: 215838, number of used features: 35\n",
      "[LightGBM] [Info] [binary:BoostFromScore]: pavg=0.023379 -> initscore=-3.732276\n",
      "[LightGBM] [Info] Start training from score -3.732276\n"
     ]
    },
    {
     "name": "stderr",
     "output_type": "stream",
     "text": [
      " 11%|█         | 15/135 [00:57<07:44,  3.87s/it]"
     ]
    },
    {
     "name": "stdout",
     "output_type": "stream",
     "text": [
      "[LightGBM] [Warning] Found whitespace in feature_names, replace with underlines\n",
      "[LightGBM] [Info] Number of positive: 6427, number of negative: 262222\n",
      "[LightGBM] [Info] Auto-choosing row-wise multi-threading, the overhead of testing was 0.031940 seconds.\n",
      "You can set `force_row_wise=true` to remove the overhead.\n",
      "And if memory is not enough, you can set `force_col_wise=true`.\n",
      "[LightGBM] [Info] Total Bins 5282\n",
      "[LightGBM] [Info] Number of data points in the train set: 268649, number of used features: 38\n",
      "[LightGBM] [Info] [binary:BoostFromScore]: pavg=0.023923 -> initscore=-3.708684\n",
      "[LightGBM] [Info] Start training from score -3.708684\n"
     ]
    },
    {
     "name": "stderr",
     "output_type": "stream",
     "text": [
      " 12%|█▏        | 16/135 [01:01<07:55,  4.00s/it]"
     ]
    },
    {
     "name": "stdout",
     "output_type": "stream",
     "text": [
      "[LightGBM] [Warning] Found whitespace in feature_names, replace with underlines\n",
      "[LightGBM] [Info] Number of positive: 5400, number of negative: 227485\n",
      "[LightGBM] [Info] Auto-choosing row-wise multi-threading, the overhead of testing was 0.020464 seconds.\n",
      "You can set `force_row_wise=true` to remove the overhead.\n",
      "And if memory is not enough, you can set `force_col_wise=true`.\n",
      "[LightGBM] [Info] Total Bins 5271\n",
      "[LightGBM] [Info] Number of data points in the train set: 232885, number of used features: 37\n",
      "[LightGBM] [Info] [binary:BoostFromScore]: pavg=0.023187 -> initscore=-3.740685\n",
      "[LightGBM] [Info] Start training from score -3.740685\n"
     ]
    },
    {
     "name": "stderr",
     "output_type": "stream",
     "text": [
      " 13%|█▎        | 17/135 [01:05<07:50,  3.99s/it]"
     ]
    },
    {
     "name": "stdout",
     "output_type": "stream",
     "text": [
      "[LightGBM] [Warning] Found whitespace in feature_names, replace with underlines\n",
      "[LightGBM] [Info] Number of positive: 5199, number of negative: 218245\n",
      "[LightGBM] [Info] Auto-choosing row-wise multi-threading, the overhead of testing was 0.016831 seconds.\n",
      "You can set `force_row_wise=true` to remove the overhead.\n",
      "And if memory is not enough, you can set `force_col_wise=true`.\n",
      "[LightGBM] [Info] Total Bins 5266\n",
      "[LightGBM] [Info] Number of data points in the train set: 223444, number of used features: 36\n",
      "[LightGBM] [Info] [binary:BoostFromScore]: pavg=0.023268 -> initscore=-3.737152\n",
      "[LightGBM] [Info] Start training from score -3.737152\n"
     ]
    },
    {
     "name": "stderr",
     "output_type": "stream",
     "text": [
      " 13%|█▎        | 18/135 [01:09<07:33,  3.88s/it]"
     ]
    },
    {
     "name": "stdout",
     "output_type": "stream",
     "text": [
      "[LightGBM] [Warning] Found whitespace in feature_names, replace with underlines\n",
      "[LightGBM] [Info] Number of positive: 5517, number of negative: 228913\n",
      "[LightGBM] [Info] Auto-choosing row-wise multi-threading, the overhead of testing was 0.017579 seconds.\n",
      "You can set `force_row_wise=true` to remove the overhead.\n",
      "And if memory is not enough, you can set `force_col_wise=true`.\n",
      "[LightGBM] [Info] Total Bins 5265\n",
      "[LightGBM] [Info] Number of data points in the train set: 234430, number of used features: 35\n",
      "[LightGBM] [Info] [binary:BoostFromScore]: pavg=0.023534 -> initscore=-3.725508\n",
      "[LightGBM] [Info] Start training from score -3.725508\n"
     ]
    },
    {
     "name": "stderr",
     "output_type": "stream",
     "text": [
      " 14%|█▍        | 19/135 [01:12<07:14,  3.75s/it]"
     ]
    },
    {
     "name": "stdout",
     "output_type": "stream",
     "text": [
      "[LightGBM] [Warning] Found whitespace in feature_names, replace with underlines\n",
      "[LightGBM] [Info] Number of positive: 5397, number of negative: 225666\n",
      "[LightGBM] [Info] Auto-choosing row-wise multi-threading, the overhead of testing was 0.024731 seconds.\n",
      "You can set `force_row_wise=true` to remove the overhead.\n",
      "And if memory is not enough, you can set `force_col_wise=true`.\n",
      "[LightGBM] [Info] Total Bins 5265\n",
      "[LightGBM] [Info] Number of data points in the train set: 231063, number of used features: 37\n",
      "[LightGBM] [Info] [binary:BoostFromScore]: pavg=0.023357 -> initscore=-3.733213\n",
      "[LightGBM] [Info] Start training from score -3.733213\n"
     ]
    },
    {
     "name": "stderr",
     "output_type": "stream",
     "text": [
      " 15%|█▍        | 20/135 [01:16<07:01,  3.67s/it]"
     ]
    },
    {
     "name": "stdout",
     "output_type": "stream",
     "text": [
      "[LightGBM] [Warning] Found whitespace in feature_names, replace with underlines\n",
      "[LightGBM] [Info] Number of positive: 5488, number of negative: 231663\n",
      "[LightGBM] [Info] Auto-choosing row-wise multi-threading, the overhead of testing was 0.018886 seconds.\n",
      "You can set `force_row_wise=true` to remove the overhead.\n",
      "And if memory is not enough, you can set `force_col_wise=true`.\n",
      "[LightGBM] [Info] Total Bins 5278\n",
      "[LightGBM] [Info] Number of data points in the train set: 237151, number of used features: 38\n",
      "[LightGBM] [Info] [binary:BoostFromScore]: pavg=0.023141 -> initscore=-3.742720\n",
      "[LightGBM] [Info] Start training from score -3.742720\n"
     ]
    },
    {
     "name": "stderr",
     "output_type": "stream",
     "text": [
      " 16%|█▌        | 21/135 [01:19<06:44,  3.55s/it]"
     ]
    },
    {
     "name": "stdout",
     "output_type": "stream",
     "text": [
      "[LightGBM] [Warning] Found whitespace in feature_names, replace with underlines\n",
      "[LightGBM] [Info] Number of positive: 5213, number of negative: 218188\n",
      "[LightGBM] [Info] Auto-choosing row-wise multi-threading, the overhead of testing was 0.020504 seconds.\n",
      "You can set `force_row_wise=true` to remove the overhead.\n",
      "And if memory is not enough, you can set `force_col_wise=true`.\n",
      "[LightGBM] [Info] Total Bins 5326\n",
      "[LightGBM] [Info] Number of data points in the train set: 223401, number of used features: 37\n",
      "[LightGBM] [Info] [binary:BoostFromScore]: pavg=0.023335 -> initscore=-3.734202\n",
      "[LightGBM] [Info] Start training from score -3.734202\n"
     ]
    },
    {
     "name": "stderr",
     "output_type": "stream",
     "text": [
      " 16%|█▋        | 22/135 [01:23<07:01,  3.73s/it]"
     ]
    },
    {
     "name": "stdout",
     "output_type": "stream",
     "text": [
      "[LightGBM] [Warning] Found whitespace in feature_names, replace with underlines\n",
      "[LightGBM] [Info] Number of positive: 6028, number of negative: 246184\n",
      "[LightGBM] [Info] Auto-choosing row-wise multi-threading, the overhead of testing was 0.031627 seconds.\n",
      "You can set `force_row_wise=true` to remove the overhead.\n",
      "And if memory is not enough, you can set `force_col_wise=true`.\n",
      "[LightGBM] [Info] Total Bins 5347\n",
      "[LightGBM] [Info] Number of data points in the train set: 252212, number of used features: 37\n",
      "[LightGBM] [Info] [binary:BoostFromScore]: pavg=0.023901 -> initscore=-3.709664\n",
      "[LightGBM] [Info] Start training from score -3.709664\n"
     ]
    },
    {
     "name": "stderr",
     "output_type": "stream",
     "text": [
      " 17%|█▋        | 23/135 [01:28<07:33,  4.05s/it]"
     ]
    },
    {
     "name": "stdout",
     "output_type": "stream",
     "text": [
      "[LightGBM] [Warning] Found whitespace in feature_names, replace with underlines\n",
      "[LightGBM] [Info] Number of positive: 6312, number of negative: 255750\n",
      "[LightGBM] [Info] Auto-choosing row-wise multi-threading, the overhead of testing was 0.020290 seconds.\n",
      "You can set `force_row_wise=true` to remove the overhead.\n",
      "And if memory is not enough, you can set `force_col_wise=true`.\n",
      "[LightGBM] [Info] Total Bins 5338\n",
      "[LightGBM] [Info] Number of data points in the train set: 262062, number of used features: 39\n",
      "[LightGBM] [Info] [binary:BoostFromScore]: pavg=0.024086 -> initscore=-3.701748\n",
      "[LightGBM] [Info] Start training from score -3.701748\n"
     ]
    },
    {
     "name": "stderr",
     "output_type": "stream",
     "text": [
      " 18%|█▊        | 24/135 [01:33<07:52,  4.26s/it]"
     ]
    },
    {
     "name": "stdout",
     "output_type": "stream",
     "text": [
      "[LightGBM] [Warning] Found whitespace in feature_names, replace with underlines\n",
      "[LightGBM] [Info] Number of positive: 5143, number of negative: 220582\n",
      "[LightGBM] [Info] Auto-choosing row-wise multi-threading, the overhead of testing was 0.021063 seconds.\n",
      "You can set `force_row_wise=true` to remove the overhead.\n",
      "And if memory is not enough, you can set `force_col_wise=true`.\n",
      "[LightGBM] [Info] Total Bins 5273\n",
      "[LightGBM] [Info] Number of data points in the train set: 225725, number of used features: 37\n",
      "[LightGBM] [Info] [binary:BoostFromScore]: pavg=0.022784 -> initscore=-3.758633\n",
      "[LightGBM] [Info] Start training from score -3.758633\n"
     ]
    },
    {
     "name": "stderr",
     "output_type": "stream",
     "text": [
      " 19%|█▊        | 25/135 [01:37<07:34,  4.13s/it]"
     ]
    },
    {
     "name": "stdout",
     "output_type": "stream",
     "text": [
      "[LightGBM] [Warning] Found whitespace in feature_names, replace with underlines\n",
      "[LightGBM] [Info] Number of positive: 10525, number of negative: 437100\n",
      "[LightGBM] [Info] Auto-choosing row-wise multi-threading, the overhead of testing was 0.039783 seconds.\n",
      "You can set `force_row_wise=true` to remove the overhead.\n",
      "And if memory is not enough, you can set `force_col_wise=true`.\n",
      "[LightGBM] [Info] Total Bins 5281\n",
      "[LightGBM] [Info] Number of data points in the train set: 447625, number of used features: 39\n",
      "[LightGBM] [Info] [binary:BoostFromScore]: pavg=0.023513 -> initscore=-3.726409\n",
      "[LightGBM] [Info] Start training from score -3.726409\n"
     ]
    },
    {
     "name": "stderr",
     "output_type": "stream",
     "text": [
      " 19%|█▉        | 26/135 [01:44<09:25,  5.19s/it]"
     ]
    },
    {
     "name": "stdout",
     "output_type": "stream",
     "text": [
      "[LightGBM] [Warning] Found whitespace in feature_names, replace with underlines\n",
      "[LightGBM] [Info] Number of positive: 5526, number of negative: 230626\n",
      "[LightGBM] [Info] Auto-choosing row-wise multi-threading, the overhead of testing was 0.018012 seconds.\n",
      "You can set `force_row_wise=true` to remove the overhead.\n",
      "And if memory is not enough, you can set `force_col_wise=true`.\n",
      "[LightGBM] [Info] Total Bins 5431\n",
      "[LightGBM] [Info] Number of data points in the train set: 236152, number of used features: 37\n",
      "[LightGBM] [Info] [binary:BoostFromScore]: pavg=0.023400 -> initscore=-3.731333\n",
      "[LightGBM] [Info] Start training from score -3.731333\n"
     ]
    },
    {
     "name": "stderr",
     "output_type": "stream",
     "text": [
      " 20%|██        | 27/135 [01:48<08:24,  4.68s/it]"
     ]
    },
    {
     "name": "stdout",
     "output_type": "stream",
     "text": [
      "[LightGBM] [Warning] Found whitespace in feature_names, replace with underlines\n",
      "[LightGBM] [Info] Number of positive: 5291, number of negative: 215723\n",
      "[LightGBM] [Info] Auto-choosing row-wise multi-threading, the overhead of testing was 0.017726 seconds.\n",
      "You can set `force_row_wise=true` to remove the overhead.\n",
      "And if memory is not enough, you can set `force_col_wise=true`.\n",
      "[LightGBM] [Info] Total Bins 5354\n",
      "[LightGBM] [Info] Number of data points in the train set: 221014, number of used features: 35\n",
      "[LightGBM] [Info] [binary:BoostFromScore]: pavg=0.023940 -> initscore=-3.707988\n",
      "[LightGBM] [Info] Start training from score -3.707988\n"
     ]
    },
    {
     "name": "stderr",
     "output_type": "stream",
     "text": [
      " 21%|██        | 28/135 [01:51<07:29,  4.20s/it]"
     ]
    },
    {
     "name": "stdout",
     "output_type": "stream",
     "text": [
      "[LightGBM] [Warning] Found whitespace in feature_names, replace with underlines\n",
      "[LightGBM] [Info] Number of positive: 5847, number of negative: 245378\n",
      "[LightGBM] [Info] Auto-choosing row-wise multi-threading, the overhead of testing was 0.022035 seconds.\n",
      "You can set `force_row_wise=true` to remove the overhead.\n",
      "And if memory is not enough, you can set `force_col_wise=true`.\n",
      "[LightGBM] [Info] Total Bins 5364\n",
      "[LightGBM] [Info] Number of data points in the train set: 251225, number of used features: 38\n",
      "[LightGBM] [Info] [binary:BoostFromScore]: pavg=0.023274 -> initscore=-3.736871\n",
      "[LightGBM] [Info] Start training from score -3.736871\n"
     ]
    },
    {
     "name": "stderr",
     "output_type": "stream",
     "text": [
      " 21%|██▏       | 29/135 [01:55<07:32,  4.27s/it]"
     ]
    },
    {
     "name": "stdout",
     "output_type": "stream",
     "text": [
      "[LightGBM] [Warning] Found whitespace in feature_names, replace with underlines\n",
      "[LightGBM] [Info] Number of positive: 6061, number of negative: 245615\n",
      "[LightGBM] [Info] Auto-choosing row-wise multi-threading, the overhead of testing was 0.019921 seconds.\n",
      "You can set `force_row_wise=true` to remove the overhead.\n",
      "And if memory is not enough, you can set `force_col_wise=true`.\n",
      "[LightGBM] [Info] Total Bins 5333\n",
      "[LightGBM] [Info] Number of data points in the train set: 251676, number of used features: 37\n",
      "[LightGBM] [Info] [binary:BoostFromScore]: pavg=0.024083 -> initscore=-3.701890\n",
      "[LightGBM] [Info] Start training from score -3.701890\n"
     ]
    },
    {
     "name": "stderr",
     "output_type": "stream",
     "text": [
      " 22%|██▏       | 30/135 [01:59<07:26,  4.25s/it]"
     ]
    },
    {
     "name": "stdout",
     "output_type": "stream",
     "text": [
      "[LightGBM] [Warning] Found whitespace in feature_names, replace with underlines\n",
      "[LightGBM] [Info] Number of positive: 5737, number of negative: 232613\n",
      "[LightGBM] [Info] Auto-choosing row-wise multi-threading, the overhead of testing was 0.023006 seconds.\n",
      "You can set `force_row_wise=true` to remove the overhead.\n",
      "And if memory is not enough, you can set `force_col_wise=true`.\n",
      "[LightGBM] [Info] Total Bins 5265\n",
      "[LightGBM] [Info] Number of data points in the train set: 238350, number of used features: 37\n",
      "[LightGBM] [Info] [binary:BoostFromScore]: pavg=0.024070 -> initscore=-3.702440\n",
      "[LightGBM] [Info] Start training from score -3.702440\n"
     ]
    },
    {
     "name": "stderr",
     "output_type": "stream",
     "text": [
      " 23%|██▎       | 31/135 [02:03<06:57,  4.02s/it]"
     ]
    },
    {
     "name": "stdout",
     "output_type": "stream",
     "text": [
      "[LightGBM] [Warning] Found whitespace in feature_names, replace with underlines\n",
      "[LightGBM] [Info] Number of positive: 5345, number of negative: 223385\n",
      "[LightGBM] [Info] Auto-choosing row-wise multi-threading, the overhead of testing was 0.018615 seconds.\n",
      "You can set `force_row_wise=true` to remove the overhead.\n",
      "And if memory is not enough, you can set `force_col_wise=true`.\n",
      "[LightGBM] [Info] Total Bins 5253\n",
      "[LightGBM] [Info] Number of data points in the train set: 228730, number of used features: 35\n",
      "[LightGBM] [Info] [binary:BoostFromScore]: pavg=0.023368 -> initscore=-3.732735\n",
      "[LightGBM] [Info] Start training from score -3.732735\n"
     ]
    },
    {
     "name": "stderr",
     "output_type": "stream",
     "text": [
      " 24%|██▎       | 32/135 [02:07<06:51,  3.99s/it]"
     ]
    },
    {
     "name": "stdout",
     "output_type": "stream",
     "text": [
      "[LightGBM] [Warning] Found whitespace in feature_names, replace with underlines\n",
      "[LightGBM] [Info] Number of positive: 5447, number of negative: 222189\n",
      "[LightGBM] [Info] Auto-choosing row-wise multi-threading, the overhead of testing was 0.021356 seconds.\n",
      "You can set `force_row_wise=true` to remove the overhead.\n",
      "And if memory is not enough, you can set `force_col_wise=true`.\n",
      "[LightGBM] [Info] Total Bins 5279\n",
      "[LightGBM] [Info] Number of data points in the train set: 227636, number of used features: 37\n",
      "[LightGBM] [Info] [binary:BoostFromScore]: pavg=0.023929 -> initscore=-3.708463\n",
      "[LightGBM] [Info] Start training from score -3.708463\n"
     ]
    },
    {
     "name": "stderr",
     "output_type": "stream",
     "text": [
      " 24%|██▍       | 33/135 [02:10<06:32,  3.85s/it]"
     ]
    },
    {
     "name": "stdout",
     "output_type": "stream",
     "text": [
      "[LightGBM] [Warning] Found whitespace in feature_names, replace with underlines\n",
      "[LightGBM] [Info] Number of positive: 10505, number of negative: 437269\n",
      "[LightGBM] [Info] Auto-choosing row-wise multi-threading, the overhead of testing was 0.039653 seconds.\n",
      "You can set `force_row_wise=true` to remove the overhead.\n",
      "And if memory is not enough, you can set `force_col_wise=true`.\n",
      "[LightGBM] [Info] Total Bins 5369\n",
      "[LightGBM] [Info] Number of data points in the train set: 447774, number of used features: 40\n",
      "[LightGBM] [Info] [binary:BoostFromScore]: pavg=0.023460 -> initscore=-3.728697\n",
      "[LightGBM] [Info] Start training from score -3.728697\n"
     ]
    },
    {
     "name": "stderr",
     "output_type": "stream",
     "text": [
      " 25%|██▌       | 34/135 [02:18<08:16,  4.91s/it]"
     ]
    },
    {
     "name": "stdout",
     "output_type": "stream",
     "text": [
      "[LightGBM] [Warning] Found whitespace in feature_names, replace with underlines\n",
      "[LightGBM] [Info] Number of positive: 5440, number of negative: 226788\n",
      "[LightGBM] [Info] Auto-choosing row-wise multi-threading, the overhead of testing was 0.024545 seconds.\n",
      "You can set `force_row_wise=true` to remove the overhead.\n",
      "And if memory is not enough, you can set `force_col_wise=true`.\n",
      "[LightGBM] [Info] Total Bins 5275\n",
      "[LightGBM] [Info] Number of data points in the train set: 232228, number of used features: 38\n",
      "[LightGBM] [Info] [binary:BoostFromScore]: pavg=0.023425 -> initscore=-3.730237\n",
      "[LightGBM] [Info] Start training from score -3.730237\n"
     ]
    },
    {
     "name": "stderr",
     "output_type": "stream",
     "text": [
      " 26%|██▌       | 35/135 [02:22<07:48,  4.68s/it]"
     ]
    },
    {
     "name": "stdout",
     "output_type": "stream",
     "text": [
      "[LightGBM] [Warning] Found whitespace in feature_names, replace with underlines\n",
      "[LightGBM] [Info] Number of positive: 5950, number of negative: 246794\n",
      "[LightGBM] [Info] Auto-choosing row-wise multi-threading, the overhead of testing was 0.022037 seconds.\n",
      "You can set `force_row_wise=true` to remove the overhead.\n",
      "And if memory is not enough, you can set `force_col_wise=true`.\n",
      "[LightGBM] [Info] Total Bins 5286\n",
      "[LightGBM] [Info] Number of data points in the train set: 252744, number of used features: 37\n",
      "[LightGBM] [Info] [binary:BoostFromScore]: pavg=0.023542 -> initscore=-3.725163\n",
      "[LightGBM] [Info] Start training from score -3.725163\n"
     ]
    },
    {
     "name": "stderr",
     "output_type": "stream",
     "text": [
      " 27%|██▋       | 36/135 [02:26<07:31,  4.56s/it]"
     ]
    },
    {
     "name": "stdout",
     "output_type": "stream",
     "text": [
      "[LightGBM] [Warning] Found whitespace in feature_names, replace with underlines\n",
      "[LightGBM] [Info] Number of positive: 10406, number of negative: 428806\n",
      "[LightGBM] [Info] Auto-choosing row-wise multi-threading, the overhead of testing was 0.037440 seconds.\n",
      "You can set `force_row_wise=true` to remove the overhead.\n",
      "And if memory is not enough, you can set `force_col_wise=true`.\n",
      "[LightGBM] [Info] Total Bins 5271\n",
      "[LightGBM] [Info] Number of data points in the train set: 439212, number of used features: 38\n",
      "[LightGBM] [Info] [binary:BoostFromScore]: pavg=0.023692 -> initscore=-3.718622\n",
      "[LightGBM] [Info] Start training from score -3.718622\n"
     ]
    },
    {
     "name": "stderr",
     "output_type": "stream",
     "text": [
      " 27%|██▋       | 37/135 [02:33<08:27,  5.18s/it]"
     ]
    },
    {
     "name": "stdout",
     "output_type": "stream",
     "text": [
      "[LightGBM] [Warning] Found whitespace in feature_names, replace with underlines\n",
      "[LightGBM] [Info] Number of positive: 5186, number of negative: 209777\n",
      "[LightGBM] [Info] Auto-choosing row-wise multi-threading, the overhead of testing was 0.016740 seconds.\n",
      "You can set `force_row_wise=true` to remove the overhead.\n",
      "And if memory is not enough, you can set `force_col_wise=true`.\n",
      "[LightGBM] [Info] Total Bins 5271\n",
      "[LightGBM] [Info] Number of data points in the train set: 214963, number of used features: 35\n",
      "[LightGBM] [Info] [binary:BoostFromScore]: pavg=0.024125 -> initscore=-3.700082\n",
      "[LightGBM] [Info] Start training from score -3.700082\n"
     ]
    },
    {
     "name": "stderr",
     "output_type": "stream",
     "text": [
      " 28%|██▊       | 38/135 [02:36<07:25,  4.59s/it]"
     ]
    },
    {
     "name": "stdout",
     "output_type": "stream",
     "text": [
      "[LightGBM] [Warning] Found whitespace in feature_names, replace with underlines\n",
      "[LightGBM] [Info] Number of positive: 5559, number of negative: 231101\n",
      "[LightGBM] [Info] Auto-choosing row-wise multi-threading, the overhead of testing was 0.019147 seconds.\n",
      "You can set `force_row_wise=true` to remove the overhead.\n",
      "And if memory is not enough, you can set `force_col_wise=true`.\n",
      "[LightGBM] [Info] Total Bins 5269\n",
      "[LightGBM] [Info] Number of data points in the train set: 236660, number of used features: 38\n",
      "[LightGBM] [Info] [binary:BoostFromScore]: pavg=0.023489 -> initscore=-3.727437\n",
      "[LightGBM] [Info] Start training from score -3.727437\n"
     ]
    },
    {
     "name": "stderr",
     "output_type": "stream",
     "text": [
      " 29%|██▉       | 39/135 [02:39<06:47,  4.24s/it]"
     ]
    },
    {
     "name": "stdout",
     "output_type": "stream",
     "text": [
      "[LightGBM] [Warning] Found whitespace in feature_names, replace with underlines\n",
      "[LightGBM] [Info] Number of positive: 10227, number of negative: 427135\n",
      "[LightGBM] [Info] Auto-choosing row-wise multi-threading, the overhead of testing was 0.039583 seconds.\n",
      "You can set `force_row_wise=true` to remove the overhead.\n",
      "And if memory is not enough, you can set `force_col_wise=true`.\n",
      "[LightGBM] [Info] Total Bins 5282\n",
      "[LightGBM] [Info] Number of data points in the train set: 437362, number of used features: 40\n",
      "[LightGBM] [Info] [binary:BoostFromScore]: pavg=0.023383 -> initscore=-3.732069\n",
      "[LightGBM] [Info] Start training from score -3.732069\n"
     ]
    },
    {
     "name": "stderr",
     "output_type": "stream",
     "text": [
      " 30%|██▉       | 40/135 [02:46<07:40,  4.85s/it]"
     ]
    },
    {
     "name": "stdout",
     "output_type": "stream",
     "text": [
      "[LightGBM] [Warning] Found whitespace in feature_names, replace with underlines\n",
      "[LightGBM] [Info] Number of positive: 5390, number of negative: 224975\n",
      "[LightGBM] [Info] Auto-choosing row-wise multi-threading, the overhead of testing was 0.020789 seconds.\n",
      "You can set `force_row_wise=true` to remove the overhead.\n",
      "And if memory is not enough, you can set `force_col_wise=true`.\n",
      "[LightGBM] [Info] Total Bins 5427\n",
      "[LightGBM] [Info] Number of data points in the train set: 230365, number of used features: 37\n",
      "[LightGBM] [Info] [binary:BoostFromScore]: pavg=0.023398 -> initscore=-3.731444\n",
      "[LightGBM] [Info] Start training from score -3.731444\n"
     ]
    },
    {
     "name": "stderr",
     "output_type": "stream",
     "text": [
      " 30%|███       | 41/135 [02:50<07:08,  4.56s/it]"
     ]
    },
    {
     "name": "stdout",
     "output_type": "stream",
     "text": [
      "[LightGBM] [Warning] Found whitespace in feature_names, replace with underlines\n",
      "[LightGBM] [Info] Number of positive: 10341, number of negative: 434940\n",
      "[LightGBM] [Info] Auto-choosing row-wise multi-threading, the overhead of testing was 0.038490 seconds.\n",
      "You can set `force_row_wise=true` to remove the overhead.\n",
      "And if memory is not enough, you can set `force_col_wise=true`.\n",
      "[LightGBM] [Info] Total Bins 5279\n",
      "[LightGBM] [Info] Number of data points in the train set: 445281, number of used features: 39\n",
      "[LightGBM] [Info] [binary:BoostFromScore]: pavg=0.023224 -> initscore=-3.739092\n",
      "[LightGBM] [Info] Start training from score -3.739092\n"
     ]
    },
    {
     "name": "stderr",
     "output_type": "stream",
     "text": [
      " 31%|███       | 42/135 [02:57<08:12,  5.30s/it]"
     ]
    },
    {
     "name": "stdout",
     "output_type": "stream",
     "text": [
      "[LightGBM] [Warning] Found whitespace in feature_names, replace with underlines\n",
      "[LightGBM] [Info] Number of positive: 5416, number of negative: 217009\n",
      "[LightGBM] [Info] Auto-choosing row-wise multi-threading, the overhead of testing was 0.019597 seconds.\n",
      "You can set `force_row_wise=true` to remove the overhead.\n",
      "And if memory is not enough, you can set `force_col_wise=true`.\n",
      "[LightGBM] [Info] Total Bins 5270\n",
      "[LightGBM] [Info] Number of data points in the train set: 222425, number of used features: 38\n",
      "[LightGBM] [Info] [binary:BoostFromScore]: pavg=0.024350 -> initscore=-3.690581\n",
      "[LightGBM] [Info] Start training from score -3.690581\n"
     ]
    },
    {
     "name": "stderr",
     "output_type": "stream",
     "text": [
      " 32%|███▏      | 43/135 [03:00<07:09,  4.67s/it]"
     ]
    },
    {
     "name": "stdout",
     "output_type": "stream",
     "text": [
      "[LightGBM] [Warning] Found whitespace in feature_names, replace with underlines\n",
      "[LightGBM] [Info] Number of positive: 5898, number of negative: 245056\n",
      "[LightGBM] [Info] Auto-choosing row-wise multi-threading, the overhead of testing was 0.023188 seconds.\n",
      "You can set `force_row_wise=true` to remove the overhead.\n",
      "And if memory is not enough, you can set `force_col_wise=true`.\n",
      "[LightGBM] [Info] Total Bins 5369\n",
      "[LightGBM] [Info] Number of data points in the train set: 250954, number of used features: 38\n",
      "[LightGBM] [Info] [binary:BoostFromScore]: pavg=0.023502 -> initscore=-3.726873\n",
      "[LightGBM] [Info] Start training from score -3.726873\n"
     ]
    },
    {
     "name": "stderr",
     "output_type": "stream",
     "text": [
      " 33%|███▎      | 44/135 [03:03<06:34,  4.34s/it]"
     ]
    },
    {
     "name": "stdout",
     "output_type": "stream",
     "text": [
      "[LightGBM] [Warning] Found whitespace in feature_names, replace with underlines\n",
      "[LightGBM] [Info] Number of positive: 5486, number of negative: 226494\n",
      "[LightGBM] [Info] Auto-choosing row-wise multi-threading, the overhead of testing was 0.019378 seconds.\n",
      "You can set `force_row_wise=true` to remove the overhead.\n",
      "And if memory is not enough, you can set `force_col_wise=true`.\n",
      "[LightGBM] [Info] Total Bins 5439\n",
      "[LightGBM] [Info] Number of data points in the train set: 231980, number of used features: 38\n",
      "[LightGBM] [Info] [binary:BoostFromScore]: pavg=0.023649 -> initscore=-3.720519\n",
      "[LightGBM] [Info] Start training from score -3.720519\n"
     ]
    },
    {
     "name": "stderr",
     "output_type": "stream",
     "text": [
      " 33%|███▎      | 45/135 [03:07<06:01,  4.01s/it]"
     ]
    },
    {
     "name": "stdout",
     "output_type": "stream",
     "text": [
      "[LightGBM] [Warning] Found whitespace in feature_names, replace with underlines\n",
      "[LightGBM] [Info] Number of positive: 5884, number of negative: 241406\n",
      "[LightGBM] [Info] Auto-choosing row-wise multi-threading, the overhead of testing was 0.021708 seconds.\n",
      "You can set `force_row_wise=true` to remove the overhead.\n",
      "And if memory is not enough, you can set `force_col_wise=true`.\n",
      "[LightGBM] [Info] Total Bins 5276\n",
      "[LightGBM] [Info] Number of data points in the train set: 247290, number of used features: 37\n",
      "[LightGBM] [Info] [binary:BoostFromScore]: pavg=0.023794 -> initscore=-3.714243\n",
      "[LightGBM] [Info] Start training from score -3.714243\n"
     ]
    },
    {
     "name": "stderr",
     "output_type": "stream",
     "text": [
      " 34%|███▍      | 46/135 [03:10<05:37,  3.79s/it]"
     ]
    },
    {
     "name": "stdout",
     "output_type": "stream",
     "text": [
      "[LightGBM] [Warning] Found whitespace in feature_names, replace with underlines\n",
      "[LightGBM] [Info] Number of positive: 5550, number of negative: 230016\n",
      "[LightGBM] [Info] Auto-choosing row-wise multi-threading, the overhead of testing was 0.021364 seconds.\n",
      "You can set `force_row_wise=true` to remove the overhead.\n",
      "And if memory is not enough, you can set `force_col_wise=true`.\n",
      "[LightGBM] [Info] Total Bins 5275\n",
      "[LightGBM] [Info] Number of data points in the train set: 235566, number of used features: 37\n",
      "[LightGBM] [Info] [binary:BoostFromScore]: pavg=0.023560 -> initscore=-3.724351\n",
      "[LightGBM] [Info] Start training from score -3.724351\n"
     ]
    },
    {
     "name": "stderr",
     "output_type": "stream",
     "text": [
      " 35%|███▍      | 47/135 [03:13<05:18,  3.62s/it]"
     ]
    },
    {
     "name": "stdout",
     "output_type": "stream",
     "text": [
      "[LightGBM] [Warning] Found whitespace in feature_names, replace with underlines\n",
      "[LightGBM] [Info] Number of positive: 5608, number of negative: 233478\n",
      "[LightGBM] [Info] Auto-choosing row-wise multi-threading, the overhead of testing was 0.018944 seconds.\n",
      "You can set `force_row_wise=true` to remove the overhead.\n",
      "And if memory is not enough, you can set `force_col_wise=true`.\n",
      "[LightGBM] [Info] Total Bins 5287\n",
      "[LightGBM] [Info] Number of data points in the train set: 239086, number of used features: 37\n",
      "[LightGBM] [Info] [binary:BoostFromScore]: pavg=0.023456 -> initscore=-3.728894\n",
      "[LightGBM] [Info] Start training from score -3.728894\n"
     ]
    },
    {
     "name": "stderr",
     "output_type": "stream",
     "text": [
      " 36%|███▌      | 48/135 [03:16<05:02,  3.48s/it]"
     ]
    },
    {
     "name": "stdout",
     "output_type": "stream",
     "text": [
      "[LightGBM] [Warning] Found whitespace in feature_names, replace with underlines\n",
      "[LightGBM] [Info] Number of positive: 5186, number of negative: 214691\n",
      "[LightGBM] [Info] Auto-choosing row-wise multi-threading, the overhead of testing was 0.018166 seconds.\n",
      "You can set `force_row_wise=true` to remove the overhead.\n",
      "And if memory is not enough, you can set `force_col_wise=true`.\n",
      "[LightGBM] [Info] Total Bins 5266\n",
      "[LightGBM] [Info] Number of data points in the train set: 219877, number of used features: 37\n",
      "[LightGBM] [Info] [binary:BoostFromScore]: pavg=0.023586 -> initscore=-3.723237\n",
      "[LightGBM] [Info] Start training from score -3.723237\n"
     ]
    },
    {
     "name": "stderr",
     "output_type": "stream",
     "text": [
      " 36%|███▋      | 49/135 [03:19<04:47,  3.34s/it]"
     ]
    },
    {
     "name": "stdout",
     "output_type": "stream",
     "text": [
      "[LightGBM] [Warning] Found whitespace in feature_names, replace with underlines\n",
      "[LightGBM] [Info] Number of positive: 5693, number of negative: 243304\n",
      "[LightGBM] [Info] Auto-choosing row-wise multi-threading, the overhead of testing was 0.021006 seconds.\n",
      "You can set `force_row_wise=true` to remove the overhead.\n",
      "And if memory is not enough, you can set `force_col_wise=true`.\n",
      "[LightGBM] [Info] Total Bins 5289\n",
      "[LightGBM] [Info] Number of data points in the train set: 248997, number of used features: 38\n",
      "[LightGBM] [Info] [binary:BoostFromScore]: pavg=0.022864 -> initscore=-3.755074\n",
      "[LightGBM] [Info] Start training from score -3.755074\n"
     ]
    },
    {
     "name": "stderr",
     "output_type": "stream",
     "text": [
      " 37%|███▋      | 50/135 [03:23<04:43,  3.33s/it]"
     ]
    },
    {
     "name": "stdout",
     "output_type": "stream",
     "text": [
      "[LightGBM] [Warning] Found whitespace in feature_names, replace with underlines\n",
      "[LightGBM] [Info] Number of positive: 5435, number of negative: 228190\n",
      "[LightGBM] [Info] Auto-choosing row-wise multi-threading, the overhead of testing was 0.019503 seconds.\n",
      "You can set `force_row_wise=true` to remove the overhead.\n",
      "And if memory is not enough, you can set `force_col_wise=true`.\n",
      "[LightGBM] [Info] Total Bins 5333\n",
      "[LightGBM] [Info] Number of data points in the train set: 233625, number of used features: 37\n",
      "[LightGBM] [Info] [binary:BoostFromScore]: pavg=0.023264 -> initscore=-3.737319\n",
      "[LightGBM] [Info] Start training from score -3.737319\n"
     ]
    },
    {
     "name": "stderr",
     "output_type": "stream",
     "text": [
      " 38%|███▊      | 51/135 [03:26<04:34,  3.27s/it]"
     ]
    },
    {
     "name": "stdout",
     "output_type": "stream",
     "text": [
      "[LightGBM] [Warning] Found whitespace in feature_names, replace with underlines\n",
      "[LightGBM] [Info] Number of positive: 5873, number of negative: 245383\n",
      "[LightGBM] [Info] Auto-choosing row-wise multi-threading, the overhead of testing was 0.020657 seconds.\n",
      "You can set `force_row_wise=true` to remove the overhead.\n",
      "And if memory is not enough, you can set `force_col_wise=true`.\n",
      "[LightGBM] [Info] Total Bins 5423\n",
      "[LightGBM] [Info] Number of data points in the train set: 251256, number of used features: 38\n",
      "[LightGBM] [Info] [binary:BoostFromScore]: pavg=0.023375 -> initscore=-3.732455\n",
      "[LightGBM] [Info] Start training from score -3.732455\n"
     ]
    },
    {
     "name": "stderr",
     "output_type": "stream",
     "text": [
      " 39%|███▊      | 52/135 [03:29<04:35,  3.32s/it]"
     ]
    },
    {
     "name": "stdout",
     "output_type": "stream",
     "text": [
      "[LightGBM] [Warning] Found whitespace in feature_names, replace with underlines\n",
      "[LightGBM] [Info] Number of positive: 10457, number of negative: 434968\n",
      "[LightGBM] [Info] Auto-choosing row-wise multi-threading, the overhead of testing was 0.042171 seconds.\n",
      "You can set `force_row_wise=true` to remove the overhead.\n",
      "And if memory is not enough, you can set `force_col_wise=true`.\n",
      "[LightGBM] [Info] Total Bins 5274\n",
      "[LightGBM] [Info] Number of data points in the train set: 445425, number of used features: 40\n",
      "[LightGBM] [Info] [binary:BoostFromScore]: pavg=0.023476 -> initscore=-3.728001\n",
      "[LightGBM] [Info] Start training from score -3.728001\n"
     ]
    },
    {
     "name": "stderr",
     "output_type": "stream",
     "text": [
      " 39%|███▉      | 53/135 [03:35<05:34,  4.08s/it]"
     ]
    },
    {
     "name": "stdout",
     "output_type": "stream",
     "text": [
      "[LightGBM] [Warning] Found whitespace in feature_names, replace with underlines\n",
      "[LightGBM] [Info] Number of positive: 5609, number of negative: 237670\n",
      "[LightGBM] [Info] Auto-choosing row-wise multi-threading, the overhead of testing was 0.019161 seconds.\n",
      "You can set `force_row_wise=true` to remove the overhead.\n",
      "And if memory is not enough, you can set `force_col_wise=true`.\n",
      "[LightGBM] [Info] Total Bins 5274\n",
      "[LightGBM] [Info] Number of data points in the train set: 243279, number of used features: 35\n",
      "[LightGBM] [Info] [binary:BoostFromScore]: pavg=0.023056 -> initscore=-3.746511\n",
      "[LightGBM] [Info] Start training from score -3.746511\n"
     ]
    },
    {
     "name": "stderr",
     "output_type": "stream",
     "text": [
      " 40%|████      | 54/135 [03:38<05:12,  3.86s/it]"
     ]
    },
    {
     "name": "stdout",
     "output_type": "stream",
     "text": [
      "[LightGBM] [Warning] Found whitespace in feature_names, replace with underlines\n",
      "[LightGBM] [Info] Number of positive: 5496, number of negative: 230129\n",
      "[LightGBM] [Info] Auto-choosing row-wise multi-threading, the overhead of testing was 0.019648 seconds.\n",
      "You can set `force_row_wise=true` to remove the overhead.\n",
      "And if memory is not enough, you can set `force_col_wise=true`.\n",
      "[LightGBM] [Info] Total Bins 5348\n",
      "[LightGBM] [Info] Number of data points in the train set: 235625, number of used features: 38\n",
      "[LightGBM] [Info] [binary:BoostFromScore]: pavg=0.023325 -> initscore=-3.734619\n",
      "[LightGBM] [Info] Start training from score -3.734619\n"
     ]
    },
    {
     "name": "stderr",
     "output_type": "stream",
     "text": [
      " 41%|████      | 55/135 [03:41<04:51,  3.64s/it]"
     ]
    },
    {
     "name": "stdout",
     "output_type": "stream",
     "text": [
      "[LightGBM] [Warning] Found whitespace in feature_names, replace with underlines\n",
      "[LightGBM] [Info] Number of positive: 5163, number of negative: 217221\n",
      "[LightGBM] [Info] Auto-choosing row-wise multi-threading, the overhead of testing was 0.018162 seconds.\n",
      "You can set `force_row_wise=true` to remove the overhead.\n",
      "And if memory is not enough, you can set `force_col_wise=true`.\n",
      "[LightGBM] [Info] Total Bins 5264\n",
      "[LightGBM] [Info] Number of data points in the train set: 222384, number of used features: 37\n",
      "[LightGBM] [Info] [binary:BoostFromScore]: pavg=0.023217 -> initscore=-3.739397\n",
      "[LightGBM] [Info] Start training from score -3.739397\n"
     ]
    },
    {
     "name": "stderr",
     "output_type": "stream",
     "text": [
      " 41%|████▏     | 56/135 [03:45<04:36,  3.50s/it]"
     ]
    },
    {
     "name": "stdout",
     "output_type": "stream",
     "text": [
      "[LightGBM] [Warning] Found whitespace in feature_names, replace with underlines\n",
      "[LightGBM] [Info] Number of positive: 5529, number of negative: 229497\n",
      "[LightGBM] [Info] Auto-choosing row-wise multi-threading, the overhead of testing was 0.020925 seconds.\n",
      "You can set `force_row_wise=true` to remove the overhead.\n",
      "And if memory is not enough, you can set `force_col_wise=true`.\n",
      "[LightGBM] [Info] Total Bins 5259\n",
      "[LightGBM] [Info] Number of data points in the train set: 235026, number of used features: 37\n",
      "[LightGBM] [Info] [binary:BoostFromScore]: pavg=0.023525 -> initscore=-3.725883\n",
      "[LightGBM] [Info] Start training from score -3.725883\n"
     ]
    },
    {
     "name": "stderr",
     "output_type": "stream",
     "text": [
      " 42%|████▏     | 57/135 [03:48<04:30,  3.47s/it]"
     ]
    },
    {
     "name": "stdout",
     "output_type": "stream",
     "text": [
      "[LightGBM] [Warning] Found whitespace in feature_names, replace with underlines\n",
      "[LightGBM] [Info] Number of positive: 10060, number of negative: 419525\n",
      "[LightGBM] [Info] Auto-choosing row-wise multi-threading, the overhead of testing was 0.038144 seconds.\n",
      "You can set `force_row_wise=true` to remove the overhead.\n",
      "And if memory is not enough, you can set `force_col_wise=true`.\n",
      "[LightGBM] [Info] Total Bins 5336\n",
      "[LightGBM] [Info] Number of data points in the train set: 429585, number of used features: 39\n",
      "[LightGBM] [Info] [binary:BoostFromScore]: pavg=0.023418 -> initscore=-3.730556\n",
      "[LightGBM] [Info] Start training from score -3.730556\n"
     ]
    },
    {
     "name": "stderr",
     "output_type": "stream",
     "text": [
      " 43%|████▎     | 58/135 [03:54<05:22,  4.18s/it]"
     ]
    },
    {
     "name": "stdout",
     "output_type": "stream",
     "text": [
      "[LightGBM] [Warning] Found whitespace in feature_names, replace with underlines\n",
      "[LightGBM] [Info] Number of positive: 5570, number of negative: 231425\n",
      "[LightGBM] [Info] Auto-choosing row-wise multi-threading, the overhead of testing was 0.020157 seconds.\n",
      "You can set `force_row_wise=true` to remove the overhead.\n",
      "And if memory is not enough, you can set `force_col_wise=true`.\n",
      "[LightGBM] [Info] Total Bins 5272\n",
      "[LightGBM] [Info] Number of data points in the train set: 236995, number of used features: 38\n",
      "[LightGBM] [Info] [binary:BoostFromScore]: pavg=0.023503 -> initscore=-3.726861\n",
      "[LightGBM] [Info] Start training from score -3.726861\n"
     ]
    },
    {
     "name": "stderr",
     "output_type": "stream",
     "text": [
      " 44%|████▎     | 59/135 [03:57<04:56,  3.90s/it]"
     ]
    },
    {
     "name": "stdout",
     "output_type": "stream",
     "text": [
      "[LightGBM] [Warning] Found whitespace in feature_names, replace with underlines\n",
      "[LightGBM] [Info] Number of positive: 5794, number of negative: 239390\n",
      "[LightGBM] [Info] Auto-choosing row-wise multi-threading, the overhead of testing was 0.020788 seconds.\n",
      "You can set `force_row_wise=true` to remove the overhead.\n",
      "And if memory is not enough, you can set `force_col_wise=true`.\n",
      "[LightGBM] [Info] Total Bins 5273\n",
      "[LightGBM] [Info] Number of data points in the train set: 245184, number of used features: 37\n",
      "[LightGBM] [Info] [binary:BoostFromScore]: pavg=0.023631 -> initscore=-3.721271\n",
      "[LightGBM] [Info] Start training from score -3.721271\n"
     ]
    },
    {
     "name": "stderr",
     "output_type": "stream",
     "text": [
      " 44%|████▍     | 60/135 [04:01<04:40,  3.75s/it]"
     ]
    },
    {
     "name": "stdout",
     "output_type": "stream",
     "text": [
      "[LightGBM] [Warning] Found whitespace in feature_names, replace with underlines\n",
      "[LightGBM] [Info] Number of positive: 5919, number of negative: 248228\n",
      "[LightGBM] [Info] Auto-choosing row-wise multi-threading, the overhead of testing was 0.020529 seconds.\n",
      "You can set `force_row_wise=true` to remove the overhead.\n",
      "And if memory is not enough, you can set `force_col_wise=true`.\n",
      "[LightGBM] [Info] Total Bins 5327\n",
      "[LightGBM] [Info] Number of data points in the train set: 254147, number of used features: 38\n",
      "[LightGBM] [Info] [binary:BoostFromScore]: pavg=0.023290 -> initscore=-3.736180\n",
      "[LightGBM] [Info] Start training from score -3.736180\n"
     ]
    },
    {
     "name": "stderr",
     "output_type": "stream",
     "text": [
      " 45%|████▌     | 61/135 [04:04<04:30,  3.66s/it]"
     ]
    },
    {
     "name": "stdout",
     "output_type": "stream",
     "text": [
      "[LightGBM] [Warning] Found whitespace in feature_names, replace with underlines\n",
      "[LightGBM] [Info] Number of positive: 5838, number of negative: 233805\n",
      "[LightGBM] [Info] Auto-choosing row-wise multi-threading, the overhead of testing was 0.022371 seconds.\n",
      "You can set `force_row_wise=true` to remove the overhead.\n",
      "And if memory is not enough, you can set `force_col_wise=true`.\n",
      "[LightGBM] [Info] Total Bins 5290\n",
      "[LightGBM] [Info] Number of data points in the train set: 239643, number of used features: 39\n",
      "[LightGBM] [Info] [binary:BoostFromScore]: pavg=0.024361 -> initscore=-3.690099\n",
      "[LightGBM] [Info] Start training from score -3.690099\n"
     ]
    },
    {
     "name": "stderr",
     "output_type": "stream",
     "text": [
      " 46%|████▌     | 62/135 [04:07<04:16,  3.51s/it]"
     ]
    },
    {
     "name": "stdout",
     "output_type": "stream",
     "text": [
      "[LightGBM] [Warning] Found whitespace in feature_names, replace with underlines\n",
      "[LightGBM] [Info] Number of positive: 10509, number of negative: 430518\n",
      "[LightGBM] [Info] Auto-choosing row-wise multi-threading, the overhead of testing was 0.035550 seconds.\n",
      "You can set `force_row_wise=true` to remove the overhead.\n",
      "And if memory is not enough, you can set `force_col_wise=true`.\n",
      "[LightGBM] [Info] Total Bins 5290\n",
      "[LightGBM] [Info] Number of data points in the train set: 441027, number of used features: 39\n",
      "[LightGBM] [Info] [binary:BoostFromScore]: pavg=0.023828 -> initscore=-3.712757\n",
      "[LightGBM] [Info] Start training from score -3.712757\n"
     ]
    },
    {
     "name": "stderr",
     "output_type": "stream",
     "text": [
      " 47%|████▋     | 63/135 [04:13<04:55,  4.11s/it]"
     ]
    },
    {
     "name": "stdout",
     "output_type": "stream",
     "text": [
      "[LightGBM] [Warning] Found whitespace in feature_names, replace with underlines\n",
      "[LightGBM] [Info] Number of positive: 5598, number of negative: 231828\n",
      "[LightGBM] [Info] Auto-choosing row-wise multi-threading, the overhead of testing was 0.019345 seconds.\n",
      "You can set `force_row_wise=true` to remove the overhead.\n",
      "And if memory is not enough, you can set `force_col_wise=true`.\n",
      "[LightGBM] [Info] Total Bins 5286\n",
      "[LightGBM] [Info] Number of data points in the train set: 237426, number of used features: 37\n",
      "[LightGBM] [Info] [binary:BoostFromScore]: pavg=0.023578 -> initscore=-3.723586\n",
      "[LightGBM] [Info] Start training from score -3.723586\n"
     ]
    },
    {
     "name": "stderr",
     "output_type": "stream",
     "text": [
      " 47%|████▋     | 64/135 [04:16<04:30,  3.81s/it]"
     ]
    },
    {
     "name": "stdout",
     "output_type": "stream",
     "text": [
      "[LightGBM] [Warning] Found whitespace in feature_names, replace with underlines\n",
      "[LightGBM] [Info] Number of positive: 6195, number of negative: 256870\n",
      "[LightGBM] [Info] Auto-choosing row-wise multi-threading, the overhead of testing was 0.021298 seconds.\n",
      "You can set `force_row_wise=true` to remove the overhead.\n",
      "And if memory is not enough, you can set `force_col_wise=true`.\n",
      "[LightGBM] [Info] Total Bins 5276\n",
      "[LightGBM] [Info] Number of data points in the train set: 263065, number of used features: 37\n",
      "[LightGBM] [Info] [binary:BoostFromScore]: pavg=0.023549 -> initscore=-3.724828\n",
      "[LightGBM] [Info] Start training from score -3.724828\n"
     ]
    },
    {
     "name": "stderr",
     "output_type": "stream",
     "text": [
      " 48%|████▊     | 65/135 [04:19<04:20,  3.72s/it]"
     ]
    },
    {
     "name": "stdout",
     "output_type": "stream",
     "text": [
      "[LightGBM] [Warning] Found whitespace in feature_names, replace with underlines\n",
      "[LightGBM] [Info] Number of positive: 5774, number of negative: 239152\n",
      "[LightGBM] [Info] Auto-choosing row-wise multi-threading, the overhead of testing was 0.022459 seconds.\n",
      "You can set `force_row_wise=true` to remove the overhead.\n",
      "And if memory is not enough, you can set `force_col_wise=true`.\n",
      "[LightGBM] [Info] Total Bins 5276\n",
      "[LightGBM] [Info] Number of data points in the train set: 244926, number of used features: 38\n",
      "[LightGBM] [Info] [binary:BoostFromScore]: pavg=0.023574 -> initscore=-3.723734\n",
      "[LightGBM] [Info] Start training from score -3.723734\n"
     ]
    },
    {
     "name": "stderr",
     "output_type": "stream",
     "text": [
      " 49%|████▉     | 66/135 [04:23<04:08,  3.60s/it]"
     ]
    },
    {
     "name": "stdout",
     "output_type": "stream",
     "text": [
      "[LightGBM] [Warning] Found whitespace in feature_names, replace with underlines\n",
      "[LightGBM] [Info] Number of positive: 5158, number of negative: 210926\n",
      "[LightGBM] [Info] Auto-choosing row-wise multi-threading, the overhead of testing was 0.016837 seconds.\n",
      "You can set `force_row_wise=true` to remove the overhead.\n",
      "And if memory is not enough, you can set `force_col_wise=true`.\n",
      "[LightGBM] [Info] Total Bins 5360\n",
      "[LightGBM] [Info] Number of data points in the train set: 216084, number of used features: 35\n",
      "[LightGBM] [Info] [binary:BoostFromScore]: pavg=0.023870 -> initscore=-3.710958\n",
      "[LightGBM] [Info] Start training from score -3.710958\n"
     ]
    },
    {
     "name": "stderr",
     "output_type": "stream",
     "text": [
      " 50%|████▉     | 67/135 [04:26<03:54,  3.44s/it]"
     ]
    },
    {
     "name": "stdout",
     "output_type": "stream",
     "text": [
      "[LightGBM] [Warning] Found whitespace in feature_names, replace with underlines\n",
      "[LightGBM] [Info] Number of positive: 6226, number of negative: 261702\n",
      "[LightGBM] [Info] Auto-choosing row-wise multi-threading, the overhead of testing was 0.024445 seconds.\n",
      "You can set `force_row_wise=true` to remove the overhead.\n",
      "And if memory is not enough, you can set `force_col_wise=true`.\n",
      "[LightGBM] [Info] Total Bins 5273\n",
      "[LightGBM] [Info] Number of data points in the train set: 267928, number of used features: 38\n",
      "[LightGBM] [Info] [binary:BoostFromScore]: pavg=0.023238 -> initscore=-3.738472\n",
      "[LightGBM] [Info] Start training from score -3.738472\n"
     ]
    },
    {
     "name": "stderr",
     "output_type": "stream",
     "text": [
      " 50%|█████     | 68/135 [04:29<03:51,  3.45s/it]"
     ]
    },
    {
     "name": "stdout",
     "output_type": "stream",
     "text": [
      "[LightGBM] [Warning] Found whitespace in feature_names, replace with underlines\n",
      "[LightGBM] [Info] Number of positive: 5273, number of negative: 218816\n",
      "[LightGBM] [Info] Auto-choosing row-wise multi-threading, the overhead of testing was 0.018228 seconds.\n",
      "You can set `force_row_wise=true` to remove the overhead.\n",
      "And if memory is not enough, you can set `force_col_wise=true`.\n",
      "[LightGBM] [Info] Total Bins 5264\n",
      "[LightGBM] [Info] Number of data points in the train set: 224089, number of used features: 35\n",
      "[LightGBM] [Info] [binary:BoostFromScore]: pavg=0.023531 -> initscore=-3.725632\n",
      "[LightGBM] [Info] Start training from score -3.725632\n"
     ]
    },
    {
     "name": "stderr",
     "output_type": "stream",
     "text": [
      " 51%|█████     | 69/135 [04:32<03:37,  3.29s/it]"
     ]
    },
    {
     "name": "stdout",
     "output_type": "stream",
     "text": [
      "[LightGBM] [Warning] Found whitespace in feature_names, replace with underlines\n",
      "[LightGBM] [Info] Number of positive: 5519, number of negative: 234687\n",
      "[LightGBM] [Info] Auto-choosing row-wise multi-threading, the overhead of testing was 0.020961 seconds.\n",
      "You can set `force_row_wise=true` to remove the overhead.\n",
      "And if memory is not enough, you can set `force_col_wise=true`.\n",
      "[LightGBM] [Info] Total Bins 5369\n",
      "[LightGBM] [Info] Number of data points in the train set: 240206, number of used features: 37\n",
      "[LightGBM] [Info] [binary:BoostFromScore]: pavg=0.022976 -> initscore=-3.750056\n",
      "[LightGBM] [Info] Start training from score -3.750056\n"
     ]
    },
    {
     "name": "stderr",
     "output_type": "stream",
     "text": [
      " 52%|█████▏    | 70/135 [04:35<03:32,  3.27s/it]"
     ]
    },
    {
     "name": "stdout",
     "output_type": "stream",
     "text": [
      "[LightGBM] [Warning] Found whitespace in feature_names, replace with underlines\n",
      "[LightGBM] [Info] Number of positive: 5402, number of negative: 224374\n",
      "[LightGBM] [Info] Auto-choosing row-wise multi-threading, the overhead of testing was 0.017843 seconds.\n",
      "You can set `force_row_wise=true` to remove the overhead.\n",
      "And if memory is not enough, you can set `force_col_wise=true`.\n",
      "[LightGBM] [Info] Total Bins 5287\n",
      "[LightGBM] [Info] Number of data points in the train set: 229776, number of used features: 37\n",
      "[LightGBM] [Info] [binary:BoostFromScore]: pavg=0.023510 -> initscore=-3.726545\n",
      "[LightGBM] [Info] Start training from score -3.726545\n"
     ]
    },
    {
     "name": "stderr",
     "output_type": "stream",
     "text": [
      " 53%|█████▎    | 71/135 [04:38<03:26,  3.23s/it]"
     ]
    },
    {
     "name": "stdout",
     "output_type": "stream",
     "text": [
      "[LightGBM] [Warning] Found whitespace in feature_names, replace with underlines\n",
      "[LightGBM] [Info] Number of positive: 6490, number of negative: 271230\n",
      "[LightGBM] [Info] Auto-choosing row-wise multi-threading, the overhead of testing was 0.023894 seconds.\n",
      "You can set `force_row_wise=true` to remove the overhead.\n",
      "And if memory is not enough, you can set `force_col_wise=true`.\n",
      "[LightGBM] [Info] Total Bins 5287\n",
      "[LightGBM] [Info] Number of data points in the train set: 277720, number of used features: 39\n",
      "[LightGBM] [Info] [binary:BoostFromScore]: pavg=0.023369 -> initscore=-3.732705\n",
      "[LightGBM] [Info] Start training from score -3.732705\n"
     ]
    },
    {
     "name": "stderr",
     "output_type": "stream",
     "text": [
      " 53%|█████▎    | 72/135 [04:42<03:32,  3.38s/it]"
     ]
    },
    {
     "name": "stdout",
     "output_type": "stream",
     "text": [
      "[LightGBM] [Warning] Found whitespace in feature_names, replace with underlines\n",
      "[LightGBM] [Info] Number of positive: 6237, number of negative: 254458\n",
      "[LightGBM] [Info] Auto-choosing row-wise multi-threading, the overhead of testing was 0.022602 seconds.\n",
      "You can set `force_row_wise=true` to remove the overhead.\n",
      "And if memory is not enough, you can set `force_col_wise=true`.\n",
      "[LightGBM] [Info] Total Bins 5351\n",
      "[LightGBM] [Info] Number of data points in the train set: 260695, number of used features: 38\n",
      "[LightGBM] [Info] [binary:BoostFromScore]: pavg=0.023925 -> initscore=-3.708636\n",
      "[LightGBM] [Info] Start training from score -3.708636\n"
     ]
    },
    {
     "name": "stderr",
     "output_type": "stream",
     "text": [
      " 54%|█████▍    | 73/135 [04:46<03:33,  3.44s/it]"
     ]
    },
    {
     "name": "stdout",
     "output_type": "stream",
     "text": [
      "[LightGBM] [Warning] Found whitespace in feature_names, replace with underlines\n",
      "[LightGBM] [Info] Number of positive: 5484, number of negative: 230237\n",
      "[LightGBM] [Info] Auto-choosing row-wise multi-threading, the overhead of testing was 0.019743 seconds.\n",
      "You can set `force_row_wise=true` to remove the overhead.\n",
      "And if memory is not enough, you can set `force_col_wise=true`.\n",
      "[LightGBM] [Info] Total Bins 5262\n",
      "[LightGBM] [Info] Number of data points in the train set: 235721, number of used features: 37\n",
      "[LightGBM] [Info] [binary:BoostFromScore]: pavg=0.023265 -> initscore=-3.737274\n",
      "[LightGBM] [Info] Start training from score -3.737274\n"
     ]
    },
    {
     "name": "stderr",
     "output_type": "stream",
     "text": [
      " 55%|█████▍    | 74/135 [04:49<03:28,  3.42s/it]"
     ]
    },
    {
     "name": "stdout",
     "output_type": "stream",
     "text": [
      "[LightGBM] [Warning] Found whitespace in feature_names, replace with underlines\n",
      "[LightGBM] [Info] Number of positive: 5783, number of negative: 241254\n",
      "[LightGBM] [Info] Auto-choosing row-wise multi-threading, the overhead of testing was 0.020453 seconds.\n",
      "You can set `force_row_wise=true` to remove the overhead.\n",
      "And if memory is not enough, you can set `force_col_wise=true`.\n",
      "[LightGBM] [Info] Total Bins 5276\n",
      "[LightGBM] [Info] Number of data points in the train set: 247037, number of used features: 37\n",
      "[LightGBM] [Info] [binary:BoostFromScore]: pavg=0.023409 -> initscore=-3.730928\n",
      "[LightGBM] [Info] Start training from score -3.730928\n"
     ]
    },
    {
     "name": "stderr",
     "output_type": "stream",
     "text": [
      " 56%|█████▌    | 75/135 [04:52<03:21,  3.36s/it]"
     ]
    },
    {
     "name": "stdout",
     "output_type": "stream",
     "text": [
      "[LightGBM] [Warning] Found whitespace in feature_names, replace with underlines\n",
      "[LightGBM] [Info] Number of positive: 10566, number of negative: 433768\n",
      "[LightGBM] [Info] Auto-choosing row-wise multi-threading, the overhead of testing was 0.039912 seconds.\n",
      "You can set `force_row_wise=true` to remove the overhead.\n",
      "And if memory is not enough, you can set `force_col_wise=true`.\n",
      "[LightGBM] [Info] Total Bins 5329\n",
      "[LightGBM] [Info] Number of data points in the train set: 444334, number of used features: 39\n",
      "[LightGBM] [Info] [binary:BoostFromScore]: pavg=0.023779 -> initscore=-3.714869\n",
      "[LightGBM] [Info] Start training from score -3.714869\n"
     ]
    },
    {
     "name": "stderr",
     "output_type": "stream",
     "text": [
      " 56%|█████▋    | 76/135 [04:58<03:57,  4.03s/it]"
     ]
    },
    {
     "name": "stdout",
     "output_type": "stream",
     "text": [
      "[LightGBM] [Warning] Found whitespace in feature_names, replace with underlines\n",
      "[LightGBM] [Info] Number of positive: 10563, number of negative: 436232\n",
      "[LightGBM] [Info] Auto-choosing row-wise multi-threading, the overhead of testing was 0.037505 seconds.\n",
      "You can set `force_row_wise=true` to remove the overhead.\n",
      "And if memory is not enough, you can set `force_col_wise=true`.\n",
      "[LightGBM] [Info] Total Bins 5288\n",
      "[LightGBM] [Info] Number of data points in the train set: 446795, number of used features: 40\n",
      "[LightGBM] [Info] [binary:BoostFromScore]: pavg=0.023642 -> initscore=-3.720817\n",
      "[LightGBM] [Info] Start training from score -3.720817\n"
     ]
    },
    {
     "name": "stderr",
     "output_type": "stream",
     "text": [
      " 57%|█████▋    | 77/135 [05:03<04:19,  4.47s/it]"
     ]
    },
    {
     "name": "stdout",
     "output_type": "stream",
     "text": [
      "[LightGBM] [Warning] Found whitespace in feature_names, replace with underlines\n",
      "[LightGBM] [Info] Number of positive: 10255, number of negative: 425445\n",
      "[LightGBM] [Info] Auto-choosing row-wise multi-threading, the overhead of testing was 0.038619 seconds.\n",
      "You can set `force_row_wise=true` to remove the overhead.\n",
      "And if memory is not enough, you can set `force_col_wise=true`.\n",
      "[LightGBM] [Info] Total Bins 5332\n",
      "[LightGBM] [Info] Number of data points in the train set: 435700, number of used features: 39\n",
      "[LightGBM] [Info] [binary:BoostFromScore]: pavg=0.023537 -> initscore=-3.725370\n",
      "[LightGBM] [Info] Start training from score -3.725370\n"
     ]
    },
    {
     "name": "stderr",
     "output_type": "stream",
     "text": [
      " 58%|█████▊    | 78/135 [05:09<04:34,  4.82s/it]"
     ]
    },
    {
     "name": "stdout",
     "output_type": "stream",
     "text": [
      "[LightGBM] [Warning] Found whitespace in feature_names, replace with underlines\n",
      "[LightGBM] [Info] Number of positive: 10315, number of negative: 424519\n",
      "[LightGBM] [Info] Auto-choosing row-wise multi-threading, the overhead of testing was 0.031674 seconds.\n",
      "You can set `force_row_wise=true` to remove the overhead.\n",
      "And if memory is not enough, you can set `force_col_wise=true`.\n",
      "[LightGBM] [Info] Total Bins 5295\n",
      "[LightGBM] [Info] Number of data points in the train set: 434834, number of used features: 39\n",
      "[LightGBM] [Info] [binary:BoostFromScore]: pavg=0.023722 -> initscore=-3.717358\n",
      "[LightGBM] [Info] Start training from score -3.717358\n"
     ]
    },
    {
     "name": "stderr",
     "output_type": "stream",
     "text": [
      " 59%|█████▊    | 79/135 [05:15<04:43,  5.05s/it]"
     ]
    },
    {
     "name": "stdout",
     "output_type": "stream",
     "text": [
      "[LightGBM] [Warning] Found whitespace in feature_names, replace with underlines\n",
      "[LightGBM] [Info] Number of positive: 10608, number of negative: 440426\n",
      "[LightGBM] [Info] Auto-choosing row-wise multi-threading, the overhead of testing was 0.041099 seconds.\n",
      "You can set `force_row_wise=true` to remove the overhead.\n",
      "And if memory is not enough, you can set `force_col_wise=true`.\n",
      "[LightGBM] [Info] Total Bins 5282\n",
      "[LightGBM] [Info] Number of data points in the train set: 451034, number of used features: 39\n",
      "[LightGBM] [Info] [binary:BoostFromScore]: pavg=0.023519 -> initscore=-3.726134\n",
      "[LightGBM] [Info] Start training from score -3.726134\n"
     ]
    },
    {
     "name": "stderr",
     "output_type": "stream",
     "text": [
      " 59%|█████▉    | 80/135 [05:20<04:46,  5.21s/it]"
     ]
    },
    {
     "name": "stdout",
     "output_type": "stream",
     "text": [
      "[LightGBM] [Warning] Found whitespace in feature_names, replace with underlines\n",
      "[LightGBM] [Info] Number of positive: 5667, number of negative: 230022\n",
      "[LightGBM] [Info] Auto-choosing row-wise multi-threading, the overhead of testing was 0.018234 seconds.\n",
      "You can set `force_row_wise=true` to remove the overhead.\n",
      "And if memory is not enough, you can set `force_col_wise=true`.\n",
      "[LightGBM] [Info] Total Bins 5274\n",
      "[LightGBM] [Info] Number of data points in the train set: 235689, number of used features: 37\n",
      "[LightGBM] [Info] [binary:BoostFromScore]: pavg=0.024044 -> initscore=-3.703515\n",
      "[LightGBM] [Info] Start training from score -3.703515\n"
     ]
    },
    {
     "name": "stderr",
     "output_type": "stream",
     "text": [
      " 60%|██████    | 81/135 [05:23<04:07,  4.58s/it]"
     ]
    },
    {
     "name": "stdout",
     "output_type": "stream",
     "text": [
      "[LightGBM] [Warning] Found whitespace in feature_names, replace with underlines\n",
      "[LightGBM] [Info] Number of positive: 5430, number of negative: 225309\n",
      "[LightGBM] [Info] Auto-choosing row-wise multi-threading, the overhead of testing was 0.019557 seconds.\n",
      "You can set `force_row_wise=true` to remove the overhead.\n",
      "And if memory is not enough, you can set `force_col_wise=true`.\n",
      "[LightGBM] [Info] Total Bins 5329\n",
      "[LightGBM] [Info] Number of data points in the train set: 230739, number of used features: 36\n",
      "[LightGBM] [Info] [binary:BoostFromScore]: pavg=0.023533 -> initscore=-3.725534\n",
      "[LightGBM] [Info] Start training from score -3.725534\n"
     ]
    },
    {
     "name": "stderr",
     "output_type": "stream",
     "text": [
      " 61%|██████    | 82/135 [05:26<03:37,  4.11s/it]"
     ]
    },
    {
     "name": "stdout",
     "output_type": "stream",
     "text": [
      "[LightGBM] [Warning] Found whitespace in feature_names, replace with underlines\n",
      "[LightGBM] [Info] Number of positive: 5345, number of negative: 224848\n",
      "[LightGBM] [Info] Auto-choosing row-wise multi-threading, the overhead of testing was 0.018149 seconds.\n",
      "You can set `force_row_wise=true` to remove the overhead.\n",
      "And if memory is not enough, you can set `force_col_wise=true`.\n",
      "[LightGBM] [Info] Total Bins 5345\n",
      "[LightGBM] [Info] Number of data points in the train set: 230193, number of used features: 37\n",
      "[LightGBM] [Info] [binary:BoostFromScore]: pavg=0.023220 -> initscore=-3.739263\n",
      "[LightGBM] [Info] Start training from score -3.739263\n"
     ]
    },
    {
     "name": "stderr",
     "output_type": "stream",
     "text": [
      " 61%|██████▏   | 83/135 [05:29<03:16,  3.78s/it]"
     ]
    },
    {
     "name": "stdout",
     "output_type": "stream",
     "text": [
      "[LightGBM] [Warning] Found whitespace in feature_names, replace with underlines\n",
      "[LightGBM] [Info] Number of positive: 5471, number of negative: 223182\n",
      "[LightGBM] [Info] Auto-choosing row-wise multi-threading, the overhead of testing was 0.019471 seconds.\n",
      "You can set `force_row_wise=true` to remove the overhead.\n",
      "And if memory is not enough, you can set `force_col_wise=true`.\n",
      "[LightGBM] [Info] Total Bins 5262\n",
      "[LightGBM] [Info] Number of data points in the train set: 228653, number of used features: 37\n",
      "[LightGBM] [Info] [binary:BoostFromScore]: pavg=0.023927 -> initscore=-3.708526\n",
      "[LightGBM] [Info] Start training from score -3.708526\n"
     ]
    },
    {
     "name": "stderr",
     "output_type": "stream",
     "text": [
      " 62%|██████▏   | 84/135 [05:33<03:07,  3.67s/it]"
     ]
    },
    {
     "name": "stdout",
     "output_type": "stream",
     "text": [
      "[LightGBM] [Warning] Found whitespace in feature_names, replace with underlines\n",
      "[LightGBM] [Info] Number of positive: 5176, number of negative: 219651\n",
      "[LightGBM] [Info] Auto-choosing row-wise multi-threading, the overhead of testing was 0.018671 seconds.\n",
      "You can set `force_row_wise=true` to remove the overhead.\n",
      "And if memory is not enough, you can set `force_col_wise=true`.\n",
      "[LightGBM] [Info] Total Bins 5264\n",
      "[LightGBM] [Info] Number of data points in the train set: 224827, number of used features: 38\n",
      "[LightGBM] [Info] [binary:BoostFromScore]: pavg=0.023022 -> initscore=-3.748007\n",
      "[LightGBM] [Info] Start training from score -3.748007\n"
     ]
    },
    {
     "name": "stderr",
     "output_type": "stream",
     "text": [
      " 63%|██████▎   | 85/135 [05:36<02:53,  3.48s/it]"
     ]
    },
    {
     "name": "stdout",
     "output_type": "stream",
     "text": [
      "[LightGBM] [Warning] Found whitespace in feature_names, replace with underlines\n",
      "[LightGBM] [Info] Number of positive: 5656, number of negative: 237313\n",
      "[LightGBM] [Info] Auto-choosing row-wise multi-threading, the overhead of testing was 0.019704 seconds.\n",
      "You can set `force_row_wise=true` to remove the overhead.\n",
      "And if memory is not enough, you can set `force_col_wise=true`.\n",
      "[LightGBM] [Info] Total Bins 5284\n",
      "[LightGBM] [Info] Number of data points in the train set: 242969, number of used features: 38\n",
      "[LightGBM] [Info] [binary:BoostFromScore]: pavg=0.023279 -> initscore=-3.736663\n",
      "[LightGBM] [Info] Start training from score -3.736663\n"
     ]
    },
    {
     "name": "stderr",
     "output_type": "stream",
     "text": [
      " 64%|██████▎   | 86/135 [05:39<02:47,  3.41s/it]"
     ]
    },
    {
     "name": "stdout",
     "output_type": "stream",
     "text": [
      "[LightGBM] [Warning] Found whitespace in feature_names, replace with underlines\n",
      "[LightGBM] [Info] Number of positive: 5562, number of negative: 237464\n",
      "[LightGBM] [Info] Auto-choosing row-wise multi-threading, the overhead of testing was 0.019870 seconds.\n",
      "You can set `force_row_wise=true` to remove the overhead.\n",
      "And if memory is not enough, you can set `force_col_wise=true`.\n",
      "[LightGBM] [Info] Total Bins 5287\n",
      "[LightGBM] [Info] Number of data points in the train set: 243026, number of used features: 38\n",
      "[LightGBM] [Info] [binary:BoostFromScore]: pavg=0.022886 -> initscore=-3.754058\n",
      "[LightGBM] [Info] Start training from score -3.754058\n"
     ]
    },
    {
     "name": "stderr",
     "output_type": "stream",
     "text": [
      " 64%|██████▍   | 87/135 [05:42<02:41,  3.37s/it]"
     ]
    },
    {
     "name": "stdout",
     "output_type": "stream",
     "text": [
      "[LightGBM] [Warning] Found whitespace in feature_names, replace with underlines\n",
      "[LightGBM] [Info] Number of positive: 5430, number of negative: 230894\n",
      "[LightGBM] [Info] Auto-choosing row-wise multi-threading, the overhead of testing was 0.018514 seconds.\n",
      "You can set `force_row_wise=true` to remove the overhead.\n",
      "And if memory is not enough, you can set `force_col_wise=true`.\n",
      "[LightGBM] [Info] Total Bins 5411\n",
      "[LightGBM] [Info] Number of data points in the train set: 236324, number of used features: 38\n",
      "[LightGBM] [Info] [binary:BoostFromScore]: pavg=0.022977 -> initscore=-3.750020\n",
      "[LightGBM] [Info] Start training from score -3.750020\n"
     ]
    },
    {
     "name": "stderr",
     "output_type": "stream",
     "text": [
      " 65%|██████▌   | 88/135 [05:46<02:36,  3.32s/it]"
     ]
    },
    {
     "name": "stdout",
     "output_type": "stream",
     "text": [
      "[LightGBM] [Warning] Found whitespace in feature_names, replace with underlines\n",
      "[LightGBM] [Info] Number of positive: 5383, number of negative: 221587\n",
      "[LightGBM] [Info] Auto-choosing row-wise multi-threading, the overhead of testing was 0.020168 seconds.\n",
      "You can set `force_row_wise=true` to remove the overhead.\n",
      "And if memory is not enough, you can set `force_col_wise=true`.\n",
      "[LightGBM] [Info] Total Bins 5275\n",
      "[LightGBM] [Info] Number of data points in the train set: 226970, number of used features: 37\n",
      "[LightGBM] [Info] [binary:BoostFromScore]: pavg=0.023717 -> initscore=-3.717569\n",
      "[LightGBM] [Info] Start training from score -3.717569\n"
     ]
    },
    {
     "name": "stderr",
     "output_type": "stream",
     "text": [
      " 66%|██████▌   | 89/135 [05:49<02:28,  3.24s/it]"
     ]
    },
    {
     "name": "stdout",
     "output_type": "stream",
     "text": [
      "[LightGBM] [Warning] Found whitespace in feature_names, replace with underlines\n",
      "[LightGBM] [Info] Number of positive: 5778, number of negative: 236587\n",
      "[LightGBM] [Info] Auto-choosing row-wise multi-threading, the overhead of testing was 0.020376 seconds.\n",
      "You can set `force_row_wise=true` to remove the overhead.\n",
      "And if memory is not enough, you can set `force_col_wise=true`.\n",
      "[LightGBM] [Info] Total Bins 5380\n",
      "[LightGBM] [Info] Number of data points in the train set: 242365, number of used features: 37\n",
      "[LightGBM] [Info] [binary:BoostFromScore]: pavg=0.023840 -> initscore=-3.712258\n",
      "[LightGBM] [Info] Start training from score -3.712258\n"
     ]
    },
    {
     "name": "stderr",
     "output_type": "stream",
     "text": [
      " 67%|██████▋   | 90/135 [05:52<02:25,  3.24s/it]"
     ]
    },
    {
     "name": "stdout",
     "output_type": "stream",
     "text": [
      "[LightGBM] [Warning] Found whitespace in feature_names, replace with underlines\n",
      "[LightGBM] [Info] Number of positive: 5702, number of negative: 235065\n",
      "[LightGBM] [Info] Auto-choosing row-wise multi-threading, the overhead of testing was 0.020927 seconds.\n",
      "You can set `force_row_wise=true` to remove the overhead.\n",
      "And if memory is not enough, you can set `force_col_wise=true`.\n",
      "[LightGBM] [Info] Total Bins 5337\n",
      "[LightGBM] [Info] Number of data points in the train set: 240767, number of used features: 37\n",
      "[LightGBM] [Info] [binary:BoostFromScore]: pavg=0.023683 -> initscore=-3.719045\n",
      "[LightGBM] [Info] Start training from score -3.719045\n"
     ]
    },
    {
     "name": "stderr",
     "output_type": "stream",
     "text": [
      " 67%|██████▋   | 91/135 [05:55<02:26,  3.32s/it]"
     ]
    },
    {
     "name": "stdout",
     "output_type": "stream",
     "text": [
      "[LightGBM] [Warning] Found whitespace in feature_names, replace with underlines\n",
      "[LightGBM] [Info] Number of positive: 6171, number of negative: 253847\n",
      "[LightGBM] [Info] Auto-choosing row-wise multi-threading, the overhead of testing was 0.020369 seconds.\n",
      "You can set `force_row_wise=true` to remove the overhead.\n",
      "And if memory is not enough, you can set `force_col_wise=true`.\n",
      "[LightGBM] [Info] Total Bins 5271\n",
      "[LightGBM] [Info] Number of data points in the train set: 260018, number of used features: 37\n",
      "[LightGBM] [Info] [binary:BoostFromScore]: pavg=0.023733 -> initscore=-3.716871\n",
      "[LightGBM] [Info] Start training from score -3.716871\n"
     ]
    },
    {
     "name": "stderr",
     "output_type": "stream",
     "text": [
      " 68%|██████▊   | 92/135 [05:59<02:25,  3.37s/it]"
     ]
    },
    {
     "name": "stdout",
     "output_type": "stream",
     "text": [
      "[LightGBM] [Warning] Found whitespace in feature_names, replace with underlines\n",
      "[LightGBM] [Info] Number of positive: 4886, number of negative: 206948\n",
      "[LightGBM] [Info] Auto-choosing row-wise multi-threading, the overhead of testing was 0.016975 seconds.\n",
      "You can set `force_row_wise=true` to remove the overhead.\n",
      "And if memory is not enough, you can set `force_col_wise=true`.\n",
      "[LightGBM] [Info] Total Bins 5261\n",
      "[LightGBM] [Info] Number of data points in the train set: 211834, number of used features: 38\n",
      "[LightGBM] [Info] [binary:BoostFromScore]: pavg=0.023065 -> initscore=-3.746094\n",
      "[LightGBM] [Info] Start training from score -3.746094\n"
     ]
    },
    {
     "name": "stderr",
     "output_type": "stream",
     "text": [
      " 69%|██████▉   | 93/135 [06:02<02:15,  3.23s/it]"
     ]
    },
    {
     "name": "stdout",
     "output_type": "stream",
     "text": [
      "[LightGBM] [Warning] Found whitespace in feature_names, replace with underlines\n",
      "[LightGBM] [Info] Number of positive: 6034, number of negative: 247835\n",
      "[LightGBM] [Info] Auto-choosing row-wise multi-threading, the overhead of testing was 0.026193 seconds.\n",
      "You can set `force_row_wise=true` to remove the overhead.\n",
      "And if memory is not enough, you can set `force_col_wise=true`.\n",
      "[LightGBM] [Info] Total Bins 5285\n",
      "[LightGBM] [Info] Number of data points in the train set: 253869, number of used features: 39\n",
      "[LightGBM] [Info] [binary:BoostFromScore]: pavg=0.023768 -> initscore=-3.715353\n",
      "[LightGBM] [Info] Start training from score -3.715353\n"
     ]
    },
    {
     "name": "stderr",
     "output_type": "stream",
     "text": [
      " 70%|██████▉   | 94/135 [06:05<02:14,  3.28s/it]"
     ]
    },
    {
     "name": "stdout",
     "output_type": "stream",
     "text": [
      "[LightGBM] [Warning] Found whitespace in feature_names, replace with underlines\n",
      "[LightGBM] [Info] Number of positive: 10106, number of negative: 418515\n",
      "[LightGBM] [Info] Auto-choosing row-wise multi-threading, the overhead of testing was 0.034929 seconds.\n",
      "You can set `force_row_wise=true` to remove the overhead.\n",
      "And if memory is not enough, you can set `force_col_wise=true`.\n",
      "[LightGBM] [Info] Total Bins 5283\n",
      "[LightGBM] [Info] Number of data points in the train set: 428621, number of used features: 38\n",
      "[LightGBM] [Info] [binary:BoostFromScore]: pavg=0.023578 -> initscore=-3.723583\n",
      "[LightGBM] [Info] Start training from score -3.723583\n"
     ]
    },
    {
     "name": "stderr",
     "output_type": "stream",
     "text": [
      " 70%|███████   | 95/135 [06:11<02:37,  3.93s/it]"
     ]
    },
    {
     "name": "stdout",
     "output_type": "stream",
     "text": [
      "[LightGBM] [Warning] Found whitespace in feature_names, replace with underlines\n",
      "[LightGBM] [Info] Number of positive: 10568, number of negative: 433654\n",
      "[LightGBM] [Info] Auto-choosing row-wise multi-threading, the overhead of testing was 0.032328 seconds.\n",
      "You can set `force_row_wise=true` to remove the overhead.\n",
      "And if memory is not enough, you can set `force_col_wise=true`.\n",
      "[LightGBM] [Info] Total Bins 5273\n",
      "[LightGBM] [Info] Number of data points in the train set: 444222, number of used features: 38\n",
      "[LightGBM] [Info] [binary:BoostFromScore]: pavg=0.023790 -> initscore=-3.714416\n",
      "[LightGBM] [Info] Start training from score -3.714416\n"
     ]
    },
    {
     "name": "stderr",
     "output_type": "stream",
     "text": [
      " 71%|███████   | 96/135 [06:16<02:51,  4.40s/it]"
     ]
    },
    {
     "name": "stdout",
     "output_type": "stream",
     "text": [
      "[LightGBM] [Warning] Found whitespace in feature_names, replace with underlines\n",
      "[LightGBM] [Info] Number of positive: 5967, number of negative: 249165\n",
      "[LightGBM] [Info] Auto-choosing row-wise multi-threading, the overhead of testing was 0.022144 seconds.\n",
      "You can set `force_row_wise=true` to remove the overhead.\n",
      "And if memory is not enough, you can set `force_col_wise=true`.\n",
      "[LightGBM] [Info] Total Bins 5263\n",
      "[LightGBM] [Info] Number of data points in the train set: 255132, number of used features: 37\n",
      "[LightGBM] [Info] [binary:BoostFromScore]: pavg=0.023388 -> initscore=-3.731871\n",
      "[LightGBM] [Info] Start training from score -3.731871\n"
     ]
    },
    {
     "name": "stderr",
     "output_type": "stream",
     "text": [
      " 72%|███████▏  | 97/135 [06:19<02:35,  4.10s/it]"
     ]
    },
    {
     "name": "stdout",
     "output_type": "stream",
     "text": [
      "[LightGBM] [Warning] Found whitespace in feature_names, replace with underlines\n",
      "[LightGBM] [Info] Number of positive: 5674, number of negative: 238909\n",
      "[LightGBM] [Info] Auto-choosing row-wise multi-threading, the overhead of testing was 0.020229 seconds.\n",
      "You can set `force_row_wise=true` to remove the overhead.\n",
      "And if memory is not enough, you can set `force_col_wise=true`.\n",
      "[LightGBM] [Info] Total Bins 5273\n",
      "[LightGBM] [Info] Number of data points in the train set: 244583, number of used features: 37\n",
      "[LightGBM] [Info] [binary:BoostFromScore]: pavg=0.023199 -> initscore=-3.740188\n",
      "[LightGBM] [Info] Start training from score -3.740188\n"
     ]
    },
    {
     "name": "stderr",
     "output_type": "stream",
     "text": [
      " 73%|███████▎  | 98/135 [06:23<02:21,  3.83s/it]"
     ]
    },
    {
     "name": "stdout",
     "output_type": "stream",
     "text": [
      "[LightGBM] [Warning] Found whitespace in feature_names, replace with underlines\n",
      "[LightGBM] [Info] Number of positive: 10420, number of negative: 436375\n",
      "[LightGBM] [Info] Auto-choosing row-wise multi-threading, the overhead of testing was 0.037599 seconds.\n",
      "You can set `force_row_wise=true` to remove the overhead.\n",
      "And if memory is not enough, you can set `force_col_wise=true`.\n",
      "[LightGBM] [Info] Total Bins 5277\n",
      "[LightGBM] [Info] Number of data points in the train set: 446795, number of used features: 38\n",
      "[LightGBM] [Info] [binary:BoostFromScore]: pavg=0.023322 -> initscore=-3.734775\n",
      "[LightGBM] [Info] Start training from score -3.734775\n"
     ]
    },
    {
     "name": "stderr",
     "output_type": "stream",
     "text": [
      " 73%|███████▎  | 99/135 [06:28<02:35,  4.32s/it]"
     ]
    },
    {
     "name": "stdout",
     "output_type": "stream",
     "text": [
      "[LightGBM] [Warning] Found whitespace in feature_names, replace with underlines\n",
      "[LightGBM] [Info] Number of positive: 5689, number of negative: 236039\n",
      "[LightGBM] [Info] Auto-choosing row-wise multi-threading, the overhead of testing was 0.019017 seconds.\n",
      "You can set `force_row_wise=true` to remove the overhead.\n",
      "And if memory is not enough, you can set `force_col_wise=true`.\n",
      "[LightGBM] [Info] Total Bins 5268\n",
      "[LightGBM] [Info] Number of data points in the train set: 241728, number of used features: 37\n",
      "[LightGBM] [Info] [binary:BoostFromScore]: pavg=0.023535 -> initscore=-3.725463\n",
      "[LightGBM] [Info] Start training from score -3.725463\n"
     ]
    },
    {
     "name": "stderr",
     "output_type": "stream",
     "text": [
      " 74%|███████▍  | 100/135 [06:31<02:20,  4.01s/it]"
     ]
    },
    {
     "name": "stdout",
     "output_type": "stream",
     "text": [
      "[LightGBM] [Warning] Found whitespace in feature_names, replace with underlines\n",
      "[LightGBM] [Info] Number of positive: 5463, number of negative: 220445\n",
      "[LightGBM] [Info] Auto-choosing row-wise multi-threading, the overhead of testing was 0.018139 seconds.\n",
      "You can set `force_row_wise=true` to remove the overhead.\n",
      "And if memory is not enough, you can set `force_col_wise=true`.\n",
      "[LightGBM] [Info] Total Bins 5296\n",
      "[LightGBM] [Info] Number of data points in the train set: 225908, number of used features: 39\n",
      "[LightGBM] [Info] [binary:BoostFromScore]: pavg=0.024182 -> initscore=-3.697650\n",
      "[LightGBM] [Info] Start training from score -3.697650\n"
     ]
    },
    {
     "name": "stderr",
     "output_type": "stream",
     "text": [
      " 75%|███████▍  | 101/135 [06:34<02:05,  3.70s/it]"
     ]
    },
    {
     "name": "stdout",
     "output_type": "stream",
     "text": [
      "[LightGBM] [Warning] Found whitespace in feature_names, replace with underlines\n",
      "[LightGBM] [Info] Number of positive: 5564, number of negative: 228181\n",
      "[LightGBM] [Info] Auto-choosing row-wise multi-threading, the overhead of testing was 0.019084 seconds.\n",
      "You can set `force_row_wise=true` to remove the overhead.\n",
      "And if memory is not enough, you can set `force_col_wise=true`.\n",
      "[LightGBM] [Info] Total Bins 5269\n",
      "[LightGBM] [Info] Number of data points in the train set: 233745, number of used features: 37\n",
      "[LightGBM] [Info] [binary:BoostFromScore]: pavg=0.023804 -> initscore=-3.713822\n",
      "[LightGBM] [Info] Start training from score -3.713822\n"
     ]
    },
    {
     "name": "stderr",
     "output_type": "stream",
     "text": [
      " 76%|███████▌  | 102/135 [06:37<01:56,  3.52s/it]"
     ]
    },
    {
     "name": "stdout",
     "output_type": "stream",
     "text": [
      "[LightGBM] [Warning] Found whitespace in feature_names, replace with underlines\n",
      "[LightGBM] [Info] Number of positive: 5432, number of negative: 226475\n",
      "[LightGBM] [Info] Auto-choosing row-wise multi-threading, the overhead of testing was 0.020219 seconds.\n",
      "You can set `force_row_wise=true` to remove the overhead.\n",
      "And if memory is not enough, you can set `force_col_wise=true`.\n",
      "[LightGBM] [Info] Total Bins 5275\n",
      "[LightGBM] [Info] Number of data points in the train set: 231907, number of used features: 37\n",
      "[LightGBM] [Info] [binary:BoostFromScore]: pavg=0.023423 -> initscore=-3.730327\n",
      "[LightGBM] [Info] Start training from score -3.730327\n"
     ]
    },
    {
     "name": "stderr",
     "output_type": "stream",
     "text": [
      " 76%|███████▋  | 103/135 [06:41<01:48,  3.40s/it]"
     ]
    },
    {
     "name": "stdout",
     "output_type": "stream",
     "text": [
      "[LightGBM] [Warning] Found whitespace in feature_names, replace with underlines\n",
      "[LightGBM] [Info] Number of positive: 5828, number of negative: 246659\n",
      "[LightGBM] [Info] Auto-choosing row-wise multi-threading, the overhead of testing was 0.020336 seconds.\n",
      "You can set `force_row_wise=true` to remove the overhead.\n",
      "And if memory is not enough, you can set `force_col_wise=true`.\n",
      "[LightGBM] [Info] Total Bins 5282\n",
      "[LightGBM] [Info] Number of data points in the train set: 252487, number of used features: 38\n",
      "[LightGBM] [Info] [binary:BoostFromScore]: pavg=0.023082 -> initscore=-3.745333\n",
      "[LightGBM] [Info] Start training from score -3.745333\n"
     ]
    },
    {
     "name": "stderr",
     "output_type": "stream",
     "text": [
      " 77%|███████▋  | 104/135 [06:44<01:46,  3.42s/it]"
     ]
    },
    {
     "name": "stdout",
     "output_type": "stream",
     "text": [
      "[LightGBM] [Warning] Found whitespace in feature_names, replace with underlines\n",
      "[LightGBM] [Info] Number of positive: 5175, number of negative: 218354\n",
      "[LightGBM] [Info] Auto-choosing row-wise multi-threading, the overhead of testing was 0.019157 seconds.\n",
      "You can set `force_row_wise=true` to remove the overhead.\n",
      "And if memory is not enough, you can set `force_col_wise=true`.\n",
      "[LightGBM] [Info] Total Bins 5282\n",
      "[LightGBM] [Info] Number of data points in the train set: 223529, number of used features: 38\n",
      "[LightGBM] [Info] [binary:BoostFromScore]: pavg=0.023151 -> initscore=-3.742278\n",
      "[LightGBM] [Info] Start training from score -3.742278\n"
     ]
    },
    {
     "name": "stderr",
     "output_type": "stream",
     "text": [
      " 78%|███████▊  | 105/135 [06:47<01:38,  3.29s/it]"
     ]
    },
    {
     "name": "stdout",
     "output_type": "stream",
     "text": [
      "[LightGBM] [Warning] Found whitespace in feature_names, replace with underlines\n",
      "[LightGBM] [Info] Number of positive: 5460, number of negative: 226296\n",
      "[LightGBM] [Info] Auto-choosing row-wise multi-threading, the overhead of testing was 0.019564 seconds.\n",
      "You can set `force_row_wise=true` to remove the overhead.\n",
      "And if memory is not enough, you can set `force_col_wise=true`.\n",
      "[LightGBM] [Info] Total Bins 5336\n",
      "[LightGBM] [Info] Number of data points in the train set: 231756, number of used features: 37\n",
      "[LightGBM] [Info] [binary:BoostFromScore]: pavg=0.023559 -> initscore=-3.724395\n",
      "[LightGBM] [Info] Start training from score -3.724395\n"
     ]
    },
    {
     "name": "stderr",
     "output_type": "stream",
     "text": [
      " 79%|███████▊  | 106/135 [06:50<01:34,  3.27s/it]"
     ]
    },
    {
     "name": "stdout",
     "output_type": "stream",
     "text": [
      "[LightGBM] [Warning] Found whitespace in feature_names, replace with underlines\n",
      "[LightGBM] [Info] Number of positive: 6064, number of negative: 244786\n",
      "[LightGBM] [Info] Auto-choosing row-wise multi-threading, the overhead of testing was 0.020338 seconds.\n",
      "You can set `force_row_wise=true` to remove the overhead.\n",
      "And if memory is not enough, you can set `force_col_wise=true`.\n",
      "[LightGBM] [Info] Total Bins 5247\n",
      "[LightGBM] [Info] Number of data points in the train set: 250850, number of used features: 35\n",
      "[LightGBM] [Info] [binary:BoostFromScore]: pavg=0.024174 -> initscore=-3.698015\n",
      "[LightGBM] [Info] Start training from score -3.698015\n"
     ]
    },
    {
     "name": "stderr",
     "output_type": "stream",
     "text": [
      " 79%|███████▉  | 107/135 [06:54<01:32,  3.29s/it]"
     ]
    },
    {
     "name": "stdout",
     "output_type": "stream",
     "text": [
      "[LightGBM] [Warning] Found whitespace in feature_names, replace with underlines\n",
      "[LightGBM] [Info] Number of positive: 5213, number of negative: 218293\n",
      "[LightGBM] [Info] Auto-choosing row-wise multi-threading, the overhead of testing was 0.018560 seconds.\n",
      "You can set `force_row_wise=true` to remove the overhead.\n",
      "And if memory is not enough, you can set `force_col_wise=true`.\n",
      "[LightGBM] [Info] Total Bins 5370\n",
      "[LightGBM] [Info] Number of data points in the train set: 223506, number of used features: 37\n",
      "[LightGBM] [Info] [binary:BoostFromScore]: pavg=0.023324 -> initscore=-3.734683\n",
      "[LightGBM] [Info] Start training from score -3.734683\n"
     ]
    },
    {
     "name": "stderr",
     "output_type": "stream",
     "text": [
      " 80%|████████  | 108/135 [06:57<01:27,  3.22s/it]"
     ]
    },
    {
     "name": "stdout",
     "output_type": "stream",
     "text": [
      "[LightGBM] [Warning] Found whitespace in feature_names, replace with underlines\n",
      "[LightGBM] [Info] Number of positive: 5495, number of negative: 226199\n",
      "[LightGBM] [Info] Auto-choosing row-wise multi-threading, the overhead of testing was 0.018975 seconds.\n",
      "You can set `force_row_wise=true` to remove the overhead.\n",
      "And if memory is not enough, you can set `force_col_wise=true`.\n",
      "[LightGBM] [Info] Total Bins 5271\n",
      "[LightGBM] [Info] Number of data points in the train set: 231694, number of used features: 37\n",
      "[LightGBM] [Info] [binary:BoostFromScore]: pavg=0.023717 -> initscore=-3.717577\n",
      "[LightGBM] [Info] Start training from score -3.717577\n"
     ]
    },
    {
     "name": "stderr",
     "output_type": "stream",
     "text": [
      " 81%|████████  | 109/135 [07:00<01:24,  3.24s/it]"
     ]
    },
    {
     "name": "stdout",
     "output_type": "stream",
     "text": [
      "[LightGBM] [Warning] Found whitespace in feature_names, replace with underlines\n",
      "[LightGBM] [Info] Number of positive: 6044, number of negative: 256874\n",
      "[LightGBM] [Info] Auto-choosing row-wise multi-threading, the overhead of testing was 0.022398 seconds.\n",
      "You can set `force_row_wise=true` to remove the overhead.\n",
      "And if memory is not enough, you can set `force_col_wise=true`.\n",
      "[LightGBM] [Info] Total Bins 5275\n",
      "[LightGBM] [Info] Number of data points in the train set: 262918, number of used features: 37\n",
      "[LightGBM] [Info] [binary:BoostFromScore]: pavg=0.022988 -> initscore=-3.749520\n",
      "[LightGBM] [Info] Start training from score -3.749520\n"
     ]
    },
    {
     "name": "stderr",
     "output_type": "stream",
     "text": [
      " 81%|████████▏ | 110/135 [07:04<01:23,  3.35s/it]"
     ]
    },
    {
     "name": "stdout",
     "output_type": "stream",
     "text": [
      "[LightGBM] [Warning] Found whitespace in feature_names, replace with underlines\n",
      "[LightGBM] [Info] Number of positive: 5595, number of negative: 231157\n",
      "[LightGBM] [Info] Auto-choosing row-wise multi-threading, the overhead of testing was 0.020606 seconds.\n",
      "You can set `force_row_wise=true` to remove the overhead.\n",
      "And if memory is not enough, you can set `force_col_wise=true`.\n",
      "[LightGBM] [Info] Total Bins 5337\n",
      "[LightGBM] [Info] Number of data points in the train set: 236752, number of used features: 38\n",
      "[LightGBM] [Info] [binary:BoostFromScore]: pavg=0.023632 -> initscore=-3.721224\n",
      "[LightGBM] [Info] Start training from score -3.721224\n"
     ]
    },
    {
     "name": "stderr",
     "output_type": "stream",
     "text": [
      " 82%|████████▏ | 111/135 [07:07<01:20,  3.36s/it]"
     ]
    },
    {
     "name": "stdout",
     "output_type": "stream",
     "text": [
      "[LightGBM] [Warning] Found whitespace in feature_names, replace with underlines\n",
      "[LightGBM] [Info] Number of positive: 6240, number of negative: 263013\n",
      "[LightGBM] [Info] Auto-choosing row-wise multi-threading, the overhead of testing was 0.021906 seconds.\n",
      "You can set `force_row_wise=true` to remove the overhead.\n",
      "And if memory is not enough, you can set `force_col_wise=true`.\n",
      "[LightGBM] [Info] Total Bins 5276\n",
      "[LightGBM] [Info] Number of data points in the train set: 269253, number of used features: 38\n",
      "[LightGBM] [Info] [binary:BoostFromScore]: pavg=0.023175 -> initscore=-3.741223\n",
      "[LightGBM] [Info] Start training from score -3.741223\n"
     ]
    },
    {
     "name": "stderr",
     "output_type": "stream",
     "text": [
      " 83%|████████▎ | 112/135 [07:10<01:18,  3.39s/it]"
     ]
    },
    {
     "name": "stdout",
     "output_type": "stream",
     "text": [
      "[LightGBM] [Warning] Found whitespace in feature_names, replace with underlines\n",
      "[LightGBM] [Info] Number of positive: 5882, number of negative: 247693\n",
      "[LightGBM] [Info] Auto-choosing row-wise multi-threading, the overhead of testing was 0.022058 seconds.\n",
      "You can set `force_row_wise=true` to remove the overhead.\n",
      "And if memory is not enough, you can set `force_col_wise=true`.\n",
      "[LightGBM] [Info] Total Bins 5261\n",
      "[LightGBM] [Info] Number of data points in the train set: 253575, number of used features: 37\n",
      "[LightGBM] [Info] [binary:BoostFromScore]: pavg=0.023196 -> initscore=-3.740293\n",
      "[LightGBM] [Info] Start training from score -3.740293\n"
     ]
    },
    {
     "name": "stderr",
     "output_type": "stream",
     "text": [
      " 84%|████████▎ | 113/135 [07:14<01:14,  3.37s/it]"
     ]
    },
    {
     "name": "stdout",
     "output_type": "stream",
     "text": [
      "[LightGBM] [Warning] Found whitespace in feature_names, replace with underlines\n",
      "[LightGBM] [Info] Number of positive: 10507, number of negative: 440991\n",
      "[LightGBM] [Info] Auto-choosing row-wise multi-threading, the overhead of testing was 0.035657 seconds.\n",
      "You can set `force_row_wise=true` to remove the overhead.\n",
      "And if memory is not enough, you can set `force_col_wise=true`.\n",
      "[LightGBM] [Info] Total Bins 5285\n",
      "[LightGBM] [Info] Number of data points in the train set: 451498, number of used features: 40\n",
      "[LightGBM] [Info] [binary:BoostFromScore]: pavg=0.023271 -> initscore=-3.736983\n",
      "[LightGBM] [Info] Start training from score -3.736983\n"
     ]
    },
    {
     "name": "stderr",
     "output_type": "stream",
     "text": [
      " 84%|████████▍ | 114/135 [07:19<01:25,  4.06s/it]"
     ]
    },
    {
     "name": "stdout",
     "output_type": "stream",
     "text": [
      "[LightGBM] [Warning] Found whitespace in feature_names, replace with underlines\n",
      "[LightGBM] [Info] Number of positive: 5503, number of negative: 234384\n",
      "[LightGBM] [Info] Auto-choosing row-wise multi-threading, the overhead of testing was 0.022230 seconds.\n",
      "You can set `force_row_wise=true` to remove the overhead.\n",
      "And if memory is not enough, you can set `force_col_wise=true`.\n",
      "[LightGBM] [Info] Total Bins 5338\n",
      "[LightGBM] [Info] Number of data points in the train set: 239887, number of used features: 38\n",
      "[LightGBM] [Info] [binary:BoostFromScore]: pavg=0.022940 -> initscore=-3.751667\n",
      "[LightGBM] [Info] Start training from score -3.751667\n"
     ]
    },
    {
     "name": "stderr",
     "output_type": "stream",
     "text": [
      " 85%|████████▌ | 115/135 [07:23<01:15,  3.78s/it]"
     ]
    },
    {
     "name": "stdout",
     "output_type": "stream",
     "text": [
      "[LightGBM] [Warning] Found whitespace in feature_names, replace with underlines\n",
      "[LightGBM] [Info] Number of positive: 5135, number of negative: 213737\n",
      "[LightGBM] [Info] Auto-choosing row-wise multi-threading, the overhead of testing was 0.018850 seconds.\n",
      "You can set `force_row_wise=true` to remove the overhead.\n",
      "And if memory is not enough, you can set `force_col_wise=true`.\n",
      "[LightGBM] [Info] Total Bins 5360\n",
      "[LightGBM] [Info] Number of data points in the train set: 218872, number of used features: 37\n",
      "[LightGBM] [Info] [binary:BoostFromScore]: pavg=0.023461 -> initscore=-3.728666\n",
      "[LightGBM] [Info] Start training from score -3.728666\n"
     ]
    },
    {
     "name": "stderr",
     "output_type": "stream",
     "text": [
      " 86%|████████▌ | 116/135 [07:26<01:07,  3.54s/it]"
     ]
    },
    {
     "name": "stdout",
     "output_type": "stream",
     "text": [
      "[LightGBM] [Warning] Found whitespace in feature_names, replace with underlines\n",
      "[LightGBM] [Info] Number of positive: 5749, number of negative: 239048\n",
      "[LightGBM] [Info] Auto-choosing row-wise multi-threading, the overhead of testing was 0.019964 seconds.\n",
      "You can set `force_row_wise=true` to remove the overhead.\n",
      "And if memory is not enough, you can set `force_col_wise=true`.\n",
      "[LightGBM] [Info] Total Bins 5292\n",
      "[LightGBM] [Info] Number of data points in the train set: 244797, number of used features: 38\n",
      "[LightGBM] [Info] [binary:BoostFromScore]: pavg=0.023485 -> initscore=-3.727638\n",
      "[LightGBM] [Info] Start training from score -3.727638\n"
     ]
    },
    {
     "name": "stderr",
     "output_type": "stream",
     "text": [
      " 87%|████████▋ | 117/135 [07:29<01:03,  3.51s/it]"
     ]
    },
    {
     "name": "stdout",
     "output_type": "stream",
     "text": [
      "[LightGBM] [Warning] Found whitespace in feature_names, replace with underlines\n",
      "[LightGBM] [Info] Number of positive: 5858, number of negative: 237628\n",
      "[LightGBM] [Info] Auto-choosing row-wise multi-threading, the overhead of testing was 0.019433 seconds.\n",
      "You can set `force_row_wise=true` to remove the overhead.\n",
      "And if memory is not enough, you can set `force_col_wise=true`.\n",
      "[LightGBM] [Info] Total Bins 5268\n",
      "[LightGBM] [Info] Number of data points in the train set: 243486, number of used features: 37\n",
      "[LightGBM] [Info] [binary:BoostFromScore]: pavg=0.024059 -> initscore=-3.702898\n",
      "[LightGBM] [Info] Start training from score -3.702898\n"
     ]
    },
    {
     "name": "stderr",
     "output_type": "stream",
     "text": [
      " 87%|████████▋ | 118/135 [07:32<00:57,  3.41s/it]"
     ]
    },
    {
     "name": "stdout",
     "output_type": "stream",
     "text": [
      "[LightGBM] [Warning] Found whitespace in feature_names, replace with underlines\n",
      "[LightGBM] [Info] Number of positive: 5224, number of negative: 214625\n",
      "[LightGBM] [Info] Auto-choosing row-wise multi-threading, the overhead of testing was 0.019453 seconds.\n",
      "You can set `force_row_wise=true` to remove the overhead.\n",
      "And if memory is not enough, you can set `force_col_wise=true`.\n",
      "[LightGBM] [Info] Total Bins 5270\n",
      "[LightGBM] [Info] Number of data points in the train set: 219849, number of used features: 37\n",
      "[LightGBM] [Info] [binary:BoostFromScore]: pavg=0.023762 -> initscore=-3.715629\n",
      "[LightGBM] [Info] Start training from score -3.715629\n"
     ]
    },
    {
     "name": "stderr",
     "output_type": "stream",
     "text": [
      " 88%|████████▊ | 119/135 [07:35<00:52,  3.26s/it]"
     ]
    },
    {
     "name": "stdout",
     "output_type": "stream",
     "text": [
      "[LightGBM] [Warning] Found whitespace in feature_names, replace with underlines\n",
      "[LightGBM] [Info] Number of positive: 5659, number of negative: 234233\n",
      "[LightGBM] [Info] Auto-choosing row-wise multi-threading, the overhead of testing was 0.020471 seconds.\n",
      "You can set `force_row_wise=true` to remove the overhead.\n",
      "And if memory is not enough, you can set `force_col_wise=true`.\n",
      "[LightGBM] [Info] Total Bins 5261\n",
      "[LightGBM] [Info] Number of data points in the train set: 239892, number of used features: 37\n",
      "[LightGBM] [Info] [binary:BoostFromScore]: pavg=0.023590 -> initscore=-3.723069\n",
      "[LightGBM] [Info] Start training from score -3.723069\n"
     ]
    },
    {
     "name": "stderr",
     "output_type": "stream",
     "text": [
      " 89%|████████▉ | 120/135 [07:38<00:48,  3.24s/it]"
     ]
    },
    {
     "name": "stdout",
     "output_type": "stream",
     "text": [
      "[LightGBM] [Warning] Found whitespace in feature_names, replace with underlines\n",
      "[LightGBM] [Info] Number of positive: 5432, number of negative: 229749\n",
      "[LightGBM] [Info] Auto-choosing row-wise multi-threading, the overhead of testing was 0.020295 seconds.\n",
      "You can set `force_row_wise=true` to remove the overhead.\n",
      "And if memory is not enough, you can set `force_col_wise=true`.\n",
      "[LightGBM] [Info] Total Bins 5277\n",
      "[LightGBM] [Info] Number of data points in the train set: 235181, number of used features: 37\n",
      "[LightGBM] [Info] [binary:BoostFromScore]: pavg=0.023097 -> initscore=-3.744680\n",
      "[LightGBM] [Info] Start training from score -3.744680\n"
     ]
    },
    {
     "name": "stderr",
     "output_type": "stream",
     "text": [
      " 90%|████████▉ | 121/135 [07:41<00:45,  3.24s/it]"
     ]
    },
    {
     "name": "stdout",
     "output_type": "stream",
     "text": [
      "[LightGBM] [Warning] Found whitespace in feature_names, replace with underlines\n",
      "[LightGBM] [Info] Number of positive: 5870, number of negative: 240691\n",
      "[LightGBM] [Info] Auto-choosing row-wise multi-threading, the overhead of testing was 0.021751 seconds.\n",
      "You can set `force_row_wise=true` to remove the overhead.\n",
      "And if memory is not enough, you can set `force_col_wise=true`.\n",
      "[LightGBM] [Info] Total Bins 5376\n",
      "[LightGBM] [Info] Number of data points in the train set: 246561, number of used features: 37\n",
      "[LightGBM] [Info] [binary:BoostFromScore]: pavg=0.023807 -> initscore=-3.713659\n",
      "[LightGBM] [Info] Start training from score -3.713659\n"
     ]
    },
    {
     "name": "stderr",
     "output_type": "stream",
     "text": [
      " 90%|█████████ | 122/135 [07:45<00:42,  3.30s/it]"
     ]
    },
    {
     "name": "stdout",
     "output_type": "stream",
     "text": [
      "[LightGBM] [Warning] Found whitespace in feature_names, replace with underlines\n",
      "[LightGBM] [Info] Number of positive: 5727, number of negative: 242497\n",
      "[LightGBM] [Info] Auto-choosing row-wise multi-threading, the overhead of testing was 0.023380 seconds.\n",
      "You can set `force_row_wise=true` to remove the overhead.\n",
      "And if memory is not enough, you can set `force_col_wise=true`.\n",
      "[LightGBM] [Info] Total Bins 5390\n",
      "[LightGBM] [Info] Number of data points in the train set: 248224, number of used features: 38\n",
      "[LightGBM] [Info] [binary:BoostFromScore]: pavg=0.023072 -> initscore=-3.745798\n",
      "[LightGBM] [Info] Start training from score -3.745798\n"
     ]
    },
    {
     "name": "stderr",
     "output_type": "stream",
     "text": [
      " 91%|█████████ | 123/135 [07:49<00:42,  3.52s/it]"
     ]
    },
    {
     "name": "stdout",
     "output_type": "stream",
     "text": [
      "[LightGBM] [Warning] Found whitespace in feature_names, replace with underlines\n",
      "[LightGBM] [Info] Number of positive: 6051, number of negative: 250520\n",
      "[LightGBM] [Info] Auto-choosing row-wise multi-threading, the overhead of testing was 0.021749 seconds.\n",
      "You can set `force_row_wise=true` to remove the overhead.\n",
      "And if memory is not enough, you can set `force_col_wise=true`.\n",
      "[LightGBM] [Info] Total Bins 5270\n",
      "[LightGBM] [Info] Number of data points in the train set: 256571, number of used features: 37\n",
      "[LightGBM] [Info] [binary:BoostFromScore]: pavg=0.023584 -> initscore=-3.723315\n",
      "[LightGBM] [Info] Start training from score -3.723315\n"
     ]
    },
    {
     "name": "stderr",
     "output_type": "stream",
     "text": [
      " 92%|█████████▏| 124/135 [07:53<00:40,  3.67s/it]"
     ]
    },
    {
     "name": "stdout",
     "output_type": "stream",
     "text": [
      "[LightGBM] [Warning] Found whitespace in feature_names, replace with underlines\n",
      "[LightGBM] [Info] Number of positive: 5892, number of negative: 242812\n",
      "[LightGBM] [Info] Auto-choosing row-wise multi-threading, the overhead of testing was 0.022024 seconds.\n",
      "You can set `force_row_wise=true` to remove the overhead.\n",
      "And if memory is not enough, you can set `force_col_wise=true`.\n",
      "[LightGBM] [Info] Total Bins 5363\n",
      "[LightGBM] [Info] Number of data points in the train set: 248704, number of used features: 37\n",
      "[LightGBM] [Info] [binary:BoostFromScore]: pavg=0.023691 -> initscore=-3.718692\n",
      "[LightGBM] [Info] Start training from score -3.718692\n"
     ]
    },
    {
     "name": "stderr",
     "output_type": "stream",
     "text": [
      " 93%|█████████▎| 125/135 [07:57<00:36,  3.67s/it]"
     ]
    },
    {
     "name": "stdout",
     "output_type": "stream",
     "text": [
      "[LightGBM] [Warning] Found whitespace in feature_names, replace with underlines\n",
      "[LightGBM] [Info] Number of positive: 10634, number of negative: 438009\n",
      "[LightGBM] [Info] Auto-choosing row-wise multi-threading, the overhead of testing was 0.037070 seconds.\n",
      "You can set `force_row_wise=true` to remove the overhead.\n",
      "And if memory is not enough, you can set `force_col_wise=true`.\n",
      "[LightGBM] [Info] Total Bins 5281\n",
      "[LightGBM] [Info] Number of data points in the train set: 448643, number of used features: 38\n",
      "[LightGBM] [Info] [binary:BoostFromScore]: pavg=0.023703 -> initscore=-3.718183\n",
      "[LightGBM] [Info] Start training from score -3.718183\n"
     ]
    },
    {
     "name": "stderr",
     "output_type": "stream",
     "text": [
      " 93%|█████████▎| 126/135 [08:02<00:38,  4.30s/it]"
     ]
    },
    {
     "name": "stdout",
     "output_type": "stream",
     "text": [
      "[LightGBM] [Warning] Found whitespace in feature_names, replace with underlines\n",
      "[LightGBM] [Info] Number of positive: 5544, number of negative: 229060\n",
      "[LightGBM] [Info] Auto-choosing row-wise multi-threading, the overhead of testing was 0.022923 seconds.\n",
      "You can set `force_row_wise=true` to remove the overhead.\n",
      "And if memory is not enough, you can set `force_col_wise=true`.\n",
      "[LightGBM] [Info] Total Bins 5353\n",
      "[LightGBM] [Info] Number of data points in the train set: 234604, number of used features: 37\n",
      "[LightGBM] [Info] [binary:BoostFromScore]: pavg=0.023631 -> initscore=-3.721268\n",
      "[LightGBM] [Info] Start training from score -3.721268\n"
     ]
    },
    {
     "name": "stderr",
     "output_type": "stream",
     "text": [
      " 94%|█████████▍| 127/135 [08:06<00:31,  3.97s/it]"
     ]
    },
    {
     "name": "stdout",
     "output_type": "stream",
     "text": [
      "[LightGBM] [Warning] Found whitespace in feature_names, replace with underlines\n",
      "[LightGBM] [Info] Number of positive: 10471, number of negative: 437264\n",
      "[LightGBM] [Info] Auto-choosing row-wise multi-threading, the overhead of testing was 0.037090 seconds.\n",
      "You can set `force_row_wise=true` to remove the overhead.\n",
      "And if memory is not enough, you can set `force_col_wise=true`.\n",
      "[LightGBM] [Info] Total Bins 5277\n",
      "[LightGBM] [Info] Number of data points in the train set: 447735, number of used features: 39\n",
      "[LightGBM] [Info] [binary:BoostFromScore]: pavg=0.023387 -> initscore=-3.731928\n",
      "[LightGBM] [Info] Start training from score -3.731928\n"
     ]
    },
    {
     "name": "stderr",
     "output_type": "stream",
     "text": [
      " 95%|█████████▍| 128/135 [08:11<00:31,  4.45s/it]"
     ]
    },
    {
     "name": "stdout",
     "output_type": "stream",
     "text": [
      "[LightGBM] [Warning] Found whitespace in feature_names, replace with underlines\n",
      "[LightGBM] [Info] Number of positive: 5645, number of negative: 234021\n",
      "[LightGBM] [Info] Auto-choosing row-wise multi-threading, the overhead of testing was 0.020085 seconds.\n",
      "You can set `force_row_wise=true` to remove the overhead.\n",
      "And if memory is not enough, you can set `force_col_wise=true`.\n",
      "[LightGBM] [Info] Total Bins 5371\n",
      "[LightGBM] [Info] Number of data points in the train set: 239666, number of used features: 37\n",
      "[LightGBM] [Info] [binary:BoostFromScore]: pavg=0.023554 -> initscore=-3.724641\n",
      "[LightGBM] [Info] Start training from score -3.724641\n"
     ]
    },
    {
     "name": "stderr",
     "output_type": "stream",
     "text": [
      " 96%|█████████▌| 129/135 [08:15<00:24,  4.14s/it]"
     ]
    },
    {
     "name": "stdout",
     "output_type": "stream",
     "text": [
      "[LightGBM] [Warning] Found whitespace in feature_names, replace with underlines\n",
      "[LightGBM] [Info] Number of positive: 5325, number of negative: 224316\n",
      "[LightGBM] [Info] Auto-choosing row-wise multi-threading, the overhead of testing was 0.018184 seconds.\n",
      "You can set `force_row_wise=true` to remove the overhead.\n",
      "And if memory is not enough, you can set `force_col_wise=true`.\n",
      "[LightGBM] [Info] Total Bins 5338\n",
      "[LightGBM] [Info] Number of data points in the train set: 229641, number of used features: 37\n",
      "[LightGBM] [Info] [binary:BoostFromScore]: pavg=0.023188 -> initscore=-3.740643\n",
      "[LightGBM] [Info] Start training from score -3.740643\n"
     ]
    },
    {
     "name": "stderr",
     "output_type": "stream",
     "text": [
      " 96%|█████████▋| 130/135 [08:18<00:18,  3.79s/it]"
     ]
    },
    {
     "name": "stdout",
     "output_type": "stream",
     "text": [
      "[LightGBM] [Warning] Found whitespace in feature_names, replace with underlines\n",
      "[LightGBM] [Info] Number of positive: 6117, number of negative: 250838\n",
      "[LightGBM] [Info] Auto-choosing row-wise multi-threading, the overhead of testing was 0.077823 seconds.\n",
      "You can set `force_row_wise=true` to remove the overhead.\n",
      "And if memory is not enough, you can set `force_col_wise=true`.\n",
      "[LightGBM] [Info] Total Bins 5267\n",
      "[LightGBM] [Info] Number of data points in the train set: 256955, number of used features: 37\n",
      "[LightGBM] [Info] [binary:BoostFromScore]: pavg=0.023806 -> initscore=-3.713736\n",
      "[LightGBM] [Info] Start training from score -3.713736\n"
     ]
    },
    {
     "name": "stderr",
     "output_type": "stream",
     "text": [
      " 97%|█████████▋| 131/135 [08:21<00:14,  3.70s/it]"
     ]
    },
    {
     "name": "stdout",
     "output_type": "stream",
     "text": [
      "[LightGBM] [Warning] Found whitespace in feature_names, replace with underlines\n",
      "[LightGBM] [Info] Number of positive: 10507, number of negative: 435248\n",
      "[LightGBM] [Info] Auto-choosing row-wise multi-threading, the overhead of testing was 0.035302 seconds.\n",
      "You can set `force_row_wise=true` to remove the overhead.\n",
      "And if memory is not enough, you can set `force_col_wise=true`.\n",
      "[LightGBM] [Info] Total Bins 5289\n",
      "[LightGBM] [Info] Number of data points in the train set: 445755, number of used features: 40\n",
      "[LightGBM] [Info] [binary:BoostFromScore]: pavg=0.023571 -> initscore=-3.723874\n",
      "[LightGBM] [Info] Start training from score -3.723874\n"
     ]
    },
    {
     "name": "stderr",
     "output_type": "stream",
     "text": [
      " 98%|█████████▊| 132/135 [08:27<00:12,  4.23s/it]"
     ]
    },
    {
     "name": "stdout",
     "output_type": "stream",
     "text": [
      "[LightGBM] [Warning] Found whitespace in feature_names, replace with underlines\n",
      "[LightGBM] [Info] Number of positive: 5465, number of negative: 233632\n",
      "[LightGBM] [Info] Auto-choosing row-wise multi-threading, the overhead of testing was 0.019961 seconds.\n",
      "You can set `force_row_wise=true` to remove the overhead.\n",
      "And if memory is not enough, you can set `force_col_wise=true`.\n",
      "[LightGBM] [Info] Total Bins 5275\n",
      "[LightGBM] [Info] Number of data points in the train set: 239097, number of used features: 37\n",
      "[LightGBM] [Info] [binary:BoostFromScore]: pavg=0.022857 -> initscore=-3.755383\n",
      "[LightGBM] [Info] Start training from score -3.755383\n"
     ]
    },
    {
     "name": "stderr",
     "output_type": "stream",
     "text": [
      " 99%|█████████▊| 133/135 [08:30<00:07,  3.90s/it]"
     ]
    },
    {
     "name": "stdout",
     "output_type": "stream",
     "text": [
      "[LightGBM] [Warning] Found whitespace in feature_names, replace with underlines\n",
      "[LightGBM] [Info] Number of positive: 5656, number of negative: 234175\n",
      "[LightGBM] [Info] Auto-choosing row-wise multi-threading, the overhead of testing was 0.019436 seconds.\n",
      "You can set `force_row_wise=true` to remove the overhead.\n",
      "And if memory is not enough, you can set `force_col_wise=true`.\n",
      "[LightGBM] [Info] Total Bins 5375\n",
      "[LightGBM] [Info] Number of data points in the train set: 239831, number of used features: 38\n",
      "[LightGBM] [Info] [binary:BoostFromScore]: pavg=0.023583 -> initscore=-3.723352\n",
      "[LightGBM] [Info] Start training from score -3.723352\n"
     ]
    },
    {
     "name": "stderr",
     "output_type": "stream",
     "text": [
      " 99%|█████████▉| 134/135 [08:33<00:03,  3.65s/it]"
     ]
    },
    {
     "name": "stdout",
     "output_type": "stream",
     "text": [
      "[LightGBM] [Warning] Found whitespace in feature_names, replace with underlines\n",
      "[LightGBM] [Info] Number of positive: 5738, number of negative: 237911\n",
      "[LightGBM] [Info] Auto-choosing row-wise multi-threading, the overhead of testing was 0.020707 seconds.\n",
      "You can set `force_row_wise=true` to remove the overhead.\n",
      "And if memory is not enough, you can set `force_col_wise=true`.\n",
      "[LightGBM] [Info] Total Bins 5278\n",
      "[LightGBM] [Info] Number of data points in the train set: 243649, number of used features: 38\n",
      "[LightGBM] [Info] [binary:BoostFromScore]: pavg=0.023550 -> initscore=-3.724786\n",
      "[LightGBM] [Info] Start training from score -3.724786\n"
     ]
    },
    {
     "name": "stderr",
     "output_type": "stream",
     "text": [
      "100%|██████████| 135/135 [08:36<00:00,  3.83s/it]\n"
     ]
    }
   ],
   "source": [
    "# Loop de treinamento\n",
    "for train_set in tqdm(training_sets):\n",
    "    df_train = pd.read_csv(os.path.join(DATASET_DIRECTORY, train_set))\n",
    "    df_train[X_columns] = scaler.fit_transform(df_train[X_columns])\n",
    "    \n",
    "    # Mapeie as classes 'Attack' e 'Benign' para 0 e 1\n",
    "    class_mapping = {'Attack': 0, 'Benign': 1}\n",
    "    df_train[y_column] = df_train[y_column].map(dict_2classes)\n",
    "    \n",
    "    lgbm_model = LGBMClassifier()  # Use o LGBMClassifier\n",
    "    lgbm_model.fit(df_train[X_columns], df_train[y_column])"
   ]
  },
  {
   "cell_type": "code",
   "execution_count": 12,
   "metadata": {},
   "outputs": [
    {
     "name": "stderr",
     "output_type": "stream",
     "text": [
      "100%|██████████| 34/34 [01:26<00:00,  2.55s/it]\n"
     ]
    }
   ],
   "source": [
    "# Avaliação no conjunto de teste\n",
    "y_test = []\n",
    "y_pred_lgbm = []\n",
    "\n",
    "for test_set in tqdm(test_sets):\n",
    "    df_test = pd.read_csv(os.path.join(DATASET_DIRECTORY, test_set))\n",
    "    df_test[X_columns] = scaler.transform(df_test[X_columns])\n",
    "    \n",
    "    # Mapeie as classes 'Attack' e 'Benign' para 0 e 1\n",
    "    df_test[y_column] = df_test[y_column].map(dict_2classes)\n",
    "    \n",
    "    y_test += list(df_test[y_column].values)\n",
    "    \n",
    "    # Use o modelo LGBM treinado\n",
    "    y_pred = list(lgbm_model.predict(df_test[X_columns]))\n",
    "    y_pred_lgbm += y_pred"
   ]
  },
  {
   "cell_type": "code",
   "execution_count": 13,
   "metadata": {},
   "outputs": [
    {
     "name": "stdout",
     "output_type": "stream",
     "text": [
      "##### LightGBM (2 classes) #####\n",
      "accuracy_score:  0.9957377839668067\n",
      "recall_score:  0.9449517541584389\n",
      "precision_score:  0.9647810730383926\n",
      "f1_score:  0.9546385463519929\n"
     ]
    }
   ],
   "source": [
    "# Avalie o desempenho do modelo LightGBM\n",
    "print(\"##### LightGBM (2 classes) #####\")\n",
    "print('accuracy_score: ', accuracy_score(y_pred_lgbm, y_test))\n",
    "print('recall_score: ', recall_score(y_pred_lgbm, y_test, average='macro'))\n",
    "print('precision_score: ', precision_score(y_pred_lgbm, y_test, average='macro'))\n",
    "print('f1_score: ', f1_score(y_pred_lgbm, y_test, average='macro'))"
   ]
  },
  {
   "cell_type": "code",
   "execution_count": 14,
   "metadata": {},
   "outputs": [
    {
     "name": "stdout",
     "output_type": "stream",
     "text": [
      "Acurácia: 0.9957377839668067\n",
      "Relatório de Classificação:\n",
      "              precision    recall  f1-score   support\n",
      "\n",
      "      Attack       1.00      1.00      1.00  10096839\n",
      "      Benign       0.89      0.93      0.91    243322\n",
      "\n",
      "    accuracy                           1.00  10340161\n",
      "   macro avg       0.94      0.96      0.95  10340161\n",
      "weighted avg       1.00      1.00      1.00  10340161\n",
      "\n"
     ]
    }
   ],
   "source": [
    "from sklearn.metrics import accuracy_score, classification_report\n",
    "\n",
    "# Avalie o desempenho do modelo\n",
    "accuracy = accuracy_score(y_test, y_pred_lgbm)\n",
    "report = classification_report(y_test, y_pred_lgbm)\n",
    "\n",
    "print(\"Acurácia:\", accuracy)\n",
    "print(\"Relatório de Classificação:\")\n",
    "print(report)"
   ]
  },
  {
   "cell_type": "code",
   "execution_count": 15,
   "metadata": {},
   "outputs": [
    {
     "data": {
      "text/plain": [
       "['modelo_lgbm.pkl']"
      ]
     },
     "execution_count": 15,
     "metadata": {},
     "output_type": "execute_result"
    }
   ],
   "source": [
    "#Salvando o Modelo Treinado\n",
    "import joblib\n",
    "# Salve o modelo treinado em um arquivo\n",
    "joblib.dump(lgbm_model, 'modelo_lgbm.pkl')"
   ]
  },
  {
   "cell_type": "code",
   "execution_count": null,
   "metadata": {},
   "outputs": [],
   "source": []
  }
 ],
 "metadata": {
  "kernelspec": {
   "display_name": "base",
   "language": "python",
   "name": "python3"
  },
  "language_info": {
   "codemirror_mode": {
    "name": "ipython",
    "version": 3
   },
   "file_extension": ".py",
   "mimetype": "text/x-python",
   "name": "python",
   "nbconvert_exporter": "python",
   "pygments_lexer": "ipython3",
   "version": "3.9.12"
  },
  "orig_nbformat": 4
 },
 "nbformat": 4,
 "nbformat_minor": 2
}
